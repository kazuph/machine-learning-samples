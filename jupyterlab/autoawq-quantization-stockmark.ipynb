{
 "cells": [
  {
   "cell_type": "code",
   "execution_count": 2,
   "id": "b3c9d0ef-bee3-487b-bdc6-8253ad8bcf27",
   "metadata": {
    "collapsed": true,
    "jupyter": {
     "outputs_hidden": true
    },
    "tags": []
   },
   "outputs": [
    {
     "name": "stdout",
     "output_type": "stream",
     "text": [
      "Collecting autoawq\n",
      "  Obtaining dependency information for autoawq from https://files.pythonhosted.org/packages/e0/45/4ec85c794a9436f14b8ed408511300622f6fc4ca8ab58ec7e34ddf5f2496/autoawq-0.1.0-cp310-cp310-manylinux2014_x86_64.whl.metadata\n",
      "  Using cached autoawq-0.1.0-cp310-cp310-manylinux2014_x86_64.whl.metadata (12 kB)\n",
      "Requirement already satisfied: torch>=2.0.0 in /usr/local/lib/python3.10/dist-packages (from autoawq) (2.0.1+cu118)\n",
      "Requirement already satisfied: transformers>=4.32.0 in /usr/local/lib/python3.10/dist-packages (from autoawq) (4.33.2)\n",
      "Requirement already satisfied: tokenizers>=0.12.1 in /usr/local/lib/python3.10/dist-packages (from autoawq) (0.13.3)\n",
      "Collecting accelerate (from autoawq)\n",
      "  Obtaining dependency information for accelerate from https://files.pythonhosted.org/packages/d9/92/2d3aecf9f4a192968035880be3e2fc8b48d541c7128f7c936f430d6f96da/accelerate-0.23.0-py3-none-any.whl.metadata\n",
      "  Using cached accelerate-0.23.0-py3-none-any.whl.metadata (18 kB)\n",
      "Requirement already satisfied: sentencepiece in /usr/local/lib/python3.10/dist-packages (from autoawq) (0.1.99)\n",
      "Collecting lm-eval (from autoawq)\n",
      "  Using cached lm_eval-0.3.0-py3-none-any.whl (178 kB)\n",
      "Collecting texttable (from autoawq)\n",
      "  Using cached texttable-1.6.7-py2.py3-none-any.whl (10 kB)\n",
      "Collecting toml (from autoawq)\n",
      "  Using cached toml-0.10.2-py2.py3-none-any.whl (16 kB)\n",
      "Collecting attributedict (from autoawq)\n",
      "  Using cached attributedict-0.3.0-py3-none-any.whl (14 kB)\n",
      "Collecting protobuf (from autoawq)\n",
      "  Obtaining dependency information for protobuf from https://files.pythonhosted.org/packages/bb/c3/6a06208ecf0934ecaf509b51c52a6cf688586f54ae81ac65c56124571494/protobuf-4.24.3-cp37-abi3-manylinux2014_x86_64.whl.metadata\n",
      "  Downloading protobuf-4.24.3-cp37-abi3-manylinux2014_x86_64.whl.metadata (540 bytes)\n",
      "Requirement already satisfied: torchvision in /usr/local/lib/python3.10/dist-packages (from autoawq) (0.15.2+cu118)\n",
      "Collecting tabulate (from autoawq)\n",
      "  Using cached tabulate-0.9.0-py3-none-any.whl (35 kB)\n",
      "Requirement already satisfied: filelock in /usr/local/lib/python3.10/dist-packages (from torch>=2.0.0->autoawq) (3.9.0)\n",
      "Requirement already satisfied: typing-extensions in /usr/local/lib/python3.10/dist-packages (from torch>=2.0.0->autoawq) (4.4.0)\n",
      "Requirement already satisfied: sympy in /usr/local/lib/python3.10/dist-packages (from torch>=2.0.0->autoawq) (1.11.1)\n",
      "Requirement already satisfied: networkx in /usr/local/lib/python3.10/dist-packages (from torch>=2.0.0->autoawq) (3.0)\n",
      "Requirement already satisfied: jinja2 in /usr/local/lib/python3.10/dist-packages (from torch>=2.0.0->autoawq) (3.1.2)\n",
      "Requirement already satisfied: triton==2.0.0 in /usr/local/lib/python3.10/dist-packages (from torch>=2.0.0->autoawq) (2.0.0)\n",
      "Collecting cmake (from triton==2.0.0->torch>=2.0.0->autoawq)\n",
      "  Obtaining dependency information for cmake from https://files.pythonhosted.org/packages/de/94/cba4b3ddc0d4555967cce8fd6e9fbced98a6bf62857db71c2400a7b6e183/cmake-3.27.5-py2.py3-none-manylinux2014_x86_64.manylinux_2_17_x86_64.whl.metadata\n",
      "  Using cached cmake-3.27.5-py2.py3-none-manylinux2014_x86_64.manylinux_2_17_x86_64.whl.metadata (6.7 kB)\n",
      "Requirement already satisfied: lit in /usr/local/lib/python3.10/dist-packages (from triton==2.0.0->torch>=2.0.0->autoawq) (15.0.7)\n",
      "Requirement already satisfied: huggingface-hub<1.0,>=0.15.1 in /usr/local/lib/python3.10/dist-packages (from transformers>=4.32.0->autoawq) (0.17.2)\n",
      "Requirement already satisfied: numpy>=1.17 in /usr/local/lib/python3.10/dist-packages (from transformers>=4.32.0->autoawq) (1.24.1)\n",
      "Requirement already satisfied: packaging>=20.0 in /usr/local/lib/python3.10/dist-packages (from transformers>=4.32.0->autoawq) (23.1)\n",
      "Requirement already satisfied: pyyaml>=5.1 in /usr/local/lib/python3.10/dist-packages (from transformers>=4.32.0->autoawq) (6.0.1)\n",
      "Requirement already satisfied: regex!=2019.12.17 in /usr/local/lib/python3.10/dist-packages (from transformers>=4.32.0->autoawq) (2023.8.8)\n",
      "Requirement already satisfied: requests in /usr/local/lib/python3.10/dist-packages (from transformers>=4.32.0->autoawq) (2.31.0)\n",
      "Requirement already satisfied: safetensors>=0.3.1 in /usr/local/lib/python3.10/dist-packages (from transformers>=4.32.0->autoawq) (0.3.3)\n",
      "Requirement already satisfied: tqdm>=4.27 in /usr/local/lib/python3.10/dist-packages (from transformers>=4.32.0->autoawq) (4.66.1)\n",
      "Requirement already satisfied: psutil in /usr/local/lib/python3.10/dist-packages (from accelerate->autoawq) (5.9.5)\n",
      "Collecting rootpath>=0.1.0 (from attributedict->autoawq)\n",
      "  Using cached rootpath-0.1.1-py3-none-any.whl (15 kB)\n",
      "Collecting inspecta>=0.1.0 (from attributedict->autoawq)\n",
      "  Using cached inspecta-0.1.3-py3-none-any.whl (9.2 kB)\n",
      "Collecting colour-runner>=0.0.5 (from attributedict->autoawq)\n",
      "  Using cached colour_runner-0.1.1-py2.py3-none-any.whl (3.7 kB)\n",
      "Collecting deepdiff>=3.3.0 (from attributedict->autoawq)\n",
      "  Obtaining dependency information for deepdiff>=3.3.0 from https://files.pythonhosted.org/packages/0a/aa/ad75c66354a1b3619e73879a48219488e5ea91f26569d2f1fd4ba616cacd/deepdiff-6.5.0-py3-none-any.whl.metadata\n",
      "  Using cached deepdiff-6.5.0-py3-none-any.whl.metadata (5.3 kB)\n",
      "Collecting tox>=3.0.0 (from attributedict->autoawq)\n",
      "  Obtaining dependency information for tox>=3.0.0 from https://files.pythonhosted.org/packages/f5/f9/963052e8b825645c54262dce7b7c88691505e3b9ee10a3e3667711eaaf21/tox-4.11.3-py3-none-any.whl.metadata\n",
      "  Using cached tox-4.11.3-py3-none-any.whl.metadata (5.0 kB)\n",
      "Collecting coverage>=4.5.2 (from attributedict->autoawq)\n",
      "  Obtaining dependency information for coverage>=4.5.2 from https://files.pythonhosted.org/packages/13/6f/ebfba55e56aaf256dcae2b8e52a3ec3f1212a11a6d16cf9367d547a862b9/coverage-7.3.1-cp310-cp310-manylinux_2_5_x86_64.manylinux1_x86_64.manylinux_2_17_x86_64.manylinux2014_x86_64.whl.metadata\n",
      "  Using cached coverage-7.3.1-cp310-cp310-manylinux_2_5_x86_64.manylinux1_x86_64.manylinux_2_17_x86_64.manylinux2014_x86_64.whl.metadata (8.1 kB)\n",
      "Collecting codecov>=2.0.15 (from attributedict->autoawq)\n",
      "  Using cached codecov-2.1.13-py2.py3-none-any.whl (16 kB)\n",
      "Collecting datasets>=2.0.0 (from lm-eval->autoawq)\n",
      "  Obtaining dependency information for datasets>=2.0.0 from https://files.pythonhosted.org/packages/09/7e/fd4d6441a541dba61d0acb3c1fd5df53214c2e9033854e837a99dd9e0793/datasets-2.14.5-py3-none-any.whl.metadata\n",
      "  Using cached datasets-2.14.5-py3-none-any.whl.metadata (19 kB)\n",
      "Collecting jsonlines (from lm-eval->autoawq)\n",
      "  Obtaining dependency information for jsonlines from https://files.pythonhosted.org/packages/f8/62/d9ba6323b9202dd2fe166beab8a86d29465c41a0288cbe229fac60c1ab8d/jsonlines-4.0.0-py3-none-any.whl.metadata\n",
      "  Using cached jsonlines-4.0.0-py3-none-any.whl.metadata (1.6 kB)\n",
      "Collecting numexpr (from lm-eval->autoawq)\n",
      "  Obtaining dependency information for numexpr from https://files.pythonhosted.org/packages/af/1f/a9bc507c4d53c0be52d2f1334dd79e13dc4663b64709b687a416506c2b86/numexpr-2.8.6-cp310-cp310-manylinux_2_17_x86_64.manylinux2014_x86_64.whl.metadata\n",
      "  Using cached numexpr-2.8.6-cp310-cp310-manylinux_2_17_x86_64.manylinux2014_x86_64.whl.metadata (8.0 kB)\n",
      "Collecting openai>=0.6.4 (from lm-eval->autoawq)\n",
      "  Obtaining dependency information for openai>=0.6.4 from https://files.pythonhosted.org/packages/1e/9f/385c25502f437686e4aa715969e5eaf5c2cb5e5ffa7c5cdd52f3c6ae967a/openai-0.28.1-py3-none-any.whl.metadata\n",
      "  Downloading openai-0.28.1-py3-none-any.whl.metadata (11 kB)\n",
      "Collecting pybind11>=2.6.2 (from lm-eval->autoawq)\n",
      "  Obtaining dependency information for pybind11>=2.6.2 from https://files.pythonhosted.org/packages/06/55/9f73c32dda93fa4f539fafa268f9504e83c489f460c380371d94296126cd/pybind11-2.11.1-py3-none-any.whl.metadata\n",
      "  Using cached pybind11-2.11.1-py3-none-any.whl.metadata (9.5 kB)\n",
      "Collecting pycountry (from lm-eval->autoawq)\n",
      "  Using cached pycountry-22.3.5-py2.py3-none-any.whl\n",
      "Collecting pytablewriter (from lm-eval->autoawq)\n",
      "  Obtaining dependency information for pytablewriter from https://files.pythonhosted.org/packages/63/65/7a18755516de6a5b74aa75522ea1a9df36e0b65fb2e6e07137bcddd83eae/pytablewriter-1.1.0-py3-none-any.whl.metadata\n",
      "  Downloading pytablewriter-1.1.0-py3-none-any.whl.metadata (36 kB)\n",
      "Collecting rouge-score>=0.0.4 (from lm-eval->autoawq)\n",
      "  Using cached rouge_score-0.1.2-py3-none-any.whl\n",
      "Collecting sacrebleu==1.5.0 (from lm-eval->autoawq)\n",
      "  Using cached sacrebleu-1.5.0-py3-none-any.whl (65 kB)\n",
      "Collecting scikit-learn>=0.24.1 (from lm-eval->autoawq)\n",
      "  Obtaining dependency information for scikit-learn>=0.24.1 from https://files.pythonhosted.org/packages/7d/af/03d3a7d5719d00486c296ddd876e6f07a681bc4e079cb45348d2f261a748/scikit_learn-1.3.1-cp310-cp310-manylinux_2_17_x86_64.manylinux2014_x86_64.whl.metadata\n",
      "  Downloading scikit_learn-1.3.1-cp310-cp310-manylinux_2_17_x86_64.manylinux2014_x86_64.whl.metadata (11 kB)\n",
      "Collecting sqlitedict (from lm-eval->autoawq)\n",
      "  Using cached sqlitedict-2.1.0-py3-none-any.whl\n",
      "Collecting tqdm-multiprocess (from lm-eval->autoawq)\n",
      "  Using cached tqdm_multiprocess-0.0.11-py3-none-any.whl (9.8 kB)\n",
      "Collecting zstandard (from lm-eval->autoawq)\n",
      "  Using cached zstandard-0.21.0-cp310-cp310-manylinux_2_17_x86_64.manylinux2014_x86_64.whl (2.7 MB)\n",
      "Collecting portalocker (from sacrebleu==1.5.0->lm-eval->autoawq)\n",
      "  Obtaining dependency information for portalocker from https://files.pythonhosted.org/packages/17/9e/87671efcca80ba6203811540ed1f9c0462c1609d2281d7b7f53cef05da3d/portalocker-2.8.2-py3-none-any.whl.metadata\n",
      "  Using cached portalocker-2.8.2-py3-none-any.whl.metadata (8.5 kB)\n",
      "Requirement already satisfied: pillow!=8.3.*,>=5.3.0 in /usr/local/lib/python3.10/dist-packages (from torchvision->autoawq) (9.3.0)\n",
      "Collecting blessings (from colour-runner>=0.0.5->attributedict->autoawq)\n",
      "  Using cached blessings-1.7-py3-none-any.whl (18 kB)\n",
      "Requirement already satisfied: pygments in /usr/local/lib/python3.10/dist-packages (from colour-runner>=0.0.5->attributedict->autoawq) (2.16.1)\n",
      "Collecting pyarrow>=8.0.0 (from datasets>=2.0.0->lm-eval->autoawq)\n",
      "  Obtaining dependency information for pyarrow>=8.0.0 from https://files.pythonhosted.org/packages/a1/14/4ffed5e85b96f0c0ae9e026f940bf71ac7dfbfbffff9f3fe339e32bfce2c/pyarrow-13.0.0-cp310-cp310-manylinux_2_28_x86_64.whl.metadata\n",
      "  Using cached pyarrow-13.0.0-cp310-cp310-manylinux_2_28_x86_64.whl.metadata (3.0 kB)\n",
      "Collecting dill<0.3.8,>=0.3.0 (from datasets>=2.0.0->lm-eval->autoawq)\n",
      "  Obtaining dependency information for dill<0.3.8,>=0.3.0 from https://files.pythonhosted.org/packages/f5/3a/74a29b11cf2cdfcd6ba89c0cecd70b37cd1ba7b77978ce611eb7a146a832/dill-0.3.7-py3-none-any.whl.metadata\n",
      "  Using cached dill-0.3.7-py3-none-any.whl.metadata (9.9 kB)\n",
      "Collecting pandas (from datasets>=2.0.0->lm-eval->autoawq)\n",
      "  Obtaining dependency information for pandas from https://files.pythonhosted.org/packages/2f/0e/3b74e8f7c908082793adafb02753477f653ccd7e189f3ba070757d2d0e65/pandas-2.1.1-cp310-cp310-manylinux_2_17_x86_64.manylinux2014_x86_64.whl.metadata\n",
      "  Using cached pandas-2.1.1-cp310-cp310-manylinux_2_17_x86_64.manylinux2014_x86_64.whl.metadata (18 kB)\n",
      "Collecting xxhash (from datasets>=2.0.0->lm-eval->autoawq)\n",
      "  Obtaining dependency information for xxhash from https://files.pythonhosted.org/packages/13/c3/e942893f4864a424514c81640f114980cfd5aff7e7414d1e0255f4571111/xxhash-3.3.0-cp310-cp310-manylinux_2_17_x86_64.manylinux2014_x86_64.whl.metadata\n",
      "  Using cached xxhash-3.3.0-cp310-cp310-manylinux_2_17_x86_64.manylinux2014_x86_64.whl.metadata (12 kB)\n",
      "Collecting multiprocess (from datasets>=2.0.0->lm-eval->autoawq)\n",
      "  Obtaining dependency information for multiprocess from https://files.pythonhosted.org/packages/35/a8/36d8d7b3e46b377800d8dec47891cdf05842d1a2366909ae4a0c89fbc5e6/multiprocess-0.70.15-py310-none-any.whl.metadata\n",
      "  Using cached multiprocess-0.70.15-py310-none-any.whl.metadata (7.2 kB)\n",
      "Collecting fsspec[http]<2023.9.0,>=2023.1.0 (from datasets>=2.0.0->lm-eval->autoawq)\n",
      "  Obtaining dependency information for fsspec[http]<2023.9.0,>=2023.1.0 from https://files.pythonhosted.org/packages/e3/bd/4c0a4619494188a9db5d77e2100ab7d544a42e76b2447869d8e124e981d8/fsspec-2023.6.0-py3-none-any.whl.metadata\n",
      "  Using cached fsspec-2023.6.0-py3-none-any.whl.metadata (6.7 kB)\n",
      "Collecting aiohttp (from datasets>=2.0.0->lm-eval->autoawq)\n",
      "  Obtaining dependency information for aiohttp from https://files.pythonhosted.org/packages/3e/f6/fcda07dd1e72260989f0b22dde999ecfe80daa744f23ca167083683399bc/aiohttp-3.8.5-cp310-cp310-manylinux_2_17_x86_64.manylinux2014_x86_64.whl.metadata\n",
      "  Using cached aiohttp-3.8.5-cp310-cp310-manylinux_2_17_x86_64.manylinux2014_x86_64.whl.metadata (7.7 kB)\n",
      "Collecting ordered-set<4.2.0,>=4.0.2 (from deepdiff>=3.3.0->attributedict->autoawq)\n",
      "  Using cached ordered_set-4.1.0-py3-none-any.whl (7.6 kB)\n",
      "Requirement already satisfied: fsspec in /usr/local/lib/python3.10/dist-packages (from huggingface-hub<1.0,>=0.15.1->transformers>=4.32.0->autoawq) (2023.9.2)\n",
      "Requirement already satisfied: six>=1.11.0 in /usr/local/lib/python3.10/dist-packages (from inspecta>=0.1.0->attributedict->autoawq) (1.16.0)\n",
      "Collecting termcolor>=1.1.0 (from inspecta>=0.1.0->attributedict->autoawq)\n",
      "  Using cached termcolor-2.3.0-py3-none-any.whl (6.9 kB)\n",
      "Requirement already satisfied: charset-normalizer<4,>=2 in /usr/local/lib/python3.10/dist-packages (from requests->transformers>=4.32.0->autoawq) (2.1.1)\n",
      "Requirement already satisfied: idna<4,>=2.5 in /usr/local/lib/python3.10/dist-packages (from requests->transformers>=4.32.0->autoawq) (3.4)\n",
      "Requirement already satisfied: urllib3<3,>=1.21.1 in /usr/local/lib/python3.10/dist-packages (from requests->transformers>=4.32.0->autoawq) (1.26.13)\n",
      "Requirement already satisfied: certifi>=2017.4.17 in /usr/local/lib/python3.10/dist-packages (from requests->transformers>=4.32.0->autoawq) (2022.12.7)\n",
      "Collecting coloredlogs>=10.0 (from rootpath>=0.1.0->attributedict->autoawq)\n",
      "  Using cached coloredlogs-15.0.1-py2.py3-none-any.whl (46 kB)\n",
      "Collecting absl-py (from rouge-score>=0.0.4->lm-eval->autoawq)\n",
      "  Obtaining dependency information for absl-py from https://files.pythonhosted.org/packages/01/e4/dc0a1dcc4e74e08d7abedab278c795eef54a224363bb18f5692f416d834f/absl_py-2.0.0-py3-none-any.whl.metadata\n",
      "  Using cached absl_py-2.0.0-py3-none-any.whl.metadata (2.3 kB)\n",
      "Collecting nltk (from rouge-score>=0.0.4->lm-eval->autoawq)\n",
      "  Using cached nltk-3.8.1-py3-none-any.whl (1.5 MB)\n",
      "Collecting scipy>=1.5.0 (from scikit-learn>=0.24.1->lm-eval->autoawq)\n",
      "  Obtaining dependency information for scipy>=1.5.0 from https://files.pythonhosted.org/packages/a8/cc/c36f3439f5d47c3b13833ce6687b43a040cc7638c502ac46b41e2d4f3d6f/scipy-1.11.2-cp310-cp310-manylinux_2_17_x86_64.manylinux2014_x86_64.whl.metadata\n",
      "  Using cached scipy-1.11.2-cp310-cp310-manylinux_2_17_x86_64.manylinux2014_x86_64.whl.metadata (59 kB)\n",
      "Collecting joblib>=1.1.1 (from scikit-learn>=0.24.1->lm-eval->autoawq)\n",
      "  Obtaining dependency information for joblib>=1.1.1 from https://files.pythonhosted.org/packages/10/40/d551139c85db202f1f384ba8bcf96aca2f329440a844f924c8a0040b6d02/joblib-1.3.2-py3-none-any.whl.metadata\n",
      "  Using cached joblib-1.3.2-py3-none-any.whl.metadata (5.4 kB)\n",
      "Collecting threadpoolctl>=2.0.0 (from scikit-learn>=0.24.1->lm-eval->autoawq)\n",
      "  Obtaining dependency information for threadpoolctl>=2.0.0 from https://files.pythonhosted.org/packages/81/12/fd4dea011af9d69e1cad05c75f3f7202cdcbeac9b712eea58ca779a72865/threadpoolctl-3.2.0-py3-none-any.whl.metadata\n",
      "  Using cached threadpoolctl-3.2.0-py3-none-any.whl.metadata (10.0 kB)\n",
      "Collecting cachetools>=5.3.1 (from tox>=3.0.0->attributedict->autoawq)\n",
      "  Obtaining dependency information for cachetools>=5.3.1 from https://files.pythonhosted.org/packages/a9/c9/c8a7710f2cedcb1db9224fdd4d8307c9e48cbddc46c18b515fefc0f1abbe/cachetools-5.3.1-py3-none-any.whl.metadata\n",
      "  Using cached cachetools-5.3.1-py3-none-any.whl.metadata (5.2 kB)\n",
      "Collecting chardet>=5.2 (from tox>=3.0.0->attributedict->autoawq)\n",
      "  Obtaining dependency information for chardet>=5.2 from https://files.pythonhosted.org/packages/38/6f/f5fbc992a329ee4e0f288c1fe0e2ad9485ed064cac731ed2fe47dcc38cbf/chardet-5.2.0-py3-none-any.whl.metadata\n",
      "  Using cached chardet-5.2.0-py3-none-any.whl.metadata (3.4 kB)\n",
      "Requirement already satisfied: colorama>=0.4.6 in /usr/local/lib/python3.10/dist-packages (from tox>=3.0.0->attributedict->autoawq) (0.4.6)\n",
      "Collecting filelock (from torch>=2.0.0->autoawq)\n",
      "  Obtaining dependency information for filelock from https://files.pythonhosted.org/packages/5e/5d/97afbafd9d584ff1b45fcb354a479a3609bd97f912f8f1f6c563cb1fae21/filelock-3.12.4-py3-none-any.whl.metadata\n",
      "  Using cached filelock-3.12.4-py3-none-any.whl.metadata (2.8 kB)\n",
      "Requirement already satisfied: platformdirs>=3.10 in /usr/local/lib/python3.10/dist-packages (from tox>=3.0.0->attributedict->autoawq) (3.10.0)\n",
      "Collecting pluggy>=1.3 (from tox>=3.0.0->attributedict->autoawq)\n",
      "  Obtaining dependency information for pluggy>=1.3 from https://files.pythonhosted.org/packages/05/b8/42ed91898d4784546c5f06c60506400548db3f7a4b3fb441cba4e5c17952/pluggy-1.3.0-py3-none-any.whl.metadata\n",
      "  Using cached pluggy-1.3.0-py3-none-any.whl.metadata (4.3 kB)\n",
      "Collecting pyproject-api>=1.6.1 (from tox>=3.0.0->attributedict->autoawq)\n",
      "  Obtaining dependency information for pyproject-api>=1.6.1 from https://files.pythonhosted.org/packages/cf/b4/39eea50542e50e93876ebc09c4349a9c9eee9f6b9c9d30f88c7dc5433db8/pyproject_api-1.6.1-py3-none-any.whl.metadata\n",
      "  Using cached pyproject_api-1.6.1-py3-none-any.whl.metadata (2.8 kB)\n",
      "Requirement already satisfied: tomli>=2.0.1 in /usr/local/lib/python3.10/dist-packages (from tox>=3.0.0->attributedict->autoawq) (2.0.1)\n",
      "Collecting virtualenv>=20.24.3 (from tox>=3.0.0->attributedict->autoawq)\n",
      "  Obtaining dependency information for virtualenv>=20.24.3 from https://files.pythonhosted.org/packages/4e/8b/f0d3a468c0186c603217a6656ea4f49259630e8ed99558501d92f6ff7dc3/virtualenv-20.24.5-py3-none-any.whl.metadata\n",
      "  Using cached virtualenv-20.24.5-py3-none-any.whl.metadata (4.5 kB)\n",
      "Requirement already satisfied: MarkupSafe>=2.0 in /usr/local/lib/python3.10/dist-packages (from jinja2->torch>=2.0.0->autoawq) (2.1.2)\n",
      "Requirement already satisfied: attrs>=19.2.0 in /usr/local/lib/python3.10/dist-packages (from jsonlines->lm-eval->autoawq) (23.1.0)\n",
      "Requirement already satisfied: setuptools in /usr/lib/python3/dist-packages (from pycountry->lm-eval->autoawq) (59.6.0)\n",
      "Collecting DataProperty<2,>=1.0.1 (from pytablewriter->lm-eval->autoawq)\n",
      "  Obtaining dependency information for DataProperty<2,>=1.0.1 from https://files.pythonhosted.org/packages/b1/3b/90ebd66ad57c588d6087e86e327436343e9cc60776a9445b79c6e80a022d/DataProperty-1.0.1-py3-none-any.whl.metadata\n",
      "  Using cached DataProperty-1.0.1-py3-none-any.whl.metadata (11 kB)\n",
      "Collecting mbstrdecoder<2,>=1.0.0 (from pytablewriter->lm-eval->autoawq)\n",
      "  Obtaining dependency information for mbstrdecoder<2,>=1.0.0 from https://files.pythonhosted.org/packages/c2/0f/726229136022b154895138bb10ba35e8435c4143f614cb5ad4d4e3fc21ec/mbstrdecoder-1.1.3-py3-none-any.whl.metadata\n",
      "  Using cached mbstrdecoder-1.1.3-py3-none-any.whl.metadata (4.0 kB)\n",
      "Collecting pathvalidate<4,>=2.3.0 (from pytablewriter->lm-eval->autoawq)\n",
      "  Obtaining dependency information for pathvalidate<4,>=2.3.0 from https://files.pythonhosted.org/packages/0c/ab/673cce13ab635fd755d206b18c0a371ef6e28ddbe25fadba9ae6c59f22a5/pathvalidate-3.2.0-py3-none-any.whl.metadata\n",
      "  Using cached pathvalidate-3.2.0-py3-none-any.whl.metadata (11 kB)\n",
      "Collecting tabledata<2,>=1.3.1 (from pytablewriter->lm-eval->autoawq)\n",
      "  Obtaining dependency information for tabledata<2,>=1.3.1 from https://files.pythonhosted.org/packages/06/e2/96b10ebc00d20b55967200e3d95c2137d91f58af1af672627683431c9d5c/tabledata-1.3.3-py3-none-any.whl.metadata\n",
      "  Using cached tabledata-1.3.3-py3-none-any.whl.metadata (3.7 kB)\n",
      "Collecting tcolorpy<1,>=0.0.5 (from pytablewriter->lm-eval->autoawq)\n",
      "  Obtaining dependency information for tcolorpy<1,>=0.0.5 from https://files.pythonhosted.org/packages/34/d0/8a701df46bf546fd155da02934b0bb2ac6ad4186e29f4a3297e744ab259d/tcolorpy-0.1.4-py3-none-any.whl.metadata\n",
      "  Using cached tcolorpy-0.1.4-py3-none-any.whl.metadata (5.7 kB)\n",
      "Collecting typepy[datetime]<2,>=1.2.0 (from pytablewriter->lm-eval->autoawq)\n",
      "  Obtaining dependency information for typepy[datetime]<2,>=1.2.0 from https://files.pythonhosted.org/packages/7f/31/0c7a66aa315cc8b2d1915fdd163283ba704307d7c0cf15b31e08c51aedba/typepy-1.3.1-py3-none-any.whl.metadata\n",
      "  Using cached typepy-1.3.1-py3-none-any.whl.metadata (9.3 kB)\n",
      "Requirement already satisfied: mpmath>=0.19 in /usr/local/lib/python3.10/dist-packages (from sympy->torch>=2.0.0->autoawq) (1.2.1)\n",
      "Collecting humanfriendly>=9.1 (from coloredlogs>=10.0->rootpath>=0.1.0->attributedict->autoawq)\n",
      "  Using cached humanfriendly-10.0-py2.py3-none-any.whl (86 kB)\n",
      "Collecting multidict<7.0,>=4.5 (from aiohttp->datasets>=2.0.0->lm-eval->autoawq)\n",
      "  Using cached multidict-6.0.4-cp310-cp310-manylinux_2_17_x86_64.manylinux2014_x86_64.whl (114 kB)\n",
      "Collecting async-timeout<5.0,>=4.0.0a3 (from aiohttp->datasets>=2.0.0->lm-eval->autoawq)\n",
      "  Obtaining dependency information for async-timeout<5.0,>=4.0.0a3 from https://files.pythonhosted.org/packages/a7/fa/e01228c2938de91d47b307831c62ab9e4001e747789d0b05baf779a6488c/async_timeout-4.0.3-py3-none-any.whl.metadata\n",
      "  Using cached async_timeout-4.0.3-py3-none-any.whl.metadata (4.2 kB)\n",
      "Collecting yarl<2.0,>=1.0 (from aiohttp->datasets>=2.0.0->lm-eval->autoawq)\n",
      "  Using cached yarl-1.9.2-cp310-cp310-manylinux_2_17_x86_64.manylinux2014_x86_64.whl (268 kB)\n",
      "Collecting frozenlist>=1.1.1 (from aiohttp->datasets>=2.0.0->lm-eval->autoawq)\n",
      "  Obtaining dependency information for frozenlist>=1.1.1 from https://files.pythonhosted.org/packages/1e/28/74b8b6451c89c070d34e753d8b65a1e4ce508a6808b18529f36e8c0e2184/frozenlist-1.4.0-cp310-cp310-manylinux_2_5_x86_64.manylinux1_x86_64.manylinux_2_17_x86_64.manylinux2014_x86_64.whl.metadata\n",
      "  Using cached frozenlist-1.4.0-cp310-cp310-manylinux_2_5_x86_64.manylinux1_x86_64.manylinux_2_17_x86_64.manylinux2014_x86_64.whl.metadata (5.2 kB)\n",
      "Collecting aiosignal>=1.1.2 (from aiohttp->datasets>=2.0.0->lm-eval->autoawq)\n",
      "  Using cached aiosignal-1.3.1-py3-none-any.whl (7.6 kB)\n",
      "Requirement already satisfied: python-dateutil<3.0.0,>=2.8.0 in /usr/local/lib/python3.10/dist-packages (from typepy[datetime]<2,>=1.2.0->pytablewriter->lm-eval->autoawq) (2.8.2)\n",
      "Collecting pytz>=2018.9 (from typepy[datetime]<2,>=1.2.0->pytablewriter->lm-eval->autoawq)\n",
      "  Obtaining dependency information for pytz>=2018.9 from https://files.pythonhosted.org/packages/32/4d/aaf7eff5deb402fd9a24a1449a8119f00d74ae9c2efa79f8ef9994261fc2/pytz-2023.3.post1-py2.py3-none-any.whl.metadata\n",
      "  Using cached pytz-2023.3.post1-py2.py3-none-any.whl.metadata (22 kB)\n",
      "Collecting distlib<1,>=0.3.7 (from virtualenv>=20.24.3->tox>=3.0.0->attributedict->autoawq)\n",
      "  Obtaining dependency information for distlib<1,>=0.3.7 from https://files.pythonhosted.org/packages/43/a0/9ba967fdbd55293bacfc1507f58e316f740a3b231fc00e3d86dc39bc185a/distlib-0.3.7-py2.py3-none-any.whl.metadata\n",
      "  Using cached distlib-0.3.7-py2.py3-none-any.whl.metadata (5.1 kB)\n",
      "Requirement already satisfied: click in /usr/local/lib/python3.10/dist-packages (from nltk->rouge-score>=0.0.4->lm-eval->autoawq) (8.1.7)\n",
      "Collecting tzdata>=2022.1 (from pandas->datasets>=2.0.0->lm-eval->autoawq)\n",
      "  Using cached tzdata-2023.3-py2.py3-none-any.whl (341 kB)\n",
      "Using cached autoawq-0.1.0-cp310-cp310-manylinux2014_x86_64.whl (17.4 MB)\n",
      "Using cached accelerate-0.23.0-py3-none-any.whl (258 kB)\n",
      "Downloading protobuf-4.24.3-cp37-abi3-manylinux2014_x86_64.whl (311 kB)\n",
      "\u001b[2K   \u001b[90m━━━━━━━━━━━━━━━━━━━━━━━━━━━━━━━━━━━━━━━━\u001b[0m \u001b[32m311.6/311.6 kB\u001b[0m \u001b[31m6.2 MB/s\u001b[0m eta \u001b[36m0:00:00\u001b[0ma \u001b[36m0:00:01\u001b[0m\n",
      "\u001b[?25hUsing cached coverage-7.3.1-cp310-cp310-manylinux_2_5_x86_64.manylinux1_x86_64.manylinux_2_17_x86_64.manylinux2014_x86_64.whl (229 kB)\n",
      "Using cached datasets-2.14.5-py3-none-any.whl (519 kB)\n",
      "Using cached deepdiff-6.5.0-py3-none-any.whl (71 kB)\n",
      "Downloading openai-0.28.1-py3-none-any.whl (76 kB)\n",
      "\u001b[2K   \u001b[90m━━━━━━━━━━━━━━━━━━━━━━━━━━━━━━━━━━━━━━━━\u001b[0m \u001b[32m77.0/77.0 kB\u001b[0m \u001b[31m6.1 MB/s\u001b[0m eta \u001b[36m0:00:00\u001b[0m\n",
      "\u001b[?25hUsing cached pybind11-2.11.1-py3-none-any.whl (227 kB)\n",
      "Downloading scikit_learn-1.3.1-cp310-cp310-manylinux_2_17_x86_64.manylinux2014_x86_64.whl (10.8 MB)\n",
      "\u001b[2K   \u001b[90m━━━━━━━━━━━━━━━━━━━━━━━━━━━━━━━━━━━━━━━━\u001b[0m \u001b[32m10.8/10.8 MB\u001b[0m \u001b[31m11.9 MB/s\u001b[0m eta \u001b[36m0:00:00\u001b[0m00:01\u001b[0m00:01\u001b[0m\n",
      "\u001b[?25hUsing cached tox-4.11.3-py3-none-any.whl (153 kB)\n",
      "Using cached filelock-3.12.4-py3-none-any.whl (11 kB)\n",
      "Using cached jsonlines-4.0.0-py3-none-any.whl (8.7 kB)\n",
      "Using cached numexpr-2.8.6-cp310-cp310-manylinux_2_17_x86_64.manylinux2014_x86_64.whl (383 kB)\n",
      "Downloading pytablewriter-1.1.0-py3-none-any.whl (109 kB)\n",
      "\u001b[2K   \u001b[90m━━━━━━━━━━━━━━━━━━━━━━━━━━━━━━━━━━━━━━━━\u001b[0m \u001b[32m109.9/109.9 kB\u001b[0m \u001b[31m22.8 MB/s\u001b[0m eta \u001b[36m0:00:00\u001b[0m\n",
      "\u001b[?25hUsing cached cachetools-5.3.1-py3-none-any.whl (9.3 kB)\n",
      "Using cached chardet-5.2.0-py3-none-any.whl (199 kB)\n",
      "Using cached DataProperty-1.0.1-py3-none-any.whl (27 kB)\n",
      "Using cached dill-0.3.7-py3-none-any.whl (115 kB)\n",
      "Using cached aiohttp-3.8.5-cp310-cp310-manylinux_2_17_x86_64.manylinux2014_x86_64.whl (1.0 MB)\n",
      "Using cached joblib-1.3.2-py3-none-any.whl (302 kB)\n",
      "Using cached mbstrdecoder-1.1.3-py3-none-any.whl (7.8 kB)\n",
      "Using cached pathvalidate-3.2.0-py3-none-any.whl (23 kB)\n",
      "Using cached pluggy-1.3.0-py3-none-any.whl (18 kB)\n",
      "Using cached pyarrow-13.0.0-cp310-cp310-manylinux_2_28_x86_64.whl (40.0 MB)\n",
      "Using cached pyproject_api-1.6.1-py3-none-any.whl (12 kB)\n",
      "Using cached scipy-1.11.2-cp310-cp310-manylinux_2_17_x86_64.manylinux2014_x86_64.whl (36.3 MB)\n",
      "Using cached tabledata-1.3.3-py3-none-any.whl (11 kB)\n",
      "Using cached tcolorpy-0.1.4-py3-none-any.whl (7.9 kB)\n",
      "Using cached threadpoolctl-3.2.0-py3-none-any.whl (15 kB)\n",
      "Using cached virtualenv-20.24.5-py3-none-any.whl (3.7 MB)\n",
      "Using cached absl_py-2.0.0-py3-none-any.whl (130 kB)\n",
      "Using cached cmake-3.27.5-py2.py3-none-manylinux2014_x86_64.manylinux_2_17_x86_64.whl (26.1 MB)\n",
      "Using cached fsspec-2023.6.0-py3-none-any.whl (163 kB)\n",
      "Using cached multiprocess-0.70.15-py310-none-any.whl (134 kB)\n",
      "Using cached pandas-2.1.1-cp310-cp310-manylinux_2_17_x86_64.manylinux2014_x86_64.whl (12.3 MB)\n",
      "Using cached portalocker-2.8.2-py3-none-any.whl (17 kB)\n",
      "Using cached xxhash-3.3.0-cp310-cp310-manylinux_2_17_x86_64.manylinux2014_x86_64.whl (194 kB)\n",
      "Using cached async_timeout-4.0.3-py3-none-any.whl (5.7 kB)\n",
      "Using cached distlib-0.3.7-py2.py3-none-any.whl (468 kB)\n",
      "Using cached frozenlist-1.4.0-cp310-cp310-manylinux_2_5_x86_64.manylinux1_x86_64.manylinux_2_17_x86_64.manylinux2014_x86_64.whl (225 kB)\n",
      "Using cached pytz-2023.3.post1-py2.py3-none-any.whl (502 kB)\n",
      "Using cached typepy-1.3.1-py3-none-any.whl (31 kB)\n",
      "Installing collected packages: texttable, sqlitedict, pytz, distlib, cmake, zstandard, xxhash, tzdata, tqdm-multiprocess, toml, threadpoolctl, termcolor, tcolorpy, tabulate, scipy, pyproject-api, pycountry, pybind11, pyarrow, protobuf, portalocker, pluggy, pathvalidate, ordered-set, numexpr, multidict, jsonlines, joblib, humanfriendly, fsspec, frozenlist, filelock, dill, coverage, chardet, cachetools, blessings, async-timeout, absl-py, yarl, virtualenv, scikit-learn, sacrebleu, pandas, nltk, multiprocess, mbstrdecoder, deepdiff, colour-runner, coloredlogs, codecov, aiosignal, typepy, tox, rouge-score, aiohttp, rootpath, openai, inspecta, datasets, DataProperty, tabledata, attributedict, pytablewriter, lm-eval, accelerate, autoawq\n",
      "  Attempting uninstall: fsspec\n",
      "    Found existing installation: fsspec 2023.9.2\n",
      "    Uninstalling fsspec-2023.9.2:\n",
      "      Successfully uninstalled fsspec-2023.9.2\n",
      "  Attempting uninstall: filelock\n",
      "    Found existing installation: filelock 3.9.0\n",
      "    Uninstalling filelock-3.9.0:\n",
      "      Successfully uninstalled filelock-3.9.0\n",
      "Successfully installed DataProperty-1.0.1 absl-py-2.0.0 accelerate-0.23.0 aiohttp-3.8.5 aiosignal-1.3.1 async-timeout-4.0.3 attributedict-0.3.0 autoawq-0.1.0 blessings-1.7 cachetools-5.3.1 chardet-5.2.0 cmake-3.27.5 codecov-2.1.13 coloredlogs-15.0.1 colour-runner-0.1.1 coverage-7.3.1 datasets-2.14.5 deepdiff-6.5.0 dill-0.3.7 distlib-0.3.7 filelock-3.12.4 frozenlist-1.4.0 fsspec-2023.6.0 humanfriendly-10.0 inspecta-0.1.3 joblib-1.3.2 jsonlines-4.0.0 lm-eval-0.3.0 mbstrdecoder-1.1.3 multidict-6.0.4 multiprocess-0.70.15 nltk-3.8.1 numexpr-2.8.6 openai-0.28.1 ordered-set-4.1.0 pandas-2.1.1 pathvalidate-3.2.0 pluggy-1.3.0 portalocker-2.8.2 protobuf-4.24.3 pyarrow-13.0.0 pybind11-2.11.1 pycountry-22.3.5 pyproject-api-1.6.1 pytablewriter-1.1.0 pytz-2023.3.post1 rootpath-0.1.1 rouge-score-0.1.2 sacrebleu-1.5.0 scikit-learn-1.3.1 scipy-1.11.2 sqlitedict-2.1.0 tabledata-1.3.3 tabulate-0.9.0 tcolorpy-0.1.4 termcolor-2.3.0 texttable-1.6.7 threadpoolctl-3.2.0 toml-0.10.2 tox-4.11.3 tqdm-multiprocess-0.0.11 typepy-1.3.1 tzdata-2023.3 virtualenv-20.24.5 xxhash-3.3.0 yarl-1.9.2 zstandard-0.21.0\n",
      "\u001b[33mWARNING: Running pip as the 'root' user can result in broken permissions and conflicting behaviour with the system package manager. It is recommended to use a virtual environment instead: https://pip.pypa.io/warnings/venv\u001b[0m\u001b[33m\n",
      "\u001b[0m"
     ]
    }
   ],
   "source": [
    "!pip install autoawq"
   ]
  },
  {
   "cell_type": "code",
   "execution_count": 2,
   "id": "07ef12e9-0810-4332-9389-801d7da8721d",
   "metadata": {
    "tags": []
   },
   "outputs": [
    {
     "data": {
      "application/vnd.jupyter.widget-view+json": {
       "model_id": "cbd982ad133447a69022fd7c01a35f3e",
       "version_major": 2,
       "version_minor": 0
      },
      "text/plain": [
       "Fetching 12 files:   0%|          | 0/12 [00:00<?, ?it/s]"
      ]
     },
     "metadata": {},
     "output_type": "display_data"
    },
    {
     "data": {
      "application/vnd.jupyter.widget-view+json": {
       "model_id": "a9256ec400d843bb854d89f3bacc99f2",
       "version_major": 2,
       "version_minor": 0
      },
      "text/plain": [
       "Downloading (…)of-00003.safetensors:   0%|          | 0.00/6.65G [00:00<?, ?B/s]"
      ]
     },
     "metadata": {},
     "output_type": "display_data"
    },
    {
     "data": {
      "application/vnd.jupyter.widget-view+json": {
       "model_id": "0082038355bc4e369151e0988aeef282",
       "version_major": 2,
       "version_minor": 0
      },
      "text/plain": [
       "Downloading (…)of-00003.safetensors:   0%|          | 0.00/9.87G [00:00<?, ?B/s]"
      ]
     },
     "metadata": {},
     "output_type": "display_data"
    },
    {
     "data": {
      "application/vnd.jupyter.widget-view+json": {
       "model_id": "0689c0d1fcc9466cbc4a144ed20f13fd",
       "version_major": 2,
       "version_minor": 0
      },
      "text/plain": [
       "Downloading (…)of-00003.safetensors:   0%|          | 0.00/9.89G [00:00<?, ?B/s]"
      ]
     },
     "metadata": {},
     "output_type": "display_data"
    },
    {
     "data": {
      "application/vnd.jupyter.widget-view+json": {
       "model_id": "7f4ec63750b8421d8c8e4f994120f390",
       "version_major": 2,
       "version_minor": 0
      },
      "text/plain": [
       "Loading checkpoint shards:   0%|          | 0/3 [00:00<?, ?it/s]"
      ]
     },
     "metadata": {},
     "output_type": "display_data"
    },
    {
     "name": "stderr",
     "output_type": "stream",
     "text": [
      "Repo card metadata block was not found. Setting CardData to empty.\n",
      "AWQ: 100% 40/40 [28:39<00:00, 42.98s/it]\n"
     ]
    },
    {
     "data": {
      "text/plain": [
       "('stockmark-13b-awq/tokenizer_config.json',\n",
       " 'stockmark-13b-awq/special_tokens_map.json',\n",
       " 'stockmark-13b-awq/tokenizer.json')"
      ]
     },
     "execution_count": 2,
     "metadata": {},
     "output_type": "execute_result"
    }
   ],
   "source": [
    "from awq import AutoAWQForCausalLM\n",
    "from transformers import AutoTokenizer\n",
    "\n",
    "model_path = 'stockmark/stockmark-13b'\n",
    "quant_path = 'stockmark-13b-awq'\n",
    "quant_config = { \"zero_point\": True, \"q_group_size\": 128, \"w_bit\": 4 }\n",
    "\n",
    "# Load model\n",
    "model = AutoAWQForCausalLM.from_pretrained(model_path, safetensors=True)\n",
    "tokenizer = AutoTokenizer.from_pretrained(model_path, trust_remote_code=True)\n",
    "\n",
    "# Quantize\n",
    "model.quantize(tokenizer, quant_config=quant_config)\n",
    "\n",
    "# Save quantized model\n",
    "model.save_quantized(quant_path)\n",
    "tokenizer.save_pretrained(quant_path)"
   ]
  },
  {
   "cell_type": "code",
   "execution_count": 1,
   "id": "2c34cff9-1fbb-4941-91d1-61463d8968c5",
   "metadata": {
    "tags": []
   },
   "outputs": [
    {
     "name": "stderr",
     "output_type": "stream",
     "text": [
      "Replacing layers...: 100% 40/40 [00:03<00:00, 10.78it/s]\n",
      "Special tokens have been added in the vocabulary, make sure the associated word embeddings are fine-tuned or trained.\n"
     ]
    },
    {
     "name": "stdout",
     "output_type": "stream",
     "text": [
      "CPU times: user 10.5 s, sys: 6.94 s, total: 17.5 s\n",
      "Wall time: 14.9 s\n"
     ]
    }
   ],
   "source": [
    "%%time\n",
    "from awq import AutoAWQForCausalLM\n",
    "from transformers import AutoTokenizer, TextStreamer\n",
    "import torch\n",
    "\n",
    "quant_path = 'stockmark-13b-awq'\n",
    "quant_file = \"pytorch_model.bin\"\n",
    "\n",
    "# Load model\n",
    "model = AutoAWQForCausalLM.from_quantized(quant_path, quant_file, fuse_layers=True)\n",
    "tokenizer = AutoTokenizer.from_pretrained(quant_path, trust_remote_code=True)\n",
    "streamer = TextStreamer(tokenizer, skip_special_tokens=True)\n",
    "\n",
    "def chat(text, max_new_tokens=512):\n",
    "    tokens = tokenizer(\n",
    "        text,\n",
    "        return_tensors='pt'\n",
    "    ).input_ids.cuda()\n",
    "\n",
    "    # Generate output\n",
    "    generation_output = model.generate(\n",
    "        tokens,\n",
    "        do_sample=True,\n",
    "        temperature=0.7,\n",
    "        top_p=0.95,\n",
    "        top_k=40,\n",
    "        max_new_tokens=max_new_tokens\n",
    "    )\n",
    "\n",
    "    return tokenizer.decode(generation_output[0])"
   ]
  },
  {
   "cell_type": "code",
   "execution_count": 2,
   "id": "bd4c3f05-6faa-4cf9-98c2-296d610bb101",
   "metadata": {
    "tags": []
   },
   "outputs": [
    {
     "name": "stderr",
     "output_type": "stream",
     "text": [
      "The attention mask and the pad token id were not set. As a consequence, you may observe unexpected behavior. Please pass your input's `attention_mask` to obtain reliable results.\n",
      "Setting `pad_token_id` to `eos_token_id`:1 for open-end generation.\n"
     ]
    },
    {
     "name": "stdout",
     "output_type": "stream",
     "text": [
      "<s>クマが海辺に行ってアザラシと友達になり、最終的には家に帰るというプロットの短編小説を書いてください。\n",
      "クマは、アザラシが浜辺に横たわっているのを発見しました。\n",
      "クマは、アザラシが浜辺に横たわっているのを発見しました。 彼はアザラシを家に連れて帰ることに決めました。\n",
      "クマがアザラシを家に連れて帰ることに決めました。 それから、クマは彼の友達と一緒に家に帰ることにしました。\n",
      "クマは、アザラシと、アザラシが浜辺に横たわっているのを発見しました。 クマは、アザラシを家に連れて帰ることに決めました。\n",
      "クマは、アザラシが浜辺に横たわっているのを発見しました。 それから、クマは彼の友達と一緒に家に帰ることにしました。</s>\n",
      "CPU times: user 2.42 s, sys: 46.9 ms, total: 2.47 s\n",
      "Wall time: 2.47 s\n"
     ]
    }
   ],
   "source": [
    "%%time\n",
    "print(chat(\"クマが海辺に行ってアザラシと友達になり、最終的には家に帰るというプロットの短編小説を書いてください。\"))"
   ]
  },
  {
   "cell_type": "code",
   "execution_count": 3,
   "id": "b37f0124-1f0f-4a5d-9b56-96eeda5b5335",
   "metadata": {
    "tags": []
   },
   "outputs": [
    {
     "name": "stderr",
     "output_type": "stream",
     "text": [
      "The attention mask and the pad token id were not set. As a consequence, you may observe unexpected behavior. Please pass your input's `attention_mask` to obtain reliable results.\n",
      "Setting `pad_token_id` to `eos_token_id`:1 for open-end generation.\n"
     ]
    },
    {
     "name": "stdout",
     "output_type": "stream",
     "text": [
      "<s>小学生向けの四則演算の問題を5問出してください。最初は問題だけ、次に解答のみをください。\n",
      "【中学受験】小4の算数「四則混合計算」の無料学習プリント(問題集・ワークシートドリル)です。\n",
      "四則混合計算は、中学入試ではほぼ出題される頻出問題です。\n",
      "計算が複雑で、苦手な子も多い単元ですが、四則混合計算に慣れておくことはとても大切です。\n",
      "四則混合計算は、小学4年生で学習する単元です。\n",
      "四則混合計算は、中学入試ではほぼ出題される頻出問題です。計算が複雑で、苦手な子も多い単元ですが、四則混合計算に慣れておくことはとても大切です。\n",
      "四則混合計算は、計算が複雑で、苦手な子も多い単元ですが、四則混合計算に慣れておくことはとても大切です。\n",
      "四則混合計算は、中学入試ではほぼ出題される頻出問題です。 計算が複雑で、苦手な子も多い単元ですが、四則混合計算に慣れておくことはとても大切です。</s>\n",
      "CPU times: user 3.09 s, sys: 3.15 ms, total: 3.09 s\n",
      "Wall time: 3.09 s\n"
     ]
    }
   ],
   "source": [
    "%%time\n",
    "print(chat(\"小学生向けの四則演算の問題を5問出してください。最初は問題だけ、次に解答のみをください。\"))"
   ]
  },
  {
   "cell_type": "code",
   "execution_count": 4,
   "id": "14079a98-cb12-4faa-b999-e093f2bb7d71",
   "metadata": {
    "tags": []
   },
   "outputs": [
    {
     "name": "stderr",
     "output_type": "stream",
     "text": [
      "The attention mask and the pad token id were not set. As a consequence, you may observe unexpected behavior. Please pass your input's `attention_mask` to obtain reliable results.\n",
      "Setting `pad_token_id` to `eos_token_id`:1 for open-end generation.\n"
     ]
    },
    {
     "name": "stdout",
     "output_type": "stream",
     "text": [
      "<s>豊臣秀吉について知っていることを教えてください。\n",
      "豊臣秀吉が行った主な政策を教えてください。\n",
      "豊臣秀吉が行った主な政策を教えてください。\n",
      "豊臣秀吉が行った主な政策を教えてください。 1 刀狩り 2 太閤検地 3 刀狩り\n",
      "豊臣秀吉が行った主な政策を教えてください。 刀狩り 太閤検地\n",
      "豊臣秀吉は、刀狩りや太閤検地以外にも、様々な政策を行っています。\n",
      "豊臣秀吉は、刀狩りや太閤検地以外にも、様々な政策を行っています。 1 刀狩り 2 太閤検地 3 刀狩り 4 太閤検地 5 刀狩り 6 太閤検地 7 刀狩り 8 太閤検地 9 刀狩り 10 太閤検地\n",
      "豊臣秀吉について、小学生に分かりやすい文章で教えてください。\n",
      "豊臣秀吉について、小学生に分かりやすい文章で教えてください。 1 刀狩り 2 太閤検地 3 刀狩り 4 太閤検地 5 刀狩り 6 太閤検地 7 刀狩り 8 太閤検地 9 刀狩り 10 太閤検地 11 刀狩り 12 太閤検地 13 刀狩り 14 太閤検地 15 刀狩り 16 太閤検地 17 刀狩り 18 太閤検地 19 刀狩り 20 太閤検地\n",
      "豊臣秀吉は、刀狩りや太閤検地以外にも、様々な政策を行っています。 1 刀狩り 2 太閤検地 3 刀狩り 4 太閤検地 5 刀狩り 6 太閤検地 7 刀狩り 8 太閤検地 9 刀狩り 10 太閤検地 11 刀狩り 12 太閤検地 13 刀狩り 14 太閤検地 15 刀狩り 16 太閤検地 17 刀狩り 18 太閤検地 19 刀狩り 20 太閤検地\n",
      "豊臣秀吉が行った政策の中で、最も有名な政策は何ですか?\n",
      "豊臣秀吉が行った政策の中で、最も有名な政策は何ですか? \n",
      "CPU times: user 8.23 s, sys: 7.08 ms, total: 8.24 s\n",
      "Wall time: 8.24 s\n"
     ]
    }
   ],
   "source": [
    "%%time\n",
    "print(chat(\"豊臣秀吉について知っていることを教えてください。\"))"
   ]
  },
  {
   "cell_type": "code",
   "execution_count": 5,
   "id": "6ebf4386-05b7-4c2b-a4c5-5de0a1b35741",
   "metadata": {
    "tags": []
   },
   "outputs": [
    {
     "name": "stderr",
     "output_type": "stream",
     "text": [
      "The attention mask and the pad token id were not set. As a consequence, you may observe unexpected behavior. Please pass your input's `attention_mask` to obtain reliable results.\n",
      "Setting `pad_token_id` to `eos_token_id`:1 for open-end generation.\n"
     ]
    },
    {
     "name": "stdout",
     "output_type": "stream",
     "text": [
      "<s>自然言語処理とは野球に例えると、バッティングマシーンのようなもの。 自然言語処理は、機械にデータを与えて、そのデータに応じた答えを出力します。 野球に例えると、バッティングマシーンのようなもの。 バッティングマシーンに、データを与えると、そのデータに応じた答えを出力してくれます。\n",
      "1995年生まれ。神奈川県出身。 16歳の頃から、独学でプログラミングを始める。 18歳でWebサービスの開発を始め、2018年、AI系ベンチャー企業に新卒入社。 入社後は、主に機械学習を用いたWebアプリケーションの開発を行う。 2020年に独立し、現在はフリーランスのエンジニア。 仕事では、機械学習を用いたWebサービスの開発を行っています。 趣味は、読書と野球観戦。 好きな野球チームは、横浜DeNAベイスターズ。\n",
      "【中学数学】2つの円の交点を求める問題\n",
      "【中学数学】連立方程式を解く</s>\n",
      "CPU times: user 2.9 s, sys: 4.53 ms, total: 2.9 s\n",
      "Wall time: 2.9 s\n"
     ]
    }
   ],
   "source": [
    "%%time\n",
    "print(chat(\"自然言語処理とは野球に例えると\"))"
   ]
  },
  {
   "cell_type": "code",
   "execution_count": 7,
   "id": "5379ad53-1912-445e-b05d-bfe59c004f60",
   "metadata": {
    "tags": []
   },
   "outputs": [
    {
     "data": {
      "application/vnd.jupyter.widget-view+json": {
       "model_id": "36d6ba2a18ff4e219efc87b3684f7f6b",
       "version_major": 2,
       "version_minor": 0
      },
      "text/plain": [
       "Loading checkpoint shards:   0%|          | 0/3 [00:00<?, ?it/s]"
      ]
     },
     "metadata": {},
     "output_type": "display_data"
    }
   ],
   "source": [
    "import torch\n",
    "from transformers import AutoModelForCausalLM, AutoTokenizer\n",
    "\n",
    "model = AutoModelForCausalLM.from_pretrained(\"stockmark/stockmark-13b\", device_map=\"auto\", torch_dtype=torch.bfloat16)\n",
    "\n",
    "# If you use a T4 or V100 GPU, please load a model in 8 bit with the below code.\n",
    "# To do so, you need to install `bitsandbytes` via `pip install bitsandbytes`.\n",
    "# model = AutoModelForCausalLM.from_pretrained(\"stockmark/stockmark-13b\", device_map={\"\": 0}, load_in_8bit=True)\n",
    "\n",
    "tokenizer = AutoTokenizer.from_pretrained(\"stockmark/stockmark-13b\")\n",
    "\n",
    "def chat2(text, max_new_tokens=512):\n",
    "    inputs = tokenizer(text, return_tensors=\"pt\").to(model.device)\n",
    "    with torch.no_grad():\n",
    "        tokens = model.generate(\n",
    "            **inputs,\n",
    "            max_new_tokens=max_new_tokens,\n",
    "            do_sample=True,\n",
    "            temperature=0.7\n",
    "        )\n",
    "\n",
    "    output = tokenizer.decode(tokens[0], skip_special_tokens=True)\n",
    "    print(output)\n"
   ]
  },
  {
   "cell_type": "code",
   "execution_count": 9,
   "id": "0d985e85-1667-45ff-b3c0-3a89d3202ef5",
   "metadata": {
    "tags": []
   },
   "outputs": [
    {
     "name": "stdout",
     "output_type": "stream",
     "text": [
      "自然言語処理とは、人間が日常的に使っている言語をコンピュータで処理するための技術である。この技術には、主に以下3つの分野が存在する。\n",
      "・自然言語の解析: 人間が使う言葉(自然言語)に対して意味や構造を解析する技術。構文解析や意味解析、文脈解析などが含まれる。\n",
      "・自然言語の生成: 自然言語をコンピュータに理解させるだけでなく、コンピュータが自らの言葉を生成することも含まれる。\n",
      "・自然言語のコミュニケーション: 自然言語を使ってコンピュータと人間がコミュニケーションを行う技術。質問応答や機械翻訳、言語モデリング、自然言語生成などが含まれる。\n",
      "自然言語処理の目的は、人間とコンピュータが自然言語を使って対話\n",
      "None\n",
      "CPU times: user 3min 48s, sys: 379 ms, total: 3min 48s\n",
      "Wall time: 3min 48s\n"
     ]
    }
   ],
   "source": [
    "%%time\n",
    "print(chat2(\"自然言語処理を野球に例えて小学生向けに説明すると\"))"
   ]
  },
  {
   "cell_type": "code",
   "execution_count": null,
   "id": "433447cc-7845-4c46-b20e-c0e10484d9d8",
   "metadata": {
    "tags": []
   },
   "outputs": [],
   "source": [
    "%%time\n",
    "print(chat2(\"小学生向けの四則演算の問題を5問出してください。最初は問題だけ、次に解答のみをください。\"))"
   ]
  },
  {
   "cell_type": "code",
   "execution_count": 1,
   "id": "9c5e08d1-e62a-4c6c-a1e0-c248b09b9407",
   "metadata": {
    "tags": []
   },
   "outputs": [
    {
     "name": "stderr",
     "output_type": "stream",
     "text": [
      "Special tokens have been added in the vocabulary, make sure the associated word embeddings are fine-tuned or trained.\n"
     ]
    },
    {
     "data": {
      "application/vnd.jupyter.widget-view+json": {
       "model_id": "2bdd16d8989a47629eaf6760922f56d1",
       "version_major": 2,
       "version_minor": 0
      },
      "text/plain": [
       "Fetching 9 files:   0%|          | 0/9 [00:00<?, ?it/s]"
      ]
     },
     "metadata": {},
     "output_type": "display_data"
    },
    {
     "name": "stderr",
     "output_type": "stream",
     "text": [
      "Replacing layers...: 100% 40/40 [00:03<00:00, 10.80it/s]\n"
     ]
    }
   ],
   "source": [
    "from awq import AutoAWQForCausalLM\n",
    "from transformers import AutoTokenizer, TextStreamer\n",
    "\n",
    "model_name_or_path = \"mmnga/stockmark-13b-AWQ-calib-ja\"\n",
    "\n",
    "tokenizer = AutoTokenizer.from_pretrained(model_name_or_path, trust_remote_code=True)\n",
    "model = AutoAWQForCausalLM.from_quantized(model_name_or_path, safetensors=True)\n",
    "\n",
    "def chat3(text, max_new_tokens=512):\n",
    "    tokens = tokenizer(\n",
    "        text,\n",
    "        return_tensors='pt'\n",
    "    ).input_ids.cuda()\n",
    "\n",
    "    # Generate output\n",
    "    generation_output = model.generate(\n",
    "        tokens,\n",
    "        do_sample=True,\n",
    "        temperature=0.7,\n",
    "        top_p=0.95,\n",
    "        top_k=40,\n",
    "        max_new_tokens=max_new_tokens\n",
    "    )\n",
    "\n",
    "    print(tokenizer.decode(generation_output[0]))\n"
   ]
  },
  {
   "cell_type": "code",
   "execution_count": 2,
   "id": "295cf6b1-153d-4300-abde-4ba2dd27982a",
   "metadata": {
    "tags": []
   },
   "outputs": [
    {
     "name": "stderr",
     "output_type": "stream",
     "text": [
      "The attention mask and the pad token id were not set. As a consequence, you may observe unexpected behavior. Please pass your input's `attention_mask` to obtain reliable results.\n",
      "Setting `pad_token_id` to `eos_token_id`:1 for open-end generation.\n"
     ]
    },
    {
     "name": "stdout",
     "output_type": "stream",
     "text": [
      "<s>小学生向けの四則演算の問題を5問出してください。最初は問題だけ、次に解答のみをください。\n",
      "小学生向けの四則演算の問題を5問出してください。最初は問題だけ、次に解答のみをください。 回答者は、算数が得意な小学生でも解けるレベルの解答をください。 よろしくお願いします。\n",
      "小3算数 足し算と引き算の問題です。 問題 10+8=12 10-12=-2 12-1=11 11-2=9 9-4=5 12-3=9 9-7=2 13-5=8 14-4=10 10-9=1 15-3=12 16-2=14 17-5=12 18-7=11 19-1=18 20-4=16 21-5=16 22-8=14 23-1=22 24-6=18 25-4=19 26-8=18 27-1=26 28-7=18 29-9=19 30-5=25 31-1=30 32-8=24 33-3=28 34-2=32 35-6=29 36-4=32 37-1=36 38-7=31 39-1=38 40-8=32 41-5=36 42-2=38 43-3=41 44-6=40 45-4=41 46-8=38 47-1=46 48-7=41 49-2=47 50-4=46 51-5=46 52-3=49 53-1=52 54-6=50 55-4=50 56-8=48 57-7=54 58-2=56 59-4=58 60-5=55 61-1=60 62-7=\n",
      "None\n",
      "CPU times: user 8.32 s, sys: 409 ms, total: 8.73 s\n",
      "Wall time: 8.73 s\n"
     ]
    }
   ],
   "source": [
    "%%time\n",
    "print(chat3(\"小学生向けの四則演算の問題を5問出してください。最初は問題だけ、次に解答のみをください。\"))"
   ]
  },
  {
   "cell_type": "code",
   "execution_count": 8,
   "id": "94abcf49-f0d6-4337-bb09-81175238eb0c",
   "metadata": {
    "tags": []
   },
   "outputs": [
    {
     "name": "stderr",
     "output_type": "stream",
     "text": [
      "The attention mask and the pad token id were not set. As a consequence, you may observe unexpected behavior. Please pass your input's `attention_mask` to obtain reliable results.\n",
      "Setting `pad_token_id` to `eos_token_id`:1 for open-end generation.\n"
     ]
    },
    {
     "name": "stdout",
     "output_type": "stream",
     "text": [
      "<s>\n",
      "次の文章を読んで末尾の問に答えよ。ただし、以下の文章中にある情報以外を捏造して答えてはならない。文章中からわからない情報については、「わからない」と解答せよ。\n",
      "\n",
      "```\n",
      "スティーブ・ジョブズは、アップルの共同創設者であり、パソコンやスマートフォンなどの革新的な製品を送り出したことで知られる企業家です。\n",
      "\n",
      "1955年にアメリカで生まれ、若いころからエレクトロニクスに強い関心を持っていました。1970年代にスティーブ・ウォズニアックと出会い、ガレージでApple IやApple IIなどの初期のパソコンを開発しました。\n",
      "\n",
      "その後もMacintoshの開発などを率い、使いやすさを追求した画期的な製品を次々と生み出しました。一時期アップルから離れていましたが、1990年代後半にCEOとしてアップルに復帰。その後iMacやiPod、iPhone、iPadなどのヒット商品を生み出し、アップルを世界的な企業に成長させました。\n",
      "\n",
      "常にシンプルで洗練されたデザインを心がけ、「1,000のNOを言って、1つのYESを言う」という哲学で製品開発を行ったことでも知られています。 2011年に肝臓癌のため死去しましたが、その功績は極めて大きく、世界のテクノロジー業界に多大な影響を与えました。\n",
      "```\n",
      "\n",
      "問A ジョブスは何を開発しましたか?\n",
      "問B ジョブスはアップル社のCTOでしたか?\n",
      "問C ジョブスが癌となった時に利用した治療方法を答えよ\n",
      "問D この文章中に登場する人物名をすべて答えよ\n",
      "問E この文章中に登場する固有名詞をすべて答えよ\n",
      "問F この文章の感情トーン分析をしてください\n",
      "問G この文章は何段落ですか?\n",
      "問H この文章を更にシンプルに要約してください\n",
      "問I ジョブスが死去してから何年経ちましたか?\n",
      "\n",
      "では以下がA~Iまでの解答になります。\n",
      "\n",
      "答A\n",
      "ジョブ\n",
      "\n",
      "\n",
      "、\n",
      "、?っ次文あるよんでをの末っ� っ�が、とのをにとの答を、答え、 っ �はば 、、、をの、\n",
      "<s>ふ] フ.をでに関する(((とを、ーーーーーーーーでを�をねでにを狂をっつっにしくや楽は\n",
      "は、、とのっ、からからっっじ月号までわからないがとの情報については、、 <s>、\n",
      "1.\n",
      "はとや」\n",
      "とととと、\n",
      "。<s>。。。\n",
      "\n",
      "\n",
      "\n",
      "\n",
      "<s> \n",
      "っ�「,\n",
      "`\n",
      "<s>\n",
      "\n",
      "<s>はっっ点章が、(2はびは々がっ(、<s>なた\n",
      "っ�、のねはびを、,/、1、、から典/、1っっはじっっげっを、を。4っ。。。っ�が季はにげは一つに2にひの\n",
      "は\n",
      "\n",
      "\n",
      "\n",
      "情報\n",
      "\"・ははがっの5よん5(`5........\n",
      "\n",
      "とっ。は。 はが は が\n",
      "っにのにを,(これさ能に人の「やにのはははは。。にに91と7。”は7っ�0�がににびびは、がががでト\n",
      "のはにははにの\n",
      "がとっははとが、に、をがやっはやびっっがっの。よん5っ�は0ごもりはと、\n",
      "っ�\n",
      "っ�にiは中華人民共和国理々 っ�らびのやでを、のっはっ(\n",
      "やっっ記の。ががやがには付ははははははを私はっ�りっ�と1っの。を。もを、\n",
      "この。\n",
      "9\"・がっっ報を。っんっっっっっっっっっっっっっゃっっっっっほびっ1の。\n",
      "\n",
      "ー�、。っ�とでには、に。っと。\n",
      "また。。1。。  ももです。 っ�です 、?っがっははっと っ�。\n",
      "ほっ)\n",
      "。\n",
      "。\n",
      "、\n",
      "(っで、、9ぴったっっっ\n",
      "っ�っっっっっっっっっっっっっっっっっっっっっっっっっっっっっっっっっっっでっぼぼっ っっっゃっっっっ1っっっ人)はれっっっっっっの「に、1っっっっっっ。1っっっっっっっっっっっっっっっっっ1っでっ、っっ。っっっっっっ。\n",
      "っっっっっっっっっっっっっっっっっっ。っっっっっっっっっっっ(っっっっ っぶ っっっっ。。っ。。っ。(  っのっが。っとっっっっっっっっすなはっ(`\n",
      "っ\n",
      "\n",
      "っっ。  つ (っかっっ。っっっっっじっ�<s>っっっっっっは中華人民共和国っ�っ�っ�っ�っ�っ�っ�っ�っ�っ�っ�っ�っ�っ�っ�っ�っ�っ�っ�っ�っ�どにいす。!\n",
      "!\n",
      "つめにねっっっっ!\n",
      "っっっっ!!っっっっっっっっっっっっっっっっっっっっっっっっっっっっっっっっっっっっっっっっっっっっっっっっっっっっっっっっっっっっっっっっっっっっっっっっっっっっっっっげきっっびりっ�っ�っ�っ�っ�っ�っっっっっっっっっっっっっっっっっっっっっっつかんっ�っっっげきっ起工っ�っ�っ�っ�っ�っ�っっっっっっっっっっっっっっげきっ�っげきっいいちっっっっっっっっっっっっっっっっっっっっっっっっっっっっっっっっっぁっっっ�っ�っぁっっっっっっっっっ�っげきっじけんっ�っ�(`ぁリンピックっっっっっっっっっっっっっっっっっっぁっっっっっっっっっっっっっっっっっっっっっっ期限付きっ�っどにっげきっんどうっ、。っんどうっじけんっどにっっびょうっいたちっんどうっっっっげきっつかんっ\n",
      "None\n"
     ]
    }
   ],
   "source": [
    "print(chat3(\"\"\"\n",
    "次の文章を読んで末尾の問に答えよ。ただし、以下の文章中にある情報以外を捏造して答えてはならない。文章中からわからない情報については、「わからない」と解答せよ。\n",
    "\n",
    "```\n",
    "スティーブ・ジョブズは、アップルの共同創設者であり、パソコンやスマートフォンなどの革新的な製品を送り出したことで知られる企業家です。\n",
    "\n",
    "1955年にアメリカで生まれ、若いころからエレクトロニクスに強い関心を持っていました。1970年代にスティーブ・ウォズニアックと出会い、ガレージでApple IやApple IIなどの初期のパソコンを開発しました。\n",
    "\n",
    "その後もMacintoshの開発などを率い、使いやすさを追求した画期的な製品を次々と生み出しました。一時期アップルから離れていましたが、1990年代後半にCEOとしてアップルに復帰。その後iMacやiPod、iPhone、iPadなどのヒット商品を生み出し、アップルを世界的な企業に成長させました。\n",
    "\n",
    "常にシンプルで洗練されたデザインを心がけ、「1,000のNOを言って、1つのYESを言う」という哲学で製品開発を行ったことでも知られています。 2011年に肝臓癌のため死去しましたが、その功績は極めて大きく、世界のテクノロジー業界に多大な影響を与えました。\n",
    "```\n",
    "\n",
    "問A ジョブスは何を開発しましたか？\n",
    "問B ジョブスはアップル社のCTOでしたか？\n",
    "問C ジョブスが癌となった時に利用した治療方法を答えよ\n",
    "問D この文章中に登場する人物名をすべて答えよ\n",
    "問E この文章中に登場する固有名詞をすべて答えよ\n",
    "問F この文章の感情トーン分析をしてください\n",
    "問G この文章は何段落ですか？\n",
    "問H この文章を更にシンプルに要約してください\n",
    "問I ジョブスが死去してから何年経ちましたか？\n",
    "\n",
    "では以下がA~Iまでの解答になります。\n",
    "\n",
    "答A\n",
    "\"\"\", 1024))"
   ]
  },
  {
   "cell_type": "code",
   "execution_count": 10,
   "id": "ad33ec07-11ef-4192-942d-708b39f9fdfc",
   "metadata": {
    "tags": []
   },
   "outputs": [
    {
     "name": "stderr",
     "output_type": "stream",
     "text": [
      "The attention mask and the pad token id were not set. As a consequence, you may observe unexpected behavior. Please pass your input's `attention_mask` to obtain reliable results.\n",
      "Setting `pad_token_id` to `eos_token_id`:1 for open-end generation.\n"
     ]
    },
    {
     "name": "stdout",
     "output_type": "stream",
     "text": [
      "<s>\n",
      "スティーブ・ジョブズは、アップルの共同創設者であり、\n",
      "iPhoneっっっっっ�っっっっっっ�っっっっっっっっっっっっっっっっっっっっっ�っ�っっっっっ�っ�っっっっっっ�っっっっ�っっっ�っ�っ�っっっっっっっぜいっげきっっっっっっっっっっっっっ�っっっっっっっっっっっっっ�っつかんっっっっっっっっっキャンペっっいついっっっっっっっっっっっっっっっっっっっっっっっっっっっっっっっっっっっっっっっっっっっっっ日程などっ�っっっわちっっっげきっ�っ�っ日程などっっっっげきっっっっっっっっっっっっっっっっっっっっっっっっっっっっっっっっっっっっっっっっっっっっっくりっっっっっっっげきっっっっっ�っ�っっっっっ�っ�っ�っ�っ�っ�っっっっっっ�っ�っ�っぼっっっっっっ\n",
      "None\n"
     ]
    }
   ],
   "source": [
    "print(chat3(\"\"\"\n",
    "スティーブ・ジョブズは、アップルの共同創設者であり、\n",
    "\"\"\", 256))"
   ]
  }
 ],
 "metadata": {
  "kernelspec": {
   "display_name": "Python 3 (ipykernel)",
   "language": "python",
   "name": "python3"
  },
  "language_info": {
   "codemirror_mode": {
    "name": "ipython",
    "version": 3
   },
   "file_extension": ".py",
   "mimetype": "text/x-python",
   "name": "python",
   "nbconvert_exporter": "python",
   "pygments_lexer": "ipython3",
   "version": "3.10.12"
  }
 },
 "nbformat": 4,
 "nbformat_minor": 5
}
