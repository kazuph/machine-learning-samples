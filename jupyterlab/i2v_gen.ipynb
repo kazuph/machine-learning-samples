{
 "cells": [
  {
   "cell_type": "code",
   "execution_count": 1,
   "id": "a3138640-ec94-4fd9-ae16-f421f0b9ad9a",
   "metadata": {
    "tags": []
   },
   "outputs": [
    {
     "name": "stdout",
     "output_type": "stream",
     "text": [
      "/content\n"
     ]
    }
   ],
   "source": [
    "!mkdir /content\n",
    "%cd /content"
   ]
  },
  {
   "cell_type": "code",
   "execution_count": 5,
   "id": "a441d41c-365a-4c80-ba3e-881c3ce20c4a",
   "metadata": {
    "tags": []
   },
   "outputs": [
    {
     "name": "stdout",
     "output_type": "stream",
     "text": [
      "Requirement already satisfied: opencv-python in /usr/local/lib/python3.10/dist-packages (4.8.0.76)\n",
      "Requirement already satisfied: numpy>=1.21.2 in /usr/local/lib/python3.10/dist-packages (from opencv-python) (1.24.1)\n",
      "\u001b[33mDEPRECATION: torchsde 0.2.5 has a non-standard dependency specifier numpy>=1.19.*; python_version >= \"3.7\". pip 23.3 will enforce this behaviour change. A possible replacement is to upgrade to a newer version of torchsde or contact the author to suggest that they release a version with a conforming dependency specifiers. Discussion can be found at https://github.com/pypa/pip/issues/12063\u001b[0m\u001b[33m\n",
      "\u001b[0m\u001b[33mWARNING: Running pip as the 'root' user can result in broken permissions and conflicting behaviour with the system package manager. It is recommended to use a virtual environment instead: https://pip.pypa.io/warnings/venv\u001b[0m\u001b[33m\n",
      "\u001b[0mCollecting easydict\n",
      "  Downloading easydict-1.10.tar.gz (6.4 kB)\n",
      "  Preparing metadata (setup.py) ... \u001b[?25ldone\n",
      "\u001b[?25hBuilding wheels for collected packages: easydict\n",
      "  Building wheel for easydict (setup.py) ... \u001b[?25ldone\n",
      "\u001b[?25h  Created wheel for easydict: filename=easydict-1.10-py3-none-any.whl size=6507 sha256=6a19a8f5d3196d933907ec7e641862de002d63ffc218f688421b8ccf2de80b15\n",
      "  Stored in directory: /root/.cache/pip/wheels/b7/e3/8c/f814820ac7ef5fd96f38759ce0d3dc51166a3169008b31da53\n",
      "Successfully built easydict\n",
      "\u001b[33mDEPRECATION: torchsde 0.2.5 has a non-standard dependency specifier numpy>=1.19.*; python_version >= \"3.7\". pip 23.3 will enforce this behaviour change. A possible replacement is to upgrade to a newer version of torchsde or contact the author to suggest that they release a version with a conforming dependency specifiers. Discussion can be found at https://github.com/pypa/pip/issues/12063\u001b[0m\u001b[33m\n",
      "\u001b[0mInstalling collected packages: easydict\n",
      "Successfully installed easydict-1.10\n",
      "\u001b[33mWARNING: Running pip as the 'root' user can result in broken permissions and conflicting behaviour with the system package manager. It is recommended to use a virtual environment instead: https://pip.pypa.io/warnings/venv\u001b[0m\u001b[33m\n",
      "\u001b[0m"
     ]
    }
   ],
   "source": [
    "!pip install opencv-python\n",
    "!pip install easydict"
   ]
  },
  {
   "cell_type": "code",
   "execution_count": null,
   "id": "f87a14a6-2f57-4691-9700-0b22aa8b7a05",
   "metadata": {},
   "outputs": [],
   "source": [
    "!apt -y install -qq aria2\n",
    "!aria2c --console-log-level=error -c -x 16 -s 16 -k 1M https://huggingface.co/camenduru/damo-video-to-video/resolve/main/open_clip_pytorch_model.bin -d /root/.cache/modelscope/hub/damo/Video-to-Video -o open_clip_pytorch_model.bin\n",
    "!aria2c --console-log-level=error -c -x 16 -s 16 -k 1M https://huggingface.co/camenduru/damo-video-to-video/resolve/main/non_ema_0035000.pth -d /root/.cache/modelscope/hub/damo/Video-to-Video -o non_ema_0035000.pth\n",
    "!aria2c --console-log-level=error -c -x 16 -s 16 -k 1M https://huggingface.co/camenduru/damo-video-to-video/resolve/main/v2-1_512-ema-pruned.ckpt -d /root/.cache/modelscope/hub/damo/Video-to-Video -o v2-1_512-ema-pruned.ckpt\n",
    "!aria2c --console-log-level=error -c -x 16 -s 16 -k 1M https://huggingface.co/camenduru/damo-video-to-video/raw/main/configuration.json -d /root/.cache/modelscope/hub/damo/Video-to-Video -o configuration.json\n",
    "!aria2c --console-log-level=error -c -x 16 -s 16 -k 1M https://huggingface.co/camenduru/damo-video-to-video/resolve/main/.mdl -d /root/.cache/modelscope/hub/damo/Video-to-Video -o .mdl\n",
    "!aria2c --console-log-level=error -c -x 16 -s 16 -k 1M https://huggingface.co/camenduru/damo-video-to-video/resolve/main/.msc -d /root/.cache/modelscope/hub/damo/Video-to-Video -o .msc\n",
    "!aria2c --console-log-level=error -c -x 16 -s 16 -k 1M https://huggingface.co/camenduru/damo-video-to-video/resolve/main/assets/images/Fig_1.png -d /root/.cache/modelscope/hub/damo/Video-to-Video -o assets/images/Fig_1.png\n",
    "\n",
    "!aria2c --console-log-level=error -c -x 16 -s 16 -k 1M https://huggingface.co/camenduru/damo-image-to-video/resolve/main/base_03_alldata_fps_v_80g_0789000.pth -d /root/.cache/modelscope/hub/damo/Image-to-Video -o base_03_alldata_fps_v_80g_0789000.pth\n",
    "!aria2c --console-log-level=error -c -x 16 -s 16 -k 1M https://huggingface.co/camenduru/damo-image-to-video/resolve/main/open_clip_pytorch_model.bin -d /root/.cache/modelscope/hub/damo/Image-to-Video -o open_clip_pytorch_model.bin\n",
    "!aria2c --console-log-level=error -c -x 16 -s 16 -k 1M https://huggingface.co/camenduru/damo-image-to-video/resolve/main/v2-1_512-ema-pruned.ckpt -d /root/.cache/modelscope/hub/damo/Image-to-Video -o v2-1_512-ema-pruned.ckpt\n",
    "!aria2c --console-log-level=error -c -x 16 -s 16 -k 1M https://huggingface.co/camenduru/damo-image-to-video/raw/main/configuration.json -d /root/.cache/modelscope/hub/damo/Image-to-Video -o configuration.json\n",
    "!aria2c --console-log-level=error -c -x 16 -s 16 -k 1M https://huggingface.co/camenduru/damo-image-to-video/resolve/main/.mdl -d /root/.cache/modelscope/hub/damo/Image-to-Video -o .mdl\n",
    "!aria2c --console-log-level=error -c -x 16 -s 16 -k 1M https://huggingface.co/camenduru/damo-image-to-video/resolve/main/.msc -d /root/.cache/modelscope/hub/damo/Image-to-Video -o .msc\n",
    "!aria2c --console-log-level=error -c -x 16 -s 16 -k 1M https://huggingface.co/camenduru/damo-image-to-video/resolve/main/assets/videos/08a5a4d7e2fe44a8bb2cf4df198e20dc_0_02_00_0111.gif -d /root/.cache/modelscope/hub/damo/Image-to-Video -o assets/videos/08a5a4d7e2fe44a8bb2cf4df198e20dc_0_02_00_0111.gif\n",
    "!aria2c --console-log-level=error -c -x 16 -s 16 -k 1M https://huggingface.co/camenduru/damo-image-to-video/resolve/main/assets/videos/08a5a4d7e2fe44a8bb2cf4df198e20dc_2_02_01_0113.gif -d /root/.cache/modelscope/hub/damo/Image-to-Video -o assets/videos/08a5a4d7e2fe44a8bb2cf4df198e20dc_2_02_01_0113.gif\n",
    "!aria2c --console-log-level=error -c -x 16 -s 16 -k 1M https://huggingface.co/camenduru/damo-image-to-video/resolve/main/assets/videos/0ba38f2f287f446dac8de87291073e0c_0_02_00_0008.mp4 -d /root/.cache/modelscope/hub/damo/Image-to-Video -o assets/videos/0ba38f2f287f446dac8de87291073e0c_0_02_00_0008.mp4\n",
    "!aria2c --console-log-level=error -c -x 16 -s 16 -k 1M https://huggingface.co/camenduru/damo-image-to-video/resolve/main/assets/videos/293fdf76aa404971b1fbb66baf9cbaac_2_02_00_0017.gif -d /root/.cache/modelscope/hub/damo/Image-to-Video -o assets/videos/293fdf76aa404971b1fbb66baf9cbaac_2_02_00_0017.gif\n",
    "!aria2c --console-log-level=error -c -x 16 -s 16 -k 1M https://huggingface.co/camenduru/damo-image-to-video/resolve/main/assets/videos/426a7bee22034a88872dc8277ddbbf06_3_02_01_0026.gif -d /root/.cache/modelscope/hub/damo/Image-to-Video -o assets/videos/426a7bee22034a88872dc8277ddbbf06_3_02_01_0026.gif\n",
    "!aria2c --console-log-level=error -c -x 16 -s 16 -k 1M https://huggingface.co/camenduru/damo-image-to-video/resolve/main/assets/videos/5274db5c33274e5ab27c12cdbed57ada_2_02_00_0140.gif -d /root/.cache/modelscope/hub/damo/Image-to-Video -o assets/videos/5274db5c33274e5ab27c12cdbed57ada_2_02_00_0140.gif\n",
    "!aria2c --console-log-level=error -c -x 16 -s 16 -k 1M https://huggingface.co/camenduru/damo-image-to-video/resolve/main/assets/videos/87d8dd92a04d41c38c79b85dcc84f810_0_02_00_0158.gif -d /root/.cache/modelscope/hub/damo/Image-to-Video -o assets/videos/87d8dd92a04d41c38c79b85dcc84f810_0_02_00_0158.gif\n",
    "!aria2c --console-log-level=error -c -x 16 -s 16 -k 1M https://huggingface.co/camenduru/damo-image-to-video/resolve/main/assets/videos/87d8dd92a04d41c38c79b85dcc84f810_3_02_00_0161.gif -d /root/.cache/modelscope/hub/damo/Image-to-Video -o assets/videos/87d8dd92a04d41c38c79b85dcc84f810_3_02_00_0161.gif\n",
    "!aria2c --console-log-level=error -c -x 16 -s 16 -k 1M https://huggingface.co/camenduru/damo-image-to-video/resolve/main/assets/videos/a15bb09862b74b3c983a54b379912f81_0_02_00_0055.gif -d /root/.cache/modelscope/hub/damo/Image-to-Video -o assets/videos/a15bb09862b74b3c983a54b379912f81_0_02_00_0055.gif\n",
    "!aria2c --console-log-level=error -c -x 16 -s 16 -k 1M https://huggingface.co/camenduru/damo-image-to-video/resolve/main/assets/videos/a15bb09862b74b3c983a54b379912f81_3_02_00_0058.gif -d /root/.cache/modelscope/hub/damo/Image-to-Video -o assets/videos/a15bb09862b74b3c983a54b379912f81_3_02_00_0058.gif\n",
    "!aria2c --console-log-level=error -c -x 16 -s 16 -k 1M https://huggingface.co/camenduru/damo-image-to-video/resolve/main/assets/videos/ac10af0b1c524b778aff60be5b7ecc4f_1_02_00_0064.gif -d /root/.cache/modelscope/hub/damo/Image-to-Video -o assets/videos/ac10af0b1c524b778aff60be5b7ecc4f_1_02_00_0064.gif\n",
    "!aria2c --console-log-level=error -c -x 16 -s 16 -k 1M https://huggingface.co/camenduru/damo-image-to-video/resolve/main/assets/videos/ac10af0b1c524b778aff60be5b7ecc4f_3_02_01_0173.gif -d /root/.cache/modelscope/hub/damo/Image-to-Video -o assets/videos/ac10af0b1c524b778aff60be5b7ecc4f_3_02_01_0173.gif\n",
    "!aria2c --console-log-level=error -c -x 16 -s 16 -k 1M https://huggingface.co/camenduru/damo-image-to-video/resolve/main/assets/videos/b307dad96c3d440e80514b1b3f3be5fd_1_02_00_0175.gif -d /root/.cache/modelscope/hub/damo/Image-to-Video -o assets/videos/b307dad96c3d440e80514b1b3f3be5fd_1_02_00_0175.gif\n",
    "!aria2c --console-log-level=error -c -x 16 -s 16 -k 1M https://huggingface.co/camenduru/damo-image-to-video/resolve/main/assets/videos/b307dad96c3d440e80514b1b3f3be5fd_2_02_00_0069.gif -d /root/.cache/modelscope/hub/damo/Image-to-Video -o assets/videos/b307dad96c3d440e80514b1b3f3be5fd_2_02_00_0069.gif\n",
    "!aria2c --console-log-level=error -c -x 16 -s 16 -k 1M https://huggingface.co/camenduru/damo-image-to-video/resolve/main/assets/videos/d0c1f7daa2754caca1ae831c1d06552c_0_02_01_0075.gif -d /root/.cache/modelscope/hub/damo/Image-to-Video -o assets/videos/d0c1f7daa2754caca1ae831c1d06552c_0_02_01_0075.gif\n",
    "!aria2c --console-log-level=error -c -x 16 -s 16 -k 1M https://huggingface.co/camenduru/damo-image-to-video/resolve/main/assets/videos/d82ed4ad01034243ba88eaf9311c1edf_2_02_00_0192.gif -d /root/.cache/modelscope/hub/damo/Image-to-Video -o assets/videos/d82ed4ad01034243ba88eaf9311c1edf_2_02_00_0192.gif\n",
    "!aria2c --console-log-level=error -c -x 16 -s 16 -k 1M https://huggingface.co/camenduru/damo-image-to-video/resolve/main/assets/videos/d82ed4ad01034243ba88eaf9311c1edf_3_02_01_0086.gif -d /root/.cache/modelscope/hub/damo/Image-to-Video -o assets/videos/d82ed4ad01034243ba88eaf9311c1edf_3_02_01_0086.gif\n",
    "!aria2c --console-log-level=error -c -x 16 -s 16 -k 1M https://huggingface.co/camenduru/damo-image-to-video/resolve/main/assets/videos/d82ed4ad01034243ba88eaf9311c1edf_3_02_01_0193.gif -d /root/.cache/modelscope/hub/damo/Image-to-Video -o assets/videos/d82ed4ad01034243ba88eaf9311c1edf_3_02_01_0193.gif\n",
    "!aria2c --console-log-level=error -c -x 16 -s 16 -k 1M https://huggingface.co/camenduru/damo-image-to-video/resolve/main/assets/videos/e3733444344741f1970cf2e92e617182_1_02_00_0199.gif -d /root/.cache/modelscope/hub/damo/Image-to-Video -o assets/videos/e3733444344741f1970cf2e92e617182_1_02_00_0199.gif\n",
    "!aria2c --console-log-level=error -c -x 16 -s 16 -k 1M https://huggingface.co/camenduru/damo-image-to-video/resolve/main/assets/videos/e3733444344741f1970cf2e92e617182_1_02_01_0199.gif -d /root/.cache/modelscope/hub/damo/Image-to-Video -o assets/videos/e3733444344741f1970cf2e92e617182_1_02_01_0199.gif\n",
    "!aria2c --console-log-level=error -c -x 16 -s 16 -k 1M https://huggingface.co/camenduru/damo-image-to-video/resolve/main/assets/videos/fb139a2c370744b6981a5bbd0ef085ed_0_02_01_0103.gif -d /root/.cache/modelscope/hub/damo/Image-to-Video -o assets/videos/fb139a2c370744b6981a5bbd0ef085ed_0_02_01_0103.gif\n",
    "!aria2c --console-log-level=error -c -x 16 -s 16 -k 1M https://huggingface.co/camenduru/damo-image-to-video/resolve/main/assets/videos/fb139a2c370744b6981a5bbd0ef085ed_3_02_00_0213.gif -d /root/.cache/modelscope/hub/damo/Image-to-Video -o assets/videos/fb139a2c370744b6981a5bbd0ef085ed_3_02_00_0213.gif\n",
    "!aria2c --console-log-level=error -c -x 16 -s 16 -k 1M https://huggingface.co/camenduru/damo-image-to-video/resolve/main/assets/gif/03b401c825a2479eaf7b1b3252683a4b_0000000_rank_02-01-0116-001024.gif -d /root/.cache/modelscope/hub/damo/Image-to-Video -o assets/gif/03b401c825a2479eaf7b1b3252683a4b_0000000_rank_02-01-0116-001024.gif\n",
    "!aria2c --console-log-level=error -c -x 16 -s 16 -k 1M https://huggingface.co/camenduru/damo-image-to-video/resolve/main/assets/gif/03b401c825a2479eaf7b1b3252683a4b_0_rank_02-01-0664-001024.gif -d /root/.cache/modelscope/hub/damo/Image-to-Video -o assets/gif/03b401c825a2479eaf7b1b3252683a4b_0_rank_02-01-0664-001024.gif\n",
    "!aria2c --console-log-level=error -c -x 16 -s 16 -k 1M https://huggingface.co/camenduru/damo-image-to-video/resolve/main/assets/gif/03b401c825a2479eaf7b1b3252683a4b_3_02_00_0110_rank_02-00-1009-001024.gif -d /root/.cache/modelscope/hub/damo/Image-to-Video -o assets/gif/03b401c825a2479eaf7b1b3252683a4b_3_02_00_0110_rank_02-00-1009-001024.gif\n",
    "!aria2c --console-log-level=error -c -x 16 -s 16 -k 1M https://huggingface.co/camenduru/damo-image-to-video/resolve/main/assets/gif/0ba38f2f287f446dac8de87291073e0c_3_rank_02-01-0118-000000.gif -d /root/.cache/modelscope/hub/damo/Image-to-Video -o assets/gif/0ba38f2f287f446dac8de87291073e0c_3_rank_02-01-0118-000000.gif\n",
    "!aria2c --console-log-level=error -c -x 16 -s 16 -k 1M https://huggingface.co/camenduru/damo-image-to-video/resolve/main/assets/gif/293fdf76aa404971b1fbb66baf9cbaac_1_02_00_0123_rank_02-00-0288-001024.gif -d /root/.cache/modelscope/hub/damo/Image-to-Video -o assets/gif/293fdf76aa404971b1fbb66baf9cbaac_1_02_00_0123_rank_02-00-0288-001024.gif\n",
    "!aria2c --console-log-level=error -c -x 16 -s 16 -k 1M https://huggingface.co/camenduru/damo-image-to-video/resolve/main/assets/gif/3e89356e6bd3470aaf3900b1b34c3ec2_0_rank_02-01-0126-000000.gif -d /root/.cache/modelscope/hub/damo/Image-to-Video -o assets/gif/3e89356e6bd3470aaf3900b1b34c3ec2_0_rank_02-01-0126-000000.gif\n",
    "!aria2c --console-log-level=error -c -x 16 -s 16 -k 1M https://huggingface.co/camenduru/damo-image-to-video/resolve/main/assets/gif/3e89356e6bd3470aaf3900b1b34c3ec2_1_02_00_0020_rank_02-00-0303-001024.gif -d /root/.cache/modelscope/hub/damo/Image-to-Video -o assets/gif/3e89356e6bd3470aaf3900b1b34c3ec2_1_02_00_0020_rank_02-00-0303-001024.gif\n",
    "!aria2c --console-log-level=error -c -x 16 -s 16 -k 1M https://huggingface.co/camenduru/damo-image-to-video/resolve/main/assets/gif/426a7bee22034a88872dc8277ddbbf06_0_02_01_0023_rank_02-01-1090-001024.gif -d /root/.cache/modelscope/hub/damo/Image-to-Video -o assets/gif/426a7bee22034a88872dc8277ddbbf06_0_02_01_0023_rank_02-01-1090-001024.gif\n",
    "!aria2c --console-log-level=error -c -x 16 -s 16 -k 1M https://huggingface.co/camenduru/damo-image-to-video/resolve/main/assets/gif/6fd21439fce644afa3a2e9b057956d0f_0000000_rank_02-01-0159-001024.gif -d /root/.cache/modelscope/hub/damo/Image-to-Video -o assets/gif/6fd21439fce644afa3a2e9b057956d0f_0000000_rank_02-01-0159-001024.gif\n",
    "!aria2c --console-log-level=error -c -x 16 -s 16 -k 1M https://huggingface.co/camenduru/damo-image-to-video/resolve/main/assets/gif/6fd21439fce644afa3a2e9b057956d0f_3_02_01_0153_rank_02-01-1183-001024.gif -d /root/.cache/modelscope/hub/damo/Image-to-Video -o assets/gif/6fd21439fce644afa3a2e9b057956d0f_3_02_01_0153_rank_02-01-1183-001024.gif\n",
    "!aria2c --console-log-level=error -c -x 16 -s 16 -k 1M https://huggingface.co/camenduru/damo-image-to-video/resolve/main/assets/gif/7716d91802614bf9a99174c05bd08f32_3_02_01_0157_rank_02-01-1199-001024.gif -d /root/.cache/modelscope/hub/damo/Image-to-Video -o assets/gif/7716d91802614bf9a99174c05bd08f32_3_02_01_0157_rank_02-01-1199-001024.gif\n",
    "!aria2c --console-log-level=error -c -x 16 -s 16 -k 1M https://huggingface.co/camenduru/damo-image-to-video/resolve/main/assets/gif/a15bb09862b74b3c983a54b379912f81_0_02_00_0055.gif -d /root/.cache/modelscope/hub/damo/Image-to-Video -o assets/gif/a15bb09862b74b3c983a54b379912f81_0_02_00_0055.gif\n",
    "!aria2c --console-log-level=error -c -x 16 -s 16 -k 1M https://huggingface.co/camenduru/damo-image-to-video/resolve/main/assets/gif/a15bb09862b74b3c983a54b379912f81_0_02_00_0055_rank_02-01-0443-001024.gif -d /root/.cache/modelscope/hub/damo/Image-to-Video -o assets/gif/a15bb09862b74b3c983a54b379912f81_0_02_00_0055_rank_02-01-0443-001024.gif\n",
    "!aria2c --console-log-level=error -c -x 16 -s 16 -k 1M https://huggingface.co/camenduru/damo-image-to-video/resolve/main/assets/gif/ac10af0b1c524b778aff60be5b7ecc4f_0000000_rank_02-00-0179-001024.gif -d /root/.cache/modelscope/hub/damo/Image-to-Video -o assets/gif/ac10af0b1c524b778aff60be5b7ecc4f_0000000_rank_02-00-0179-001024.gif\n",
    "!aria2c --console-log-level=error -c -x 16 -s 16 -k 1M https://huggingface.co/camenduru/damo-image-to-video/resolve/main/assets/gif/ac10af0b1c524b778aff60be5b7ecc4f_0_02_01_0170_rank_02-01-1251-001024.gif -d /root/.cache/modelscope/hub/damo/Image-to-Video -o assets/gif/ac10af0b1c524b778aff60be5b7ecc4f_0_02_01_0170_rank_02-01-1251-001024.gif\n",
    "!aria2c --console-log-level=error -c -x 16 -s 16 -k 1M https://huggingface.co/camenduru/damo-image-to-video/resolve/main/assets/gif/ac10af0b1c524b778aff60be5b7ecc4f_2_02_00_0065_rank_02-00-1256-001024.gif -d /root/.cache/modelscope/hub/damo/Image-to-Video -o assets/gif/ac10af0b1c524b778aff60be5b7ecc4f_2_02_00_0065_rank_02-00-1256-001024.gif\n",
    "!aria2c --console-log-level=error -c -x 16 -s 16 -k 1M https://huggingface.co/camenduru/damo-image-to-video/resolve/main/assets/gif/airship_0_rank_02-00-000000_rank_02-00-0653-001024.gif -d /root/.cache/modelscope/hub/damo/Image-to-Video -o assets/gif/airship_0_rank_02-00-000000_rank_02-00-0653-001024.gif\n",
    "!aria2c --console-log-level=error -c -x 16 -s 16 -k 1M https://huggingface.co/camenduru/damo-image-to-video/resolve/main/assets/gif/airship_0_rank_02-00-0095-001024.gif -d /root/.cache/modelscope/hub/damo/Image-to-Video -o assets/gif/airship_0_rank_02-00-0095-001024.gif\n",
    "!aria2c --console-log-level=error -c -x 16 -s 16 -k 1M https://huggingface.co/camenduru/damo-image-to-video/resolve/main/assets/gif/airship_1_rank_02-01-000000_rank_02-00-1428-001024.gif -d /root/.cache/modelscope/hub/damo/Image-to-Video -o assets/gif/airship_1_rank_02-01-000000_rank_02-00-1428-001024.gif\n",
    "!aria2c --console-log-level=error -c -x 16 -s 16 -k 1M https://huggingface.co/camenduru/damo-image-to-video/resolve/main/assets/gif/ast_rank_02-00-0773-001024.gif -d /root/.cache/modelscope/hub/damo/Image-to-Video -o assets/gif/ast_rank_02-00-0773-001024.gif\n",
    "!aria2c --console-log-level=error -c -x 16 -s 16 -k 1M https://huggingface.co/camenduru/damo-image-to-video/resolve/main/assets/gif/b307dad96c3d440e80514b1b3f3be5fd_1_02_00_0068_rank_02-01-0495-001024.gif -d /root/.cache/modelscope/hub/damo/Image-to-Video -o assets/gif/b307dad96c3d440e80514b1b3f3be5fd_1_02_00_0068_rank_02-01-0495-001024.gif\n",
    "!aria2c --console-log-level=error -c -x 16 -s 16 -k 1M https://huggingface.co/camenduru/damo-image-to-video/resolve/main/assets/gif/b307dad96c3d440e80514b1b3f3be5fd_1_rank_02-00-0068-000000.gif -d /root/.cache/modelscope/hub/damo/Image-to-Video -o assets/gif/b307dad96c3d440e80514b1b3f3be5fd_1_rank_02-00-0068-000000.gif\n",
    "!aria2c --console-log-level=error -c -x 16 -s 16 -k 1M https://huggingface.co/camenduru/damo-image-to-video/resolve/main/assets/gif/b307dad96c3d440e80514b1b3f3be5fd_1_rank_02-00-0175-000000.gif -d /root/.cache/modelscope/hub/damo/Image-to-Video -o assets/gif/b307dad96c3d440e80514b1b3f3be5fd_1_rank_02-00-0175-000000.gif\n",
    "!aria2c --console-log-level=error -c -x 16 -s 16 -k 1M https://huggingface.co/camenduru/damo-image-to-video/resolve/main/assets/gif/bf19a66dca0a47799923c47249982ffd_0000000_rank_02-01-0960-001024.gif -d /root/.cache/modelscope/hub/damo/Image-to-Video -o assets/gif/bf19a66dca0a47799923c47249982ffd_0000000_rank_02-01-0960-001024.gif\n",
    "!aria2c --console-log-level=error -c -x 16 -s 16 -k 1M https://huggingface.co/camenduru/damo-image-to-video/resolve/main/assets/gif/bike_rank_02-01-0007-001024.gif -d /root/.cache/modelscope/hub/damo/Image-to-Video -o assets/gif/bike_rank_02-01-0007-001024.gif\n",
    "!aria2c --console-log-level=error -c -x 16 -s 16 -k 1M https://huggingface.co/camenduru/damo-image-to-video/resolve/main/assets/gif/d82ed4ad01034243ba88eaf9311c1edf_3_02_01_0193.gif -d /root/.cache/modelscope/hub/damo/Image-to-Video -o assets/gif/d82ed4ad01034243ba88eaf9311c1edf_3_02_01_0193.gif\n",
    "!aria2c --console-log-level=error -c -x 16 -s 16 -k 1M https://huggingface.co/camenduru/damo-image-to-video/resolve/main/assets/gif/dragon2_rank_02-00-0021-001024.gif -d /root/.cache/modelscope/hub/damo/Image-to-Video -o assets/gif/dragon2_rank_02-00-0021-001024.gif\n",
    "!aria2c --console-log-level=error -c -x 16 -s 16 -k 1M https://huggingface.co/camenduru/damo-image-to-video/resolve/main/assets/gif/dragon2_rank_02-01-0794-001024.gif -d /root/.cache/modelscope/hub/damo/Image-to-Video -o assets/gif/dragon2_rank_02-01-0794-001024.gif\n",
    "!aria2c --console-log-level=error -c -x 16 -s 16 -k 1M https://huggingface.co/camenduru/damo-image-to-video/resolve/main/assets/gif/e3733444344741f1970cf2e92e617182_1_02_00_0199.gif -d /root/.cache/modelscope/hub/damo/Image-to-Video -o assets/gif/e3733444344741f1970cf2e92e617182_1_02_00_0199.gif\n",
    "!aria2c --console-log-level=error -c -x 16 -s 16 -k 1M https://huggingface.co/camenduru/damo-image-to-video/resolve/main/assets/gif/indian_rank_02-00-0800-001024.gif -d /root/.cache/modelscope/hub/damo/Image-to-Video -o assets/gif/indian_rank_02-00-0800-001024.gif\n",
    "!aria2c --console-log-level=error -c -x 16 -s 16 -k 1M https://huggingface.co/camenduru/damo-image-to-video/resolve/main/assets/gif/laoshu3_rank_02-00-0812-001024.gif -d /root/.cache/modelscope/hub/damo/Image-to-Video -o assets/gif/laoshu3_rank_02-00-0812-001024.gif\n",
    "!aria2c --console-log-level=error -c -x 16 -s 16 -k 1M https://huggingface.co/camenduru/damo-image-to-video/resolve/main/assets/gif/laoshu_rank_02-01-0810-001024.gif -d /root/.cache/modelscope/hub/damo/Image-to-Video -o assets/gif/laoshu_rank_02-01-0810-001024.gif\n",
    "!aria2c --console-log-level=error -c -x 16 -s 16 -k 1M https://huggingface.co/camenduru/damo-image-to-video/resolve/main/assets/gif/panda_rank_02-01-0007-009999.gif -d /root/.cache/modelscope/hub/damo/Image-to-Video -o assets/gif/panda_rank_02-01-0007-009999.gif\n",
    "!aria2c --console-log-level=error -c -x 16 -s 16 -k 1M https://huggingface.co/camenduru/damo-image-to-video/resolve/main/assets/gif/robot1_rank_02-00-0009-009999.gif -d /root/.cache/modelscope/hub/damo/Image-to-Video -o assets/gif/robot1_rank_02-00-0009-009999.gif\n",
    "!aria2c --console-log-level=error -c -x 16 -s 16 -k 1M https://huggingface.co/camenduru/damo-image-to-video/resolve/main/assets/gif/robot1_rank_02-01-0009-009999.gif -d /root/.cache/modelscope/hub/damo/Image-to-Video -o assets/gif/robot1_rank_02-01-0009-009999.gif\n",
    "!aria2c --console-log-level=error -c -x 16 -s 16 -k 1M https://huggingface.co/camenduru/damo-image-to-video/resolve/main/assets/image/Fig_twostage.png -d /root/.cache/modelscope/hub/damo/Image-to-Video -o assets/image/Fig_twostage.png\n",
    "!aria2c --console-log-level=error -c -x 16 -s 16 -k 1M https://huggingface.co/camenduru/damo-image-to-video/resolve/main/assets/image/fig1_overview.jpg -d /root/.cache/modelscope/hub/damo/Image-to-Video -o assets/image/fig1_overview.jpg\n",
    "\n",
    "!pip install -q xformers==0.0.20 triton==2.0.0 gradio torchsde open_clip_torch einops rotary-embedding-torch fairscale\n",
    "!pip install -q pytorch-lightning torchmetrics -U\n",
    "!pip install https://github.com/camenduru/I2VGen-XL-colab/releases/download/v1.0/modelscope-1.8.1-py3-none-any.whl"
   ]
  },
  {
   "cell_type": "code",
   "execution_count": 1,
   "id": "1e0b7cfa-92b6-4bff-93e2-17c1ed620114",
   "metadata": {
    "tags": []
   },
   "outputs": [
    {
     "name": "stderr",
     "output_type": "stream",
     "text": [
      "2023-08-25 09:22:37,247 - modelscope - INFO - PyTorch version 2.0.1+cu118 Found.\n",
      "2023-08-25 09:22:37,249 - modelscope - INFO - Loading ast index from /root/.cache/modelscope/ast_indexer\n",
      "2023-08-25 09:22:37,299 - modelscope - INFO - Loading done! Current index file version is 1.8.1, with md5 4b96ffe9beac3cb52df2b4c27534d9b0 and a total number of 905 components indexed\n",
      "2023-08-25 09:22:39,407 - modelscope - INFO - Development mode use revision: v1.1.0\n",
      "2023-08-25 09:22:42,683 - modelscope - INFO - initiate model from /root/.cache/modelscope/hub/damo/Image-to-Video\n",
      "2023-08-25 09:22:42,684 - modelscope - INFO - initiate model from location /root/.cache/modelscope/hub/damo/Image-to-Video.\n",
      "2023-08-25 09:22:42,685 - modelscope - INFO - initialize model from /root/.cache/modelscope/hub/damo/Image-to-Video\n",
      "2023-08-25 09:22:53,245 - modelscope - INFO - Build encoder with FrozenOpenCLIPVisualEmbedder\n",
      "2023-08-25 09:23:03,535 - modelscope - INFO - Load model Img2VidSDUNet path /root/.cache/modelscope/hub/damo/Image-to-Video/base_03_alldata_fps_v_80g_0789000.pth, with local status <All keys matched successfully>\n",
      "2023-08-25 09:23:03,543 - modelscope - INFO - Build diffusion with type of GaussianDiffusion\n",
      "2023-08-25 09:23:03,701 - modelscope - INFO - Working with z of shape (1, 4, 32, 32) = 4096 dimensions.\n",
      "2023-08-25 09:23:05,992 - modelscope - INFO - Restored from /root/.cache/modelscope/hub/damo/Image-to-Video/v2-1_512-ema-pruned.ckpt\n",
      "2023-08-25 09:23:06,314 - modelscope - WARNING - No preprocessor field found in cfg.\n",
      "2023-08-25 09:23:06,314 - modelscope - WARNING - No val key and type key found in preprocessor domain of configuration.json file.\n",
      "2023-08-25 09:23:06,314 - modelscope - WARNING - Cannot find available config to build preprocessor at mode inference, current config: {'model_dir': '/root/.cache/modelscope/hub/damo/Image-to-Video'}. trying to build by task and model information.\n",
      "2023-08-25 09:23:06,315 - modelscope - WARNING - No preprocessor key ('image-to-video-model', 'image-to-video') found in PREPROCESSOR_MAP, skip building preprocessor.\n",
      "2023-08-25 09:23:06,940 - modelscope - INFO - Development mode use revision: v1.1.0\n",
      "2023-08-25 09:23:07,267 - modelscope - INFO - initiate model from /root/.cache/modelscope/hub/damo/Video-to-Video\n",
      "2023-08-25 09:23:07,268 - modelscope - INFO - initiate model from location /root/.cache/modelscope/hub/damo/Video-to-Video.\n",
      "2023-08-25 09:23:07,269 - modelscope - INFO - initialize model from /root/.cache/modelscope/hub/damo/Video-to-Video\n",
      "2023-08-25 09:23:15,006 - modelscope - INFO - Build encoder with FrozenOpenCLIPEmbedder\n",
      "2023-08-25 09:23:24,423 - modelscope - INFO - Load model Vid2VidSDUNet path /root/.cache/modelscope/hub/damo/Video-to-Video/non_ema_0035000.pth, with local status <All keys matched successfully>\n",
      "2023-08-25 09:23:24,425 - modelscope - INFO - Build diffusion with type of GaussianDiffusion_SDEdit\n",
      "2023-08-25 09:23:24,567 - modelscope - INFO - Working with z of shape (1, 4, 32, 32) = 4096 dimensions.\n",
      "2023-08-25 09:23:26,527 - modelscope - INFO - Restored from /root/.cache/modelscope/hub/damo/Video-to-Video/v2-1_512-ema-pruned.ckpt\n",
      "2023-08-25 09:23:27,330 - modelscope - WARNING - No preprocessor field found in cfg.\n",
      "2023-08-25 09:23:27,330 - modelscope - WARNING - No val key and type key found in preprocessor domain of configuration.json file.\n",
      "2023-08-25 09:23:27,331 - modelscope - WARNING - Cannot find available config to build preprocessor at mode inference, current config: {'model_dir': '/root/.cache/modelscope/hub/damo/Video-to-Video'}. trying to build by task and model information.\n",
      "2023-08-25 09:23:27,331 - modelscope - WARNING - No preprocessor key ('video-to-video-model', 'video-to-video') found in PREPROCESSOR_MAP, skip building preprocessor.\n"
     ]
    },
    {
     "name": "stdout",
     "output_type": "stream",
     "text": [
      "Running on local URL:  http://127.0.0.1:7860\n",
      "Running on public URL: https://04d49741c85423ddf1.gradio.live\n",
      "\n",
      "This share link expires in 72 hours. For free permanent hosting and GPU upgrades, run `gradio deploy` from Terminal to deploy to Spaces (https://huggingface.co/spaces)\n"
     ]
    },
    {
     "data": {
      "text/html": [
       "<div><iframe src=\"https://04d49741c85423ddf1.gradio.live\" width=\"100%\" height=\"500\" allow=\"autoplay; camera; microphone; clipboard-read; clipboard-write;\" frameborder=\"0\" allowfullscreen></iframe></div>"
      ],
      "text/plain": [
       "<IPython.core.display.HTML object>"
      ]
     },
     "metadata": {},
     "output_type": "display_data"
    },
    {
     "data": {
      "text/plain": []
     },
     "execution_count": 1,
     "metadata": {},
     "output_type": "execute_result"
    }
   ],
   "source": [
    "import gradio as gr\n",
    "from modelscope.pipelines import pipeline\n",
    "from modelscope.outputs import OutputKeys\n",
    "\n",
    "image_to_video_pipe = pipeline(task=\"image-to-video\", model='damo/Image-to-Video', model_revision='v1.1.0', device='cuda:0')\n",
    "video_to_video_pipe = pipeline(task=\"video-to-video\", model='damo/Video-to-Video', model_revision='v1.1.0', device='cuda:0')\n",
    "\n",
    "def upload_file(file):\n",
    "    return file.name\n",
    "\n",
    "def image_to_video(image_in):\n",
    "    if image_in is None:\n",
    "        raise gr.Error('Please upload a picture!')\n",
    "    print(image_in)\n",
    "    output_video_path = image_to_video_pipe(image_in, output_video='./i2v_output.mp4')[OutputKeys.OUTPUT_VIDEO]\n",
    "    print(output_video_path)\n",
    "    return output_video_path\n",
    "\n",
    "\n",
    "def video_to_video(video_in, text_in):\n",
    "    if video_in is None:\n",
    "        raise gr.Error('Please complete the first step first.')\n",
    "    if text_in is None:\n",
    "        raise gr.Error('Please enter a text description.')\n",
    "    p_input = {\n",
    "            'video_path': video_in,\n",
    "            'text': text_in\n",
    "        }\n",
    "    output_video_path = video_to_video_pipe(p_input, output_video='./v2v_output.mp4')[OutputKeys.OUTPUT_VIDEO]\n",
    "    print(output_video_path)\n",
    "    return output_video_path\n",
    "\n",
    "with gr.Blocks() as demo:\n",
    "    gr.Markdown(\n",
    "        \"\"\"<center><font size=7>I2VGen-XL Demo</center>\n",
    "        <center><font size=3>I2VGen-XL can generate videos that closely resemble the desired content based on user-input static images and text. The generated videos are characterized by high definition (1280 * 720), widescreen (16:9), temporal coherence, and good visual quality.</center>\"\"\"\n",
    "    )\n",
    "    with gr.Box():\n",
    "        gr.Markdown(\n",
    "        \"\"\"<left><font size=3>Step 1: Select the appropriate image for upload, then click 'Generate Video.' Once you are satisfied with the video, proceed to the next step.</left>\"\"\"\n",
    "        )\n",
    "        with gr.Row():\n",
    "            with gr.Column():\n",
    "                image_in = gr.Image(label=\"Image input\", type=\"filepath\", interactive=False, elem_id=\"image-in\", height=300)\n",
    "                with gr.Row():\n",
    "                    upload_image = gr.UploadButton(\"Upload Image\", file_types=[\"image\"], file_count=\"single\")\n",
    "                    image_submit = gr.Button(\"Generate Video 🎬\")\n",
    "            with gr.Column():\n",
    "                video_out_1 = gr.Video(label='The generated video.', elem_id='video-out_1', interactive=False, height=300)\n",
    "    with gr.Box():\n",
    "        gr.Markdown(\n",
    "        \"\"\"<left><font size=3>Step 2: Provide an additional English textual description for the video content, then click 'Generate High-Resolution Video.' Video generation will take approximately 2 minutes.</left>\"\"\"\n",
    "        )\n",
    "        with gr.Row():\n",
    "            with gr.Column():\n",
    "                text_in = gr.Textbox(label=\"Text Description\", lines=2, elem_id=\"text-in\")\n",
    "                video_submit = gr.Button(\"Generate High-Resolution Video 🎥\")\n",
    "            with gr.Column():\n",
    "                video_out_2 = gr.Video(label='The generated video.', elem_id='video-out_2', height=300)\n",
    "    gr.Markdown(\"<left><font size=2>Note: If the generated video cannot be played, please try upgrading your browser or use Google Chrome browser. </left>\")\n",
    "\n",
    "\n",
    "    upload_image.upload(upload_file, upload_image, image_in)\n",
    "    image_submit.click(fn=image_to_video, inputs=[image_in], outputs=[video_out_1])\n",
    "    video_submit.click(fn=video_to_video, inputs=[video_out_1, text_in], outputs=[video_out_2])\n",
    "\n",
    "demo.queue(max_size=10).launch(share=True)"
   ]
  }
 ],
 "metadata": {
  "kernelspec": {
   "display_name": "Python 3 (ipykernel)",
   "language": "python",
   "name": "python3"
  },
  "language_info": {
   "codemirror_mode": {
    "name": "ipython",
    "version": 3
   },
   "file_extension": ".py",
   "mimetype": "text/x-python",
   "name": "python",
   "nbconvert_exporter": "python",
   "pygments_lexer": "ipython3",
   "version": "3.10.12"
  }
 },
 "nbformat": 4,
 "nbformat_minor": 5
}
