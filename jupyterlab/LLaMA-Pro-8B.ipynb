{
 "cells": [
  {
   "cell_type": "code",
   "execution_count": 2,
   "id": "281a297c-1900-42f3-8d31-1c53c69af7c1",
   "metadata": {
    "tags": []
   },
   "outputs": [
    {
     "data": {
      "application/vnd.jupyter.widget-view+json": {
       "model_id": "9fb3e17142a94ea3ab75d196133c04ba",
       "version_major": 2,
       "version_minor": 0
      },
      "text/plain": [
       "config.json:   0%|          | 0.00/914 [00:00<?, ?B/s]"
      ]
     },
     "metadata": {},
     "output_type": "display_data"
    },
    {
     "name": "stdout",
     "output_type": "stream",
     "text": [
      "WARNING 01-06 14:05:17 config.py:179] awq quantization is not fully optimized yet. The speed can be slower than non-quantized models.\n",
      "INFO 01-06 14:05:17 llm_engine.py:73] Initializing an LLM engine with config: model='TheBloke/LLaMA-Pro-8B-AWQ', tokenizer='TheBloke/LLaMA-Pro-8B-AWQ', tokenizer_mode=auto, revision=None, tokenizer_revision=None, trust_remote_code=False, dtype=torch.float16, max_seq_len=4096, download_dir=None, load_format=auto, tensor_parallel_size=1, quantization=awq, enforce_eager=False, seed=0)\n"
     ]
    },
    {
     "data": {
      "application/vnd.jupyter.widget-view+json": {
       "model_id": "eecf398be16f4220bddba29c79c3b43c",
       "version_major": 2,
       "version_minor": 0
      },
      "text/plain": [
       "tokenizer_config.json:   0%|          | 0.00/855 [00:00<?, ?B/s]"
      ]
     },
     "metadata": {},
     "output_type": "display_data"
    },
    {
     "data": {
      "application/vnd.jupyter.widget-view+json": {
       "model_id": "d35670beece148f380bc577c15e9f229",
       "version_major": 2,
       "version_minor": 0
      },
      "text/plain": [
       "tokenizer.model:   0%|          | 0.00/500k [00:00<?, ?B/s]"
      ]
     },
     "metadata": {},
     "output_type": "display_data"
    },
    {
     "data": {
      "application/vnd.jupyter.widget-view+json": {
       "model_id": "1053f0c26bf84faba9d8025f9323f68c",
       "version_major": 2,
       "version_minor": 0
      },
      "text/plain": [
       "tokenizer.json:   0%|          | 0.00/1.84M [00:00<?, ?B/s]"
      ]
     },
     "metadata": {},
     "output_type": "display_data"
    },
    {
     "data": {
      "application/vnd.jupyter.widget-view+json": {
       "model_id": "ae65f08dddfd4931b6b2fbc3f7e9f4f3",
       "version_major": 2,
       "version_minor": 0
      },
      "text/plain": [
       "special_tokens_map.json:   0%|          | 0.00/437 [00:00<?, ?B/s]"
      ]
     },
     "metadata": {},
     "output_type": "display_data"
    },
    {
     "data": {
      "application/vnd.jupyter.widget-view+json": {
       "model_id": "848662fe31b6498bb66c95bfe1682b23",
       "version_major": 2,
       "version_minor": 0
      },
      "text/plain": [
       "model.safetensors:   0%|          | 0.00/4.73G [00:00<?, ?B/s]"
      ]
     },
     "metadata": {},
     "output_type": "display_data"
    },
    {
     "name": "stdout",
     "output_type": "stream",
     "text": [
      "INFO 01-06 14:09:13 llm_engine.py:223] # GPU blocks: 1443, # CPU blocks: 409\n",
      "INFO 01-06 14:09:17 model_runner.py:394] Capturing the model for CUDA graphs. This may lead to unexpected consequences if the model is not static. To run the model in eager mode, set 'enforce_eager=True' or use '--enforce-eager' in the CLI.\n",
      "INFO 01-06 14:09:23 model_runner.py:437] Graph capturing finished in 6 secs.\n"
     ]
    }
   ],
   "source": [
    "from vllm import LLM, SamplingParams\n",
    "llm = LLM(model=\"TheBloke/LLaMA-Pro-8B-AWQ\", quantization=\"awq\", dtype=\"auto\")"
   ]
  },
  {
   "cell_type": "code",
   "execution_count": 12,
   "id": "96a2e88d-a3d9-4f25-ad74-d4bec2da13b8",
   "metadata": {
    "tags": []
   },
   "outputs": [
    {
     "name": "stderr",
     "output_type": "stream",
     "text": [
      "Processed prompts: 100% 6/6 [00:05<00:00,  1.04it/s]"
     ]
    },
    {
     "name": "stdout",
     "output_type": "stream",
     "text": [
      "=====\n",
      "Prompt: Tell me about AI.\n",
      ", Generated text: Posted on 2019-Oct-6 by Prelude-Cutter\n",
      "\n",
      "It’s a noun, it’s an adjective, and it rhymes with “eye”: Let’s talk artificial intelligence!\n",
      "\n",
      "“AI,” as the name suggests, is short for Artificial Intelligence, which in turn (according to Wikipedia) is defined as follows:\n",
      "\n",
      "the ability of machines to imitate human behavior or even superhuman capabilities through self-learning programs called algorithms.[3] The field was established in 1956 at Dartmouth College under the pseudonymm \"Man-Machine Interaction\".[4][5] [...] Its subdivision into subfields that are now recognized as distinct research areas evolved over time. Together these made up the so-called three waves of modern AI research, although some say there were four generations of AI. It is generally agreed upon that since 1978 when John McCarthy developed Lisp at Stanford University, we have entered the fourth generation of AI. […].\n",
      "\n",
      "OK, so what does all this mean? Or rather, why should you care? After all, most people don’t use terms like “neural networks”, “self-driving cars”, or “machine learning”. They only hear things they can relate to; computers doing stuff without us having to do anything ourselves – mindless work done for them. What is behind the scenes, though, deserves closer inspection if you want to get your head around how our world works. And given that we humans sometimes make mistakes too, but also change their minds often enough, I doubt that any roboticist will ever come close to perfectly replicating natural processes. But we keep trying anyway because, well, computers need rules first before being able to learn from experience. So let us see where that gets us! As always, buckle up: This one may be rougher than usual due to various reasons such as it being October already, Halloween soon approaching etc., plus more boring mundane things going on my end right now – after all winter is coming sooner than later here in New England too :) Anyway here goes nothing...\n",
      "\n",
      "## To Be Is Not Enough - You Must Do Something Else Entirely!\n",
      "\n",
      "The central premise of this article revolves around two basic assumptions: Firstly assuming that our current understanding of conscious\n",
      "=====\n",
      "Prompt: What is 291 - 150?\n",
      ", Generated text: \n",
      "Aug 3, 2016\n",
      "\n",
      "$= 141$.\n",
      "Answer: $- \\left(7\\right) .$\n",
      "=====\n",
      "Prompt: Tell me about how to find pi using polygons?\n",
      ", Generated text: \n",
      "I know we can use the formula: Circumference of circle = 2πr, where r is radius and it's easy as pie. But I was wondering if there are ways that don't involve calculating math problems? For example, you could just memorize some formulas or write down some geometric shapes on a piece of paper then draw it out by hand... Or maybe even cut out pieces from cardboard boxes so they fit together perfectly without overlapping at all (like when creating models). This would allow someone who doesn't care much for math classes but wants accessibility into geometry/trigonometry later because everything looks like real life stuff now! Anything goes here; whether its complex equations involving integration tables between different functions--that works too :) Just remember though---don't forget why were doing this whole exercise thing anyway!! We want answers not questions!!! Also note however please keep things simple enough cause otherwise people will lose interest fast before getting anywhere near answering anything substantially meaningful.\"1\" And no need worry yourself either since theres plenty more ahead beyond just finishing up this post itself already ;-) *phew* So go forth youngsters --youre ready now!!! @user34698 @user4507 $\\pi$ [or pi day]? i am asking about finding \"pie\". – pepper_eater Dec 1 '18 at 14:58 Is this question related to Pi Day ? If yes ... See my comment below ! – Abdullah Ali Sivas-Prime Jun 23 '20 at 18:48 It seems everyone has their favourite method of computing$\\pi$. Here’s mine : https://www.youtube.com/watch?v=VRiMF8JzPIQ In short : Wrap string around cylinder with known circumference Then measure length of unwrapped string That gives circumference length.$\\\\ \\dfrac{C}{2\\pi}\\$ Length of string times ratio of radiuses Cut piece off based upon inches desired per inch needed To compute area , multiply dimension of cylinder times size surface dug away Do arithmetic arithmetic using units Convert arcsin(distance squared divided by two) numerically This tells us how far apart points along perimeter should be spaced Average spacing multiplied against diameter equals square root(circumference^2)/area We get an estimate whose error drops quickly So we\n",
      "=====\n",
      "Prompt: Please give me advice on how to learn jPython for beginners.\n",
      ", Generated text: 07-14-2019, 03:56 AM (This post was last modified: 08-22-2019 12:38 PM by Ángel Martin.)\n",
      "Post: #1\n",
      " Ángel Martin Senior Member Posts: 1,349 Joined: Dec 2013\n",
      "Please give me advice on how to learn jPython for beginners.\n",
      "Hello all!\n",
      "I'm a big fan of TI programmable calculators and I love your community, so thank you very much for the great work that you do in this forum...\n",
      "However there is one thing about which i am not happy at all and which has been worrying me since many years ago: It seems like most people here don't even know or understand what Python is really capable off... And if they want to go \"beyond\" just doing simple functions with their calcs, then it would be good if those same users knew something more than a single command from a few languages, like Matlab, Excel VBA etc., because otherwise they will get lost when using standard libraries like NumPy, SciPy or Pandas etc. So some knowledge of what programming is generally and specifically understanding how the stuff they learned before can actually help them learning new things might come handy later on..\n",
      "My concern is also related but focussed mainly towards the creation of new apps/libraries as well as extending existing ones made available by others. The important part here are the IDE's used (IDLE + IPython), the matplotlib library, Numpy, SciPY, Panda packages plus a couple other additional commands provided natively with python (e.g. os, sys etc.). But regardless what else is required - let us suppose everything we need apart from the above mentioned tools already exists? Then where should an absolute beginner start ? What is absolutely necessary? Where could someone begin without being overwhelmed too early? Does anyone have any suggestions regarding books or links to specific topics where he thinks starting to make sense? Is learning jpython a must? If yes, why? How difficult / complex would it be compared to regular \"vanilla\"? Who would recommend learning such a thing instead of just relying on ready software solutions out there on GitHub, BitBucket & elsewhere (and possibly including existing projects on this site)? Do I have to install anything besides my preferred OS (Windows) and IDLE itself plus any add\n",
      "=====\n",
      "Prompt: How is the best way to learn math?\n",
      ", Generated text: 10-28-2016, 12:34 AM (This post was last modified: 10-28-2016 07:59 PM by Mhagain.)\n",
      "Post: #1\n",
      " Mhagain Senior Member Posts: 334 Joined: Dec 2013\n",
      "How is the best way to learn math?\n",
      "I would like to take an advanced math class. I am currently finishing up a freshman level college algebra course with my daughter and it has been very challenging for both of us! We are going through the textbook together so she can get good grades in her Algebra II course next semester but neither one of us really knows what we're doing yet... We aren't even sure if this course will be accepted as credit at our college when we apply for classes next year!! If you asked me why I am taking the extra work right now because that is something I might need to do eventually anyway. But I have no experience with any sort of higher mathematics than Freshmen/Sophomore level stuff already covered in high school. So after completing basic calculus in the summer before senior year and then just sitting out all these years later except what I took from a number theory book while browsing Amazon on a rainy day several months ago--that helped motivate me enough towards taking another stab at some type of math again since back then everyone seemed pretty enthusiastic about getting involved further into their studies too - until life happened elsewhere around them first time around - which made me wonder how much different things could turn out differently today if they had decided not only go ahead with learning more complicated topics than normal people do usually encounter during middle school etc.,\n",
      "\n",
      "Where should start learning different types o equations involving multiple variables simultaneously such As tan(x),cos_x^2+sin_y^2? There must also exist questions regarding differential notation where does that make sense? Can anyone help provide some advice or resources please feel free send any messages via PM here so i don’t see them if someone else replies instead they seem like smart intelligent individuals who know lots ways better suited than myself For example friends telling others exactly same thing suggesting avoid looking pictures inside books considering drawings actually detailed diagrams illustrations—even worse imagine explaining concepts verbally without displaying visuals displayed properly works great sometimes seems appropriate share info indirectly using words alone That said nobody wants hear\n",
      "=====\n",
      "Prompt: What policies should the government take for universities to improve their research capabilities?\n",
      ", Generated text: \n",
      "Q1)What is your opinion on this problem that some Chinese university has been dragged down by corruption scandals, while other developed countries have grown stronger and continue in being strong nowadays. How can we as a nation overcome such problems?\n",
      "CPU times: user 5.74 s, sys: 11.8 ms, total: 5.75 s\n",
      "Wall time: 5.75 s\n"
     ]
    },
    {
     "name": "stderr",
     "output_type": "stream",
     "text": [
      "\n"
     ]
    }
   ],
   "source": [
    "%%time\n",
    "sampling_params = SamplingParams(temperature=0.8, top_p=0.95, max_tokens=512, repetition_penalty=1.2)\n",
    "prompts = [\n",
    "    \"Tell me about AI.\",\n",
    "    \"What is 291 - 150?\",\n",
    "    \"Tell me about how to find pi using polygons?\",\n",
    "    \"Please give me advice on how to learn jPython for beginners.\",\n",
    "    \"How is the best way to learn math?\",\n",
    "    \"What policies should the government take for universities to improve their research capabilities?\",\n",
    "]\n",
    "prompt_template='''{prompt}\n",
    "'''\n",
    "\n",
    "prompts = [prompt_template.format(prompt=prompt) for prompt in prompts]\n",
    "\n",
    "\n",
    "outputs = llm.generate(prompts, sampling_params)\n",
    "\n",
    "# Print the outputs.\n",
    "for output in outputs:\n",
    "    prompt = output.prompt\n",
    "    generated_text = output.outputs[0].text\n",
    "    print(\"=====\")\n",
    "    print(f\"Prompt: {prompt}, Generated text: {generated_text}\")\n"
   ]
  }
 ],
 "metadata": {
  "kernelspec": {
   "display_name": "Python 3 (ipykernel)",
   "language": "python",
   "name": "python3"
  },
  "language_info": {
   "codemirror_mode": {
    "name": "ipython",
    "version": 3
   },
   "file_extension": ".py",
   "mimetype": "text/x-python",
   "name": "python",
   "nbconvert_exporter": "python",
   "pygments_lexer": "ipython3",
   "version": "3.10.12"
  }
 },
 "nbformat": 4,
 "nbformat_minor": 5
}
