{
 "cells": [
  {
   "cell_type": "code",
   "execution_count": 1,
   "id": "b9dc4690-44ba-4dec-aa15-3f5231b42271",
   "metadata": {
    "tags": []
   },
   "outputs": [
    {
     "data": {
      "application/vnd.jupyter.widget-view+json": {
       "model_id": "26d9ffa80d1f40b791f69686edcb875e",
       "version_major": 2,
       "version_minor": 0
      },
      "text/plain": [
       "Fetching 9 files:   0%|          | 0/9 [00:00<?, ?it/s]"
      ]
     },
     "metadata": {},
     "output_type": "display_data"
    },
    {
     "name": "stderr",
     "output_type": "stream",
     "text": [
      "Replacing layers...: 100% 32/32 [00:02<00:00, 11.37it/s]\n"
     ]
    }
   ],
   "source": [
    "from awq import AutoAWQForCausalLM\n",
    "from transformers import AutoTokenizer\n",
    "\n",
    "model_name_or_path = \"mmnga/ELYZA-japanese-Llama-2-7b-fast-instruct-AWQ-calib-ja-100k\"\n",
    "\n",
    "tokenizer = AutoTokenizer.from_pretrained(model_name_or_path, trust_remote_code=True)\n",
    "model = AutoAWQForCausalLM.from_quantized(model_name_or_path, safetensors=True, fuse_layers=True)"
   ]
  },
  {
   "cell_type": "code",
   "execution_count": 4,
   "id": "d3751cb2-b749-45ea-9330-052b8099f4cc",
   "metadata": {
    "tags": []
   },
   "outputs": [],
   "source": [
    "def chat(text, max_new_tokens=512):\n",
    "    prompt = f\"\"\"[INST] <<SYS>>あなたは誠実で優秀な日本人のアシスタントです。<</SYS>>{text}[/INST]\"\"\"\n",
    "    tokens = tokenizer(\n",
    "        prompt,\n",
    "        return_tensors='pt'\n",
    "    ).input_ids.cuda()\n",
    "\n",
    "    # Generate output\n",
    "    generation_output = model.generate(\n",
    "        tokens,\n",
    "        do_sample=True,\n",
    "        temperature=0.7,\n",
    "        top_p=0.95,\n",
    "        top_k=40,\n",
    "        max_new_tokens=512\n",
    "    )\n",
    "\n",
    "    print(tokenizer.decode(generation_output[0]))"
   ]
  },
  {
   "cell_type": "code",
   "execution_count": 12,
   "id": "61b88f0f-155e-4a3b-8f77-2912a041cf98",
   "metadata": {
    "tags": []
   },
   "outputs": [
    {
     "name": "stdout",
     "output_type": "stream",
     "text": [
      "<s> [INST] <<SYS>>あなたは誠実で優秀な日本人のアシスタントです。<</SYS>>豊臣秀吉について知っていることを教えてください。[/INST]   豊臣秀吉（豊臣秀吉、豊臣秀長、豊臣秀長）の父親である豊臣秀長の子 豊臣秀長、豊臣秀長は豊臣秀吉、豊臣秀長の父親である豊臣秀吉、豊臣秀吉の祖父である豊臣秀長のことを指しています。\n",
      "\n",
      "豊臣秀吉は、豊臣秀吉、豊臣秀長、豊臣秀長、豊臣秀吉、豊臣秀長の子です。\n",
      "\n",
      "豊臣秀吉は、豊臣秀吉、豊臣秀長、豊臣秀長、豊臣秀吉の3人の子です。\n",
      "\n",
      "豊臣秀吉は、豊臣秀吉、豊臣秀長、豊臣秀長、豊臣秀吉の父親です。\n",
      "\n",
      "豊臣秀吉は、豊臣秀吉、豊臣秀長、豊臣秀長、豊臣秀吉の父親です。\n",
      "\n",
      "豊臣秀吉は、豊臣秀吉、豊臣秀長、豊臣秀長、豊臣秀吉、豊臣秀吉の祖父です。\n",
      "\n",
      "豊臣秀吉は、豊臣秀吉、豊臣秀長、豊臣秀長、豊臣秀吉、豊臣秀吉の父親です。\n",
      "\n",
      "豊臣秀吉は、豊臣秀吉、豊臣秀長、豊臣秀長、豊臣秀吉、豊臣秀吉の父親です。\n",
      "\n",
      "豊臣秀吉は、豊臣秀吉、豊臣秀長、豊臣秀長、豊臣秀吉、豊臣秀吉の父親です。\n",
      "\n",
      "豊臣秀吉は、豊臣秀吉、豊臣秀長、豊臣秀長、豊臣秀吉、豊臣秀吉の父親です。\n",
      "\n",
      "豊臣秀吉は、豊臣秀吉、豊臣秀長、豊臣秀長、豊臣秀吉、豊臣秀吉の祖父です。\n",
      "\n",
      "豊臣秀吉は、豊臣秀吉、豊臣秀長、豊臣秀長、豊臣秀吉、豊臣秀吉の父親です。\n",
      "\n",
      "豊臣秀吉は、豊臣秀吉、豊臣秀長、豊臣秀長、豊臣秀吉、豊臣秀吉、豊臣秀吉の祖父です。\n",
      "\n",
      "\n",
      "None\n"
     ]
    }
   ],
   "source": [
    "print(chat(\"豊臣秀吉について知っていることを教えてください。\"))"
   ]
  }
 ],
 "metadata": {
  "kernelspec": {
   "display_name": "Python 3 (ipykernel)",
   "language": "python",
   "name": "python3"
  },
  "language_info": {
   "codemirror_mode": {
    "name": "ipython",
    "version": 3
   },
   "file_extension": ".py",
   "mimetype": "text/x-python",
   "name": "python",
   "nbconvert_exporter": "python",
   "pygments_lexer": "ipython3",
   "version": "3.10.12"
  }
 },
 "nbformat": 4,
 "nbformat_minor": 5
}
