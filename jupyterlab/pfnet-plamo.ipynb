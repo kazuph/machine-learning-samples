{
 "cells": [
  {
   "cell_type": "markdown",
   "id": "d42b4e16-21e2-4ac0-ab94-d2fa6a6d9726",
   "metadata": {
    "tags": []
   },
   "source": [
    "# Transformersで試す"
   ]
  },
  {
   "cell_type": "code",
   "execution_count": 6,
   "id": "771f2a3c-4a57-4e05-a937-4056fde0fc5b",
   "metadata": {
    "tags": []
   },
   "outputs": [
    {
     "name": "stdout",
     "output_type": "stream",
     "text": [
      "Requirement already satisfied: accelerate in /usr/local/lib/python3.10/dist-packages (0.23.0)\n",
      "Requirement already satisfied: numpy>=1.17 in /usr/local/lib/python3.10/dist-packages (from accelerate) (1.24.1)\n",
      "Requirement already satisfied: packaging>=20.0 in /usr/local/lib/python3.10/dist-packages (from accelerate) (23.1)\n",
      "Requirement already satisfied: psutil in /usr/local/lib/python3.10/dist-packages (from accelerate) (5.9.5)\n",
      "Requirement already satisfied: pyyaml in /usr/local/lib/python3.10/dist-packages (from accelerate) (6.0.1)\n",
      "Requirement already satisfied: torch>=1.10.0 in /usr/local/lib/python3.10/dist-packages (from accelerate) (2.0.1+cu118)\n",
      "Requirement already satisfied: huggingface-hub in /usr/local/lib/python3.10/dist-packages (from accelerate) (0.17.2)\n",
      "Requirement already satisfied: filelock in /usr/local/lib/python3.10/dist-packages (from torch>=1.10.0->accelerate) (3.12.4)\n",
      "Requirement already satisfied: typing-extensions in /usr/local/lib/python3.10/dist-packages (from torch>=1.10.0->accelerate) (4.4.0)\n",
      "Requirement already satisfied: sympy in /usr/local/lib/python3.10/dist-packages (from torch>=1.10.0->accelerate) (1.11.1)\n",
      "Requirement already satisfied: networkx in /usr/local/lib/python3.10/dist-packages (from torch>=1.10.0->accelerate) (3.0)\n",
      "Requirement already satisfied: jinja2 in /usr/local/lib/python3.10/dist-packages (from torch>=1.10.0->accelerate) (3.1.2)\n",
      "Requirement already satisfied: triton==2.0.0 in /usr/local/lib/python3.10/dist-packages (from torch>=1.10.0->accelerate) (2.0.0)\n",
      "Requirement already satisfied: cmake in /usr/local/lib/python3.10/dist-packages (from triton==2.0.0->torch>=1.10.0->accelerate) (3.27.5)\n",
      "Requirement already satisfied: lit in /usr/local/lib/python3.10/dist-packages (from triton==2.0.0->torch>=1.10.0->accelerate) (15.0.7)\n",
      "Requirement already satisfied: fsspec in /usr/local/lib/python3.10/dist-packages (from huggingface-hub->accelerate) (2023.6.0)\n",
      "Requirement already satisfied: requests in /usr/local/lib/python3.10/dist-packages (from huggingface-hub->accelerate) (2.31.0)\n",
      "Requirement already satisfied: tqdm>=4.42.1 in /usr/local/lib/python3.10/dist-packages (from huggingface-hub->accelerate) (4.66.1)\n",
      "Requirement already satisfied: MarkupSafe>=2.0 in /usr/local/lib/python3.10/dist-packages (from jinja2->torch>=1.10.0->accelerate) (2.1.2)\n",
      "Requirement already satisfied: charset-normalizer<4,>=2 in /usr/local/lib/python3.10/dist-packages (from requests->huggingface-hub->accelerate) (2.1.1)\n",
      "Requirement already satisfied: idna<4,>=2.5 in /usr/local/lib/python3.10/dist-packages (from requests->huggingface-hub->accelerate) (3.4)\n",
      "Requirement already satisfied: urllib3<3,>=1.21.1 in /usr/local/lib/python3.10/dist-packages (from requests->huggingface-hub->accelerate) (1.26.13)\n",
      "Requirement already satisfied: certifi>=2017.4.17 in /usr/local/lib/python3.10/dist-packages (from requests->huggingface-hub->accelerate) (2022.12.7)\n",
      "Requirement already satisfied: mpmath>=0.19 in /usr/local/lib/python3.10/dist-packages (from sympy->torch>=1.10.0->accelerate) (1.2.1)\n",
      "\u001b[33mWARNING: Running pip as the 'root' user can result in broken permissions and conflicting behaviour with the system package manager. It is recommended to use a virtual environment instead: https://pip.pypa.io/warnings/venv\u001b[0m\u001b[33m\n",
      "\u001b[0mCollecting bitsandbytes\n",
      "  Obtaining dependency information for bitsandbytes from https://files.pythonhosted.org/packages/1e/2c/af22cd797fc368a9f098ed03015730e6568b884fe67f9940793d944a4b7b/bitsandbytes-0.41.1-py3-none-any.whl.metadata\n",
      "  Using cached bitsandbytes-0.41.1-py3-none-any.whl.metadata (9.8 kB)\n",
      "Using cached bitsandbytes-0.41.1-py3-none-any.whl (92.6 MB)\n",
      "Installing collected packages: bitsandbytes\n",
      "Successfully installed bitsandbytes-0.41.1\n",
      "\u001b[33mWARNING: Running pip as the 'root' user can result in broken permissions and conflicting behaviour with the system package manager. It is recommended to use a virtual environment instead: https://pip.pypa.io/warnings/venv\u001b[0m\u001b[33m\n",
      "\u001b[0m"
     ]
    }
   ],
   "source": [
    "!pip install accelerate\n",
    "!pip install bitsandbytes"
   ]
  },
  {
   "cell_type": "code",
   "execution_count": 1,
   "id": "33f2188e-44ba-4940-b419-0a73261c1357",
   "metadata": {
    "tags": []
   },
   "outputs": [
    {
     "data": {
      "application/vnd.jupyter.widget-view+json": {
       "model_id": "ebdab5e870464974b6959a87b96004fe",
       "version_major": 2,
       "version_minor": 0
      },
      "text/plain": [
       "Loading checkpoint shards:   0%|          | 0/3 [00:00<?, ?it/s]"
      ]
     },
     "metadata": {},
     "output_type": "display_data"
    },
    {
     "name": "stdout",
     "output_type": "stream",
     "text": [
      "CPU times: user 19.3 s, sys: 12.9 s, total: 32.2 s\n",
      "Wall time: 15.2 s\n"
     ]
    }
   ],
   "source": [
    "%%time\n",
    "import torch\n",
    "from transformers import AutoTokenizer, AutoModelForCausalLM\n",
    "tokenizer = AutoTokenizer.from_pretrained(\"pfnet/plamo-13b\", trust_remote_code=True)\n",
    "model = AutoModelForCausalLM.from_pretrained(\"pfnet/plamo-13b\", \n",
    "                                             trust_remote_code=True, \n",
    "                                             load_in_8bit=True #,\n",
    "                                             #torch_dtype=\"auto\"\n",
    "                                            )\n",
    "\n",
    "#if torch.cuda.is_available():\n",
    "#    model = model.to(\"cuda\")"
   ]
  },
  {
   "cell_type": "code",
   "execution_count": 5,
   "id": "4df47075-4c90-46bd-9cd4-2cf618d9e601",
   "metadata": {
    "tags": []
   },
   "outputs": [],
   "source": [
    "def chat(text):\n",
    "    with torch.no_grad():\n",
    "        input_ids = tokenizer(text, return_tensors=\"pt\").input_ids\n",
    "        generated_tokens = model.generate(\n",
    "            inputs=input_ids.to(model.device),\n",
    "            max_new_tokens=512,\n",
    "            do_sample=True,\n",
    "            top_k=50,\n",
    "            top_p=0.95,\n",
    "            temperature=1.0,\n",
    "        )[0]\n",
    "    generated_text = tokenizer.decode(generated_tokens)\n",
    "    return generated_text"
   ]
  },
  {
   "cell_type": "code",
   "execution_count": 6,
   "id": "197d66de-2dea-4767-a58c-9787b75fc33e",
   "metadata": {
    "tags": []
   },
   "outputs": [
    {
     "name": "stdout",
     "output_type": "stream",
     "text": [
      "これからの人工知能技術はどうなるのか?\n",
      "人工知能・機械学習に詳しくないので、よく知らないというのが実際のところです。「AIブーム」というものはいつから始まったか、今はどこまで到達しているか等はなんとなく認識しているのですが、AIで人間の脳のどの部分を代替することができるかという点になると、まったく分かりません。人間の脳では、どんなタスクでもできているというわけではないということを考えると、人工知能の技術の限界がどこにあるのか、全く分からなくなっているというのが現状です。\n",
      "その理由は、「人間の脳はどうなっているのか」がよく分かってないからです。「人間の脳はどうなっているのか」とは、「人間の脳のどこの機能がどういう動作をするのか」ということです。この「どこ」の部分がまだはっきりと分からていません。\n",
      "例えば、目の前の人の顔をじっと見るとき、人間の眼球はどのように動き回って、どんな情報を脳に送り込むのでしょうか? 顔を見た後、人間は顔の表情や体の姿勢、声の抑揚などの視覚的な情報を頭の中で構築し、思考・判断していると思われます。その脳内の思考・判断の内容についてはよく分かっていません。脳のどの部分が何をやっているのか、どの部分がどういう情報を受け取って脳内で処理しているのかがまったく分かりません。\n",
      "では、なぜ、「人間の脳はこういう動作をする」と分かるようになると、人工知能は人間の脳の動作を完全に代替することができるようになるのでしょうか? 例えば、人工知能との人間との会話がスムーズにできるようになるとか、人間が人工知能と同じような計算問題を解けるというようなことでしょうか?\n",
      "もしかしたら、人の「顔の表情や体の姿勢」などの動きや表情を解析して、人の感情を推定したり判断したりする人工知能技術が発達すれば、人の感情を判断したり、人の感情に基づいて行動することだってできるようになるのかもしれません。だとすると、人間と同じような感情の振舞いができるロボットやAIは、人間の社会・経済活動を代替することができるようになるかもしれません。\n",
      "しかし、現在の段階では、人間の脳はどうなっているのかがまだ分かっていないため、人間の脳を機械で真似しようとしても真似ができないはずです。人工知能技術は、人間の代わりに人間の知能でやるような問題を解けるようになるのが到達すべき目標となるのだと思います。\n",
      "この「どうなっているのか」を解明できれば、人工知能技術が人間の脳を「完全に」代替する\n",
      "CPU times: user 1min 59s, sys: 78 ms, total: 1min 59s\n",
      "Wall time: 1min 59s\n"
     ]
    }
   ],
   "source": [
    "%%time\n",
    "print(chat(\"これからの人工知能技術は\"))"
   ]
  },
  {
   "cell_type": "code",
   "execution_count": 1,
   "id": "14159ec2-56c1-45d1-9141-e1b07dfba4c6",
   "metadata": {
    "tags": []
   },
   "outputs": [
    {
     "data": {
      "application/vnd.jupyter.widget-view+json": {
       "model_id": "dc0c4c81f2fd45ce8f62d246be1439be",
       "version_major": 2,
       "version_minor": 0
      },
      "text/plain": [
       "Loading checkpoint shards:   0%|          | 0/3 [00:00<?, ?it/s]"
      ]
     },
     "metadata": {},
     "output_type": "display_data"
    },
    {
     "name": "stdout",
     "output_type": "stream",
     "text": [
      "[{'generated_text': \"次の英文は私が和訳する予定の文章です。\\n'PLaMo-13B is a LLaMA-based 13B model pre-trained on English and Japanese open datasets, developed by Preferred Networks, Inc. PLaMo-13B is released under Apache v2.0 license.' \\n私は以上の英文を次のような日本語に翻訳します。\\n「PLaMo-13Bは、英語と日本語のオープンデータセットで訓練された、13Bモデルです。PLaMo-13BはApache v2.0ライセンスの下で公開されています。」\\nこの英文を和訳するにあたって、以下の点に注意しました。\\n1. 「13B」は「13ビット」の略です。\\n2. 「13Bモデル」は「13ビットモデル」の略です。\\n3. 「13ビット」は「13ビット」の略です。\\n4. 「13ビット\"}]\n"
     ]
    }
   ],
   "source": [
    "# pipelineを使う\n",
    "# https://huggingface.co/pfnet/plamo-13b/discussions/2#6514eb195aef9f39138cd0d4\n",
    "import transformers\n",
    "pipeline = transformers.pipeline(\"text-generation\", model=\"pfnet/plamo-13b\", device_map=\"auto\",model_kwargs={\"load_in_8bit\": True},trust_remote_code=True)\n",
    "prompt = \"\"\"次の英文は私が和訳する予定の文章です。\n",
    "'PLaMo-13B is a LLaMA-based 13B model pre-trained on English and Japanese open datasets, developed by Preferred Networks, Inc. PLaMo-13B is released under Apache v2.0 license.' \n",
    "私は以上の英文を次のような日本語に翻訳します。\"\"\"\n",
    "print(pipeline(text_inputs=prompt, max_new_tokens=128))"
   ]
  },
  {
   "cell_type": "code",
   "execution_count": 2,
   "id": "7c51279c-9352-4514-be99-97fb1f2047a7",
   "metadata": {
    "tags": []
   },
   "outputs": [
    {
     "name": "stdout",
     "output_type": "stream",
     "text": [
      "[{'generated_text': \"次の英文は私が和訳する予定の文章です。\\n'PLaMo-13B is a LLaMA-based 13B model pre-trained on English and Japanese open datasets, developed by Preferred Networks, Inc. PLaMo-13B is released under Apache v2.0 license.' \\n私は以上の英文を次のような日本語に翻訳します。\\n「PLaMo-13Bは、英語と日本語のオープンデータセットで訓練された、13Bモデルです。PLaMo-13BはApache v2.0ライセンスの下で公開されています。」\\nこの英文を和訳するにあたって、以下の点に注意しました。\\n1. 「13B」は「13ビット」の略です。\\n2. 「13Bモデル」は「13ビットモデル」の略です。\\n3. 「13ビット」は「13ビット」の略です。\\n4. 「13ビット\"}]\n",
      "CPU times: user 29.5 s, sys: 10.1 ms, total: 29.5 s\n",
      "Wall time: 29.5 s\n"
     ]
    }
   ],
   "source": [
    "%%time\n",
    "print(pipeline(text_inputs=prompt, max_new_tokens=128))"
   ]
  },
  {
   "cell_type": "markdown",
   "id": "fbccda5a-6ab6-466f-ae16-d4d15f8c46e8",
   "metadata": {
    "tags": []
   },
   "source": [
    "# AWQで量子化する"
   ]
  },
  {
   "cell_type": "code",
   "execution_count": 5,
   "id": "6adf6d71-f0be-41ba-af55-e89e0d6dc1fd",
   "metadata": {
    "collapsed": true,
    "jupyter": {
     "outputs_hidden": true
    },
    "tags": []
   },
   "outputs": [
    {
     "name": "stdout",
     "output_type": "stream",
     "text": [
      "Collecting autoawq\n",
      "  Obtaining dependency information for autoawq from https://files.pythonhosted.org/packages/e0/45/4ec85c794a9436f14b8ed408511300622f6fc4ca8ab58ec7e34ddf5f2496/autoawq-0.1.0-cp310-cp310-manylinux2014_x86_64.whl.metadata\n",
      "  Using cached autoawq-0.1.0-cp310-cp310-manylinux2014_x86_64.whl.metadata (12 kB)\n",
      "Requirement already satisfied: torch>=2.0.0 in /usr/local/lib/python3.10/dist-packages (from autoawq) (2.0.1+cu118)\n",
      "Requirement already satisfied: transformers>=4.32.0 in /usr/local/lib/python3.10/dist-packages (from autoawq) (4.33.2)\n",
      "Requirement already satisfied: tokenizers>=0.12.1 in /usr/local/lib/python3.10/dist-packages (from autoawq) (0.13.3)\n",
      "Collecting accelerate (from autoawq)\n",
      "  Obtaining dependency information for accelerate from https://files.pythonhosted.org/packages/d9/92/2d3aecf9f4a192968035880be3e2fc8b48d541c7128f7c936f430d6f96da/accelerate-0.23.0-py3-none-any.whl.metadata\n",
      "  Using cached accelerate-0.23.0-py3-none-any.whl.metadata (18 kB)\n",
      "Requirement already satisfied: sentencepiece in /usr/local/lib/python3.10/dist-packages (from autoawq) (0.1.99)\n",
      "Collecting lm-eval (from autoawq)\n",
      "  Using cached lm_eval-0.3.0-py3-none-any.whl (178 kB)\n",
      "Collecting texttable (from autoawq)\n",
      "  Using cached texttable-1.6.7-py2.py3-none-any.whl (10 kB)\n",
      "Collecting toml (from autoawq)\n",
      "  Using cached toml-0.10.2-py2.py3-none-any.whl (16 kB)\n",
      "Collecting attributedict (from autoawq)\n",
      "  Using cached attributedict-0.3.0-py3-none-any.whl (14 kB)\n",
      "Collecting protobuf (from autoawq)\n",
      "  Obtaining dependency information for protobuf from https://files.pythonhosted.org/packages/bb/c3/6a06208ecf0934ecaf509b51c52a6cf688586f54ae81ac65c56124571494/protobuf-4.24.3-cp37-abi3-manylinux2014_x86_64.whl.metadata\n",
      "  Using cached protobuf-4.24.3-cp37-abi3-manylinux2014_x86_64.whl.metadata (540 bytes)\n",
      "Requirement already satisfied: torchvision in /usr/local/lib/python3.10/dist-packages (from autoawq) (0.15.2+cu118)\n",
      "Collecting tabulate (from autoawq)\n",
      "  Using cached tabulate-0.9.0-py3-none-any.whl (35 kB)\n",
      "Requirement already satisfied: filelock in /usr/local/lib/python3.10/dist-packages (from torch>=2.0.0->autoawq) (3.9.0)\n",
      "Requirement already satisfied: typing-extensions in /usr/local/lib/python3.10/dist-packages (from torch>=2.0.0->autoawq) (4.4.0)\n",
      "Requirement already satisfied: sympy in /usr/local/lib/python3.10/dist-packages (from torch>=2.0.0->autoawq) (1.11.1)\n",
      "Requirement already satisfied: networkx in /usr/local/lib/python3.10/dist-packages (from torch>=2.0.0->autoawq) (3.0)\n",
      "Requirement already satisfied: jinja2 in /usr/local/lib/python3.10/dist-packages (from torch>=2.0.0->autoawq) (3.1.2)\n",
      "Requirement already satisfied: triton==2.0.0 in /usr/local/lib/python3.10/dist-packages (from torch>=2.0.0->autoawq) (2.0.0)\n",
      "Collecting cmake (from triton==2.0.0->torch>=2.0.0->autoawq)\n",
      "  Obtaining dependency information for cmake from https://files.pythonhosted.org/packages/de/94/cba4b3ddc0d4555967cce8fd6e9fbced98a6bf62857db71c2400a7b6e183/cmake-3.27.5-py2.py3-none-manylinux2014_x86_64.manylinux_2_17_x86_64.whl.metadata\n",
      "  Using cached cmake-3.27.5-py2.py3-none-manylinux2014_x86_64.manylinux_2_17_x86_64.whl.metadata (6.7 kB)\n",
      "Requirement already satisfied: lit in /usr/local/lib/python3.10/dist-packages (from triton==2.0.0->torch>=2.0.0->autoawq) (15.0.7)\n",
      "Requirement already satisfied: huggingface-hub<1.0,>=0.15.1 in /usr/local/lib/python3.10/dist-packages (from transformers>=4.32.0->autoawq) (0.17.2)\n",
      "Requirement already satisfied: numpy>=1.17 in /usr/local/lib/python3.10/dist-packages (from transformers>=4.32.0->autoawq) (1.24.1)\n",
      "Requirement already satisfied: packaging>=20.0 in /usr/local/lib/python3.10/dist-packages (from transformers>=4.32.0->autoawq) (23.1)\n",
      "Requirement already satisfied: pyyaml>=5.1 in /usr/local/lib/python3.10/dist-packages (from transformers>=4.32.0->autoawq) (6.0.1)\n",
      "Requirement already satisfied: regex!=2019.12.17 in /usr/local/lib/python3.10/dist-packages (from transformers>=4.32.0->autoawq) (2023.8.8)\n",
      "Requirement already satisfied: requests in /usr/local/lib/python3.10/dist-packages (from transformers>=4.32.0->autoawq) (2.31.0)\n",
      "Requirement already satisfied: safetensors>=0.3.1 in /usr/local/lib/python3.10/dist-packages (from transformers>=4.32.0->autoawq) (0.3.3)\n",
      "Requirement already satisfied: tqdm>=4.27 in /usr/local/lib/python3.10/dist-packages (from transformers>=4.32.0->autoawq) (4.66.1)\n",
      "Requirement already satisfied: psutil in /usr/local/lib/python3.10/dist-packages (from accelerate->autoawq) (5.9.5)\n",
      "Collecting rootpath>=0.1.0 (from attributedict->autoawq)\n",
      "  Using cached rootpath-0.1.1-py3-none-any.whl (15 kB)\n",
      "Collecting inspecta>=0.1.0 (from attributedict->autoawq)\n",
      "  Using cached inspecta-0.1.3-py3-none-any.whl (9.2 kB)\n",
      "Collecting colour-runner>=0.0.5 (from attributedict->autoawq)\n",
      "  Using cached colour_runner-0.1.1-py2.py3-none-any.whl (3.7 kB)\n",
      "Collecting deepdiff>=3.3.0 (from attributedict->autoawq)\n",
      "  Obtaining dependency information for deepdiff>=3.3.0 from https://files.pythonhosted.org/packages/0a/aa/ad75c66354a1b3619e73879a48219488e5ea91f26569d2f1fd4ba616cacd/deepdiff-6.5.0-py3-none-any.whl.metadata\n",
      "  Using cached deepdiff-6.5.0-py3-none-any.whl.metadata (5.3 kB)\n",
      "Collecting tox>=3.0.0 (from attributedict->autoawq)\n",
      "  Obtaining dependency information for tox>=3.0.0 from https://files.pythonhosted.org/packages/f5/f9/963052e8b825645c54262dce7b7c88691505e3b9ee10a3e3667711eaaf21/tox-4.11.3-py3-none-any.whl.metadata\n",
      "  Using cached tox-4.11.3-py3-none-any.whl.metadata (5.0 kB)\n",
      "Collecting coverage>=4.5.2 (from attributedict->autoawq)\n",
      "  Obtaining dependency information for coverage>=4.5.2 from https://files.pythonhosted.org/packages/13/6f/ebfba55e56aaf256dcae2b8e52a3ec3f1212a11a6d16cf9367d547a862b9/coverage-7.3.1-cp310-cp310-manylinux_2_5_x86_64.manylinux1_x86_64.manylinux_2_17_x86_64.manylinux2014_x86_64.whl.metadata\n",
      "  Using cached coverage-7.3.1-cp310-cp310-manylinux_2_5_x86_64.manylinux1_x86_64.manylinux_2_17_x86_64.manylinux2014_x86_64.whl.metadata (8.1 kB)\n",
      "Collecting codecov>=2.0.15 (from attributedict->autoawq)\n",
      "  Using cached codecov-2.1.13-py2.py3-none-any.whl (16 kB)\n",
      "Collecting datasets>=2.0.0 (from lm-eval->autoawq)\n",
      "  Obtaining dependency information for datasets>=2.0.0 from https://files.pythonhosted.org/packages/09/7e/fd4d6441a541dba61d0acb3c1fd5df53214c2e9033854e837a99dd9e0793/datasets-2.14.5-py3-none-any.whl.metadata\n",
      "  Using cached datasets-2.14.5-py3-none-any.whl.metadata (19 kB)\n",
      "Collecting jsonlines (from lm-eval->autoawq)\n",
      "  Obtaining dependency information for jsonlines from https://files.pythonhosted.org/packages/f8/62/d9ba6323b9202dd2fe166beab8a86d29465c41a0288cbe229fac60c1ab8d/jsonlines-4.0.0-py3-none-any.whl.metadata\n",
      "  Using cached jsonlines-4.0.0-py3-none-any.whl.metadata (1.6 kB)\n",
      "Collecting numexpr (from lm-eval->autoawq)\n",
      "  Obtaining dependency information for numexpr from https://files.pythonhosted.org/packages/2d/03/de1341ec86bbdf1e4a7ad34d95af4762be8a3efab01d5f96922f1228da3e/numexpr-2.8.7-cp310-cp310-manylinux_2_17_x86_64.manylinux2014_x86_64.whl.metadata\n",
      "  Downloading numexpr-2.8.7-cp310-cp310-manylinux_2_17_x86_64.manylinux2014_x86_64.whl.metadata (8.7 kB)\n",
      "Collecting openai>=0.6.4 (from lm-eval->autoawq)\n",
      "  Obtaining dependency information for openai>=0.6.4 from https://files.pythonhosted.org/packages/1e/9f/385c25502f437686e4aa715969e5eaf5c2cb5e5ffa7c5cdd52f3c6ae967a/openai-0.28.1-py3-none-any.whl.metadata\n",
      "  Using cached openai-0.28.1-py3-none-any.whl.metadata (11 kB)\n",
      "Collecting pybind11>=2.6.2 (from lm-eval->autoawq)\n",
      "  Obtaining dependency information for pybind11>=2.6.2 from https://files.pythonhosted.org/packages/06/55/9f73c32dda93fa4f539fafa268f9504e83c489f460c380371d94296126cd/pybind11-2.11.1-py3-none-any.whl.metadata\n",
      "  Using cached pybind11-2.11.1-py3-none-any.whl.metadata (9.5 kB)\n",
      "Collecting pycountry (from lm-eval->autoawq)\n",
      "  Using cached pycountry-22.3.5-py2.py3-none-any.whl\n",
      "Collecting pytablewriter (from lm-eval->autoawq)\n",
      "  Obtaining dependency information for pytablewriter from https://files.pythonhosted.org/packages/63/65/7a18755516de6a5b74aa75522ea1a9df36e0b65fb2e6e07137bcddd83eae/pytablewriter-1.1.0-py3-none-any.whl.metadata\n",
      "  Using cached pytablewriter-1.1.0-py3-none-any.whl.metadata (36 kB)\n",
      "Collecting rouge-score>=0.0.4 (from lm-eval->autoawq)\n",
      "  Using cached rouge_score-0.1.2-py3-none-any.whl\n",
      "Collecting sacrebleu==1.5.0 (from lm-eval->autoawq)\n",
      "  Using cached sacrebleu-1.5.0-py3-none-any.whl (65 kB)\n",
      "Collecting scikit-learn>=0.24.1 (from lm-eval->autoawq)\n",
      "  Obtaining dependency information for scikit-learn>=0.24.1 from https://files.pythonhosted.org/packages/7d/af/03d3a7d5719d00486c296ddd876e6f07a681bc4e079cb45348d2f261a748/scikit_learn-1.3.1-cp310-cp310-manylinux_2_17_x86_64.manylinux2014_x86_64.whl.metadata\n",
      "  Using cached scikit_learn-1.3.1-cp310-cp310-manylinux_2_17_x86_64.manylinux2014_x86_64.whl.metadata (11 kB)\n",
      "Collecting sqlitedict (from lm-eval->autoawq)\n",
      "  Using cached sqlitedict-2.1.0-py3-none-any.whl\n",
      "Collecting tqdm-multiprocess (from lm-eval->autoawq)\n",
      "  Using cached tqdm_multiprocess-0.0.11-py3-none-any.whl (9.8 kB)\n",
      "Collecting zstandard (from lm-eval->autoawq)\n",
      "  Using cached zstandard-0.21.0-cp310-cp310-manylinux_2_17_x86_64.manylinux2014_x86_64.whl (2.7 MB)\n",
      "Collecting portalocker (from sacrebleu==1.5.0->lm-eval->autoawq)\n",
      "  Obtaining dependency information for portalocker from https://files.pythonhosted.org/packages/17/9e/87671efcca80ba6203811540ed1f9c0462c1609d2281d7b7f53cef05da3d/portalocker-2.8.2-py3-none-any.whl.metadata\n",
      "  Using cached portalocker-2.8.2-py3-none-any.whl.metadata (8.5 kB)\n",
      "Requirement already satisfied: pillow!=8.3.*,>=5.3.0 in /usr/local/lib/python3.10/dist-packages (from torchvision->autoawq) (9.3.0)\n",
      "Collecting blessings (from colour-runner>=0.0.5->attributedict->autoawq)\n",
      "  Using cached blessings-1.7-py3-none-any.whl (18 kB)\n",
      "Requirement already satisfied: pygments in /usr/local/lib/python3.10/dist-packages (from colour-runner>=0.0.5->attributedict->autoawq) (2.16.1)\n",
      "Collecting pyarrow>=8.0.0 (from datasets>=2.0.0->lm-eval->autoawq)\n",
      "  Obtaining dependency information for pyarrow>=8.0.0 from https://files.pythonhosted.org/packages/a1/14/4ffed5e85b96f0c0ae9e026f940bf71ac7dfbfbffff9f3fe339e32bfce2c/pyarrow-13.0.0-cp310-cp310-manylinux_2_28_x86_64.whl.metadata\n",
      "  Using cached pyarrow-13.0.0-cp310-cp310-manylinux_2_28_x86_64.whl.metadata (3.0 kB)\n",
      "Collecting dill<0.3.8,>=0.3.0 (from datasets>=2.0.0->lm-eval->autoawq)\n",
      "  Obtaining dependency information for dill<0.3.8,>=0.3.0 from https://files.pythonhosted.org/packages/f5/3a/74a29b11cf2cdfcd6ba89c0cecd70b37cd1ba7b77978ce611eb7a146a832/dill-0.3.7-py3-none-any.whl.metadata\n",
      "  Using cached dill-0.3.7-py3-none-any.whl.metadata (9.9 kB)\n",
      "Collecting pandas (from datasets>=2.0.0->lm-eval->autoawq)\n",
      "  Obtaining dependency information for pandas from https://files.pythonhosted.org/packages/2f/0e/3b74e8f7c908082793adafb02753477f653ccd7e189f3ba070757d2d0e65/pandas-2.1.1-cp310-cp310-manylinux_2_17_x86_64.manylinux2014_x86_64.whl.metadata\n",
      "  Using cached pandas-2.1.1-cp310-cp310-manylinux_2_17_x86_64.manylinux2014_x86_64.whl.metadata (18 kB)\n",
      "Collecting xxhash (from datasets>=2.0.0->lm-eval->autoawq)\n",
      "  Obtaining dependency information for xxhash from https://files.pythonhosted.org/packages/13/c3/e942893f4864a424514c81640f114980cfd5aff7e7414d1e0255f4571111/xxhash-3.3.0-cp310-cp310-manylinux_2_17_x86_64.manylinux2014_x86_64.whl.metadata\n",
      "  Using cached xxhash-3.3.0-cp310-cp310-manylinux_2_17_x86_64.manylinux2014_x86_64.whl.metadata (12 kB)\n",
      "Collecting multiprocess (from datasets>=2.0.0->lm-eval->autoawq)\n",
      "  Obtaining dependency information for multiprocess from https://files.pythonhosted.org/packages/35/a8/36d8d7b3e46b377800d8dec47891cdf05842d1a2366909ae4a0c89fbc5e6/multiprocess-0.70.15-py310-none-any.whl.metadata\n",
      "  Using cached multiprocess-0.70.15-py310-none-any.whl.metadata (7.2 kB)\n",
      "Collecting fsspec[http]<2023.9.0,>=2023.1.0 (from datasets>=2.0.0->lm-eval->autoawq)\n",
      "  Obtaining dependency information for fsspec[http]<2023.9.0,>=2023.1.0 from https://files.pythonhosted.org/packages/e3/bd/4c0a4619494188a9db5d77e2100ab7d544a42e76b2447869d8e124e981d8/fsspec-2023.6.0-py3-none-any.whl.metadata\n",
      "  Using cached fsspec-2023.6.0-py3-none-any.whl.metadata (6.7 kB)\n",
      "Collecting aiohttp (from datasets>=2.0.0->lm-eval->autoawq)\n",
      "  Obtaining dependency information for aiohttp from https://files.pythonhosted.org/packages/3e/f6/fcda07dd1e72260989f0b22dde999ecfe80daa744f23ca167083683399bc/aiohttp-3.8.5-cp310-cp310-manylinux_2_17_x86_64.manylinux2014_x86_64.whl.metadata\n",
      "  Using cached aiohttp-3.8.5-cp310-cp310-manylinux_2_17_x86_64.manylinux2014_x86_64.whl.metadata (7.7 kB)\n",
      "Collecting ordered-set<4.2.0,>=4.0.2 (from deepdiff>=3.3.0->attributedict->autoawq)\n",
      "  Using cached ordered_set-4.1.0-py3-none-any.whl (7.6 kB)\n",
      "Requirement already satisfied: fsspec in /usr/local/lib/python3.10/dist-packages (from huggingface-hub<1.0,>=0.15.1->transformers>=4.32.0->autoawq) (2023.9.2)\n",
      "Requirement already satisfied: six>=1.11.0 in /usr/local/lib/python3.10/dist-packages (from inspecta>=0.1.0->attributedict->autoawq) (1.16.0)\n",
      "Collecting termcolor>=1.1.0 (from inspecta>=0.1.0->attributedict->autoawq)\n",
      "  Using cached termcolor-2.3.0-py3-none-any.whl (6.9 kB)\n",
      "Requirement already satisfied: charset-normalizer<4,>=2 in /usr/local/lib/python3.10/dist-packages (from requests->transformers>=4.32.0->autoawq) (2.1.1)\n",
      "Requirement already satisfied: idna<4,>=2.5 in /usr/local/lib/python3.10/dist-packages (from requests->transformers>=4.32.0->autoawq) (3.4)\n",
      "Requirement already satisfied: urllib3<3,>=1.21.1 in /usr/local/lib/python3.10/dist-packages (from requests->transformers>=4.32.0->autoawq) (1.26.13)\n",
      "Requirement already satisfied: certifi>=2017.4.17 in /usr/local/lib/python3.10/dist-packages (from requests->transformers>=4.32.0->autoawq) (2022.12.7)\n",
      "Collecting coloredlogs>=10.0 (from rootpath>=0.1.0->attributedict->autoawq)\n",
      "  Using cached coloredlogs-15.0.1-py2.py3-none-any.whl (46 kB)\n",
      "Collecting absl-py (from rouge-score>=0.0.4->lm-eval->autoawq)\n",
      "  Obtaining dependency information for absl-py from https://files.pythonhosted.org/packages/01/e4/dc0a1dcc4e74e08d7abedab278c795eef54a224363bb18f5692f416d834f/absl_py-2.0.0-py3-none-any.whl.metadata\n",
      "  Using cached absl_py-2.0.0-py3-none-any.whl.metadata (2.3 kB)\n",
      "Collecting nltk (from rouge-score>=0.0.4->lm-eval->autoawq)\n",
      "  Using cached nltk-3.8.1-py3-none-any.whl (1.5 MB)\n",
      "Collecting scipy>=1.5.0 (from scikit-learn>=0.24.1->lm-eval->autoawq)\n",
      "  Obtaining dependency information for scipy>=1.5.0 from https://files.pythonhosted.org/packages/18/44/7e8d208eb59a8224fcc474415104f13be9b378be8da63f76dfde12ec2b44/scipy-1.11.3-cp310-cp310-manylinux_2_17_x86_64.manylinux2014_x86_64.whl.metadata\n",
      "  Downloading scipy-1.11.3-cp310-cp310-manylinux_2_17_x86_64.manylinux2014_x86_64.whl.metadata (60 kB)\n",
      "\u001b[2K     \u001b[90m━━━━━━━━━━━━━━━━━━━━━━━━━━━━━━━━━━━━━━━━\u001b[0m \u001b[32m60.4/60.4 kB\u001b[0m \u001b[31m2.6 MB/s\u001b[0m eta \u001b[36m0:00:00\u001b[0m\n",
      "\u001b[?25hCollecting joblib>=1.1.1 (from scikit-learn>=0.24.1->lm-eval->autoawq)\n",
      "  Obtaining dependency information for joblib>=1.1.1 from https://files.pythonhosted.org/packages/10/40/d551139c85db202f1f384ba8bcf96aca2f329440a844f924c8a0040b6d02/joblib-1.3.2-py3-none-any.whl.metadata\n",
      "  Using cached joblib-1.3.2-py3-none-any.whl.metadata (5.4 kB)\n",
      "Collecting threadpoolctl>=2.0.0 (from scikit-learn>=0.24.1->lm-eval->autoawq)\n",
      "  Obtaining dependency information for threadpoolctl>=2.0.0 from https://files.pythonhosted.org/packages/81/12/fd4dea011af9d69e1cad05c75f3f7202cdcbeac9b712eea58ca779a72865/threadpoolctl-3.2.0-py3-none-any.whl.metadata\n",
      "  Using cached threadpoolctl-3.2.0-py3-none-any.whl.metadata (10.0 kB)\n",
      "Collecting cachetools>=5.3.1 (from tox>=3.0.0->attributedict->autoawq)\n",
      "  Obtaining dependency information for cachetools>=5.3.1 from https://files.pythonhosted.org/packages/a9/c9/c8a7710f2cedcb1db9224fdd4d8307c9e48cbddc46c18b515fefc0f1abbe/cachetools-5.3.1-py3-none-any.whl.metadata\n",
      "  Using cached cachetools-5.3.1-py3-none-any.whl.metadata (5.2 kB)\n",
      "Collecting chardet>=5.2 (from tox>=3.0.0->attributedict->autoawq)\n",
      "  Obtaining dependency information for chardet>=5.2 from https://files.pythonhosted.org/packages/38/6f/f5fbc992a329ee4e0f288c1fe0e2ad9485ed064cac731ed2fe47dcc38cbf/chardet-5.2.0-py3-none-any.whl.metadata\n",
      "  Using cached chardet-5.2.0-py3-none-any.whl.metadata (3.4 kB)\n",
      "Requirement already satisfied: colorama>=0.4.6 in /usr/local/lib/python3.10/dist-packages (from tox>=3.0.0->attributedict->autoawq) (0.4.6)\n",
      "Collecting filelock (from torch>=2.0.0->autoawq)\n",
      "  Obtaining dependency information for filelock from https://files.pythonhosted.org/packages/5e/5d/97afbafd9d584ff1b45fcb354a479a3609bd97f912f8f1f6c563cb1fae21/filelock-3.12.4-py3-none-any.whl.metadata\n",
      "  Using cached filelock-3.12.4-py3-none-any.whl.metadata (2.8 kB)\n",
      "Requirement already satisfied: platformdirs>=3.10 in /usr/local/lib/python3.10/dist-packages (from tox>=3.0.0->attributedict->autoawq) (3.10.0)\n",
      "Collecting pluggy>=1.3 (from tox>=3.0.0->attributedict->autoawq)\n",
      "  Obtaining dependency information for pluggy>=1.3 from https://files.pythonhosted.org/packages/05/b8/42ed91898d4784546c5f06c60506400548db3f7a4b3fb441cba4e5c17952/pluggy-1.3.0-py3-none-any.whl.metadata\n",
      "  Using cached pluggy-1.3.0-py3-none-any.whl.metadata (4.3 kB)\n",
      "Collecting pyproject-api>=1.6.1 (from tox>=3.0.0->attributedict->autoawq)\n",
      "  Obtaining dependency information for pyproject-api>=1.6.1 from https://files.pythonhosted.org/packages/cf/b4/39eea50542e50e93876ebc09c4349a9c9eee9f6b9c9d30f88c7dc5433db8/pyproject_api-1.6.1-py3-none-any.whl.metadata\n",
      "  Using cached pyproject_api-1.6.1-py3-none-any.whl.metadata (2.8 kB)\n",
      "Requirement already satisfied: tomli>=2.0.1 in /usr/local/lib/python3.10/dist-packages (from tox>=3.0.0->attributedict->autoawq) (2.0.1)\n",
      "Collecting virtualenv>=20.24.3 (from tox>=3.0.0->attributedict->autoawq)\n",
      "  Obtaining dependency information for virtualenv>=20.24.3 from https://files.pythonhosted.org/packages/4e/8b/f0d3a468c0186c603217a6656ea4f49259630e8ed99558501d92f6ff7dc3/virtualenv-20.24.5-py3-none-any.whl.metadata\n",
      "  Using cached virtualenv-20.24.5-py3-none-any.whl.metadata (4.5 kB)\n",
      "Requirement already satisfied: MarkupSafe>=2.0 in /usr/local/lib/python3.10/dist-packages (from jinja2->torch>=2.0.0->autoawq) (2.1.2)\n",
      "Requirement already satisfied: attrs>=19.2.0 in /usr/local/lib/python3.10/dist-packages (from jsonlines->lm-eval->autoawq) (23.1.0)\n",
      "Requirement already satisfied: setuptools in /usr/lib/python3/dist-packages (from pycountry->lm-eval->autoawq) (59.6.0)\n",
      "Collecting DataProperty<2,>=1.0.1 (from pytablewriter->lm-eval->autoawq)\n",
      "  Obtaining dependency information for DataProperty<2,>=1.0.1 from https://files.pythonhosted.org/packages/b1/3b/90ebd66ad57c588d6087e86e327436343e9cc60776a9445b79c6e80a022d/DataProperty-1.0.1-py3-none-any.whl.metadata\n",
      "  Using cached DataProperty-1.0.1-py3-none-any.whl.metadata (11 kB)\n",
      "Collecting mbstrdecoder<2,>=1.0.0 (from pytablewriter->lm-eval->autoawq)\n",
      "  Obtaining dependency information for mbstrdecoder<2,>=1.0.0 from https://files.pythonhosted.org/packages/c2/0f/726229136022b154895138bb10ba35e8435c4143f614cb5ad4d4e3fc21ec/mbstrdecoder-1.1.3-py3-none-any.whl.metadata\n",
      "  Using cached mbstrdecoder-1.1.3-py3-none-any.whl.metadata (4.0 kB)\n",
      "Collecting pathvalidate<4,>=2.3.0 (from pytablewriter->lm-eval->autoawq)\n",
      "  Obtaining dependency information for pathvalidate<4,>=2.3.0 from https://files.pythonhosted.org/packages/0c/ab/673cce13ab635fd755d206b18c0a371ef6e28ddbe25fadba9ae6c59f22a5/pathvalidate-3.2.0-py3-none-any.whl.metadata\n",
      "  Using cached pathvalidate-3.2.0-py3-none-any.whl.metadata (11 kB)\n",
      "Collecting tabledata<2,>=1.3.1 (from pytablewriter->lm-eval->autoawq)\n",
      "  Obtaining dependency information for tabledata<2,>=1.3.1 from https://files.pythonhosted.org/packages/06/e2/96b10ebc00d20b55967200e3d95c2137d91f58af1af672627683431c9d5c/tabledata-1.3.3-py3-none-any.whl.metadata\n",
      "  Using cached tabledata-1.3.3-py3-none-any.whl.metadata (3.7 kB)\n",
      "Collecting tcolorpy<1,>=0.0.5 (from pytablewriter->lm-eval->autoawq)\n",
      "  Obtaining dependency information for tcolorpy<1,>=0.0.5 from https://files.pythonhosted.org/packages/34/d0/8a701df46bf546fd155da02934b0bb2ac6ad4186e29f4a3297e744ab259d/tcolorpy-0.1.4-py3-none-any.whl.metadata\n",
      "  Using cached tcolorpy-0.1.4-py3-none-any.whl.metadata (5.7 kB)\n",
      "Collecting typepy[datetime]<2,>=1.2.0 (from pytablewriter->lm-eval->autoawq)\n",
      "  Obtaining dependency information for typepy[datetime]<2,>=1.2.0 from https://files.pythonhosted.org/packages/7f/31/0c7a66aa315cc8b2d1915fdd163283ba704307d7c0cf15b31e08c51aedba/typepy-1.3.1-py3-none-any.whl.metadata\n",
      "  Using cached typepy-1.3.1-py3-none-any.whl.metadata (9.3 kB)\n",
      "Requirement already satisfied: mpmath>=0.19 in /usr/local/lib/python3.10/dist-packages (from sympy->torch>=2.0.0->autoawq) (1.2.1)\n",
      "Collecting humanfriendly>=9.1 (from coloredlogs>=10.0->rootpath>=0.1.0->attributedict->autoawq)\n",
      "  Using cached humanfriendly-10.0-py2.py3-none-any.whl (86 kB)\n",
      "Collecting multidict<7.0,>=4.5 (from aiohttp->datasets>=2.0.0->lm-eval->autoawq)\n",
      "  Using cached multidict-6.0.4-cp310-cp310-manylinux_2_17_x86_64.manylinux2014_x86_64.whl (114 kB)\n",
      "Collecting async-timeout<5.0,>=4.0.0a3 (from aiohttp->datasets>=2.0.0->lm-eval->autoawq)\n",
      "  Obtaining dependency information for async-timeout<5.0,>=4.0.0a3 from https://files.pythonhosted.org/packages/a7/fa/e01228c2938de91d47b307831c62ab9e4001e747789d0b05baf779a6488c/async_timeout-4.0.3-py3-none-any.whl.metadata\n",
      "  Using cached async_timeout-4.0.3-py3-none-any.whl.metadata (4.2 kB)\n",
      "Collecting yarl<2.0,>=1.0 (from aiohttp->datasets>=2.0.0->lm-eval->autoawq)\n",
      "  Using cached yarl-1.9.2-cp310-cp310-manylinux_2_17_x86_64.manylinux2014_x86_64.whl (268 kB)\n",
      "Collecting frozenlist>=1.1.1 (from aiohttp->datasets>=2.0.0->lm-eval->autoawq)\n",
      "  Obtaining dependency information for frozenlist>=1.1.1 from https://files.pythonhosted.org/packages/1e/28/74b8b6451c89c070d34e753d8b65a1e4ce508a6808b18529f36e8c0e2184/frozenlist-1.4.0-cp310-cp310-manylinux_2_5_x86_64.manylinux1_x86_64.manylinux_2_17_x86_64.manylinux2014_x86_64.whl.metadata\n",
      "  Using cached frozenlist-1.4.0-cp310-cp310-manylinux_2_5_x86_64.manylinux1_x86_64.manylinux_2_17_x86_64.manylinux2014_x86_64.whl.metadata (5.2 kB)\n",
      "Collecting aiosignal>=1.1.2 (from aiohttp->datasets>=2.0.0->lm-eval->autoawq)\n",
      "  Using cached aiosignal-1.3.1-py3-none-any.whl (7.6 kB)\n",
      "Requirement already satisfied: python-dateutil<3.0.0,>=2.8.0 in /usr/local/lib/python3.10/dist-packages (from typepy[datetime]<2,>=1.2.0->pytablewriter->lm-eval->autoawq) (2.8.2)\n",
      "Collecting pytz>=2018.9 (from typepy[datetime]<2,>=1.2.0->pytablewriter->lm-eval->autoawq)\n",
      "  Obtaining dependency information for pytz>=2018.9 from https://files.pythonhosted.org/packages/32/4d/aaf7eff5deb402fd9a24a1449a8119f00d74ae9c2efa79f8ef9994261fc2/pytz-2023.3.post1-py2.py3-none-any.whl.metadata\n",
      "  Using cached pytz-2023.3.post1-py2.py3-none-any.whl.metadata (22 kB)\n",
      "Collecting distlib<1,>=0.3.7 (from virtualenv>=20.24.3->tox>=3.0.0->attributedict->autoawq)\n",
      "  Obtaining dependency information for distlib<1,>=0.3.7 from https://files.pythonhosted.org/packages/43/a0/9ba967fdbd55293bacfc1507f58e316f740a3b231fc00e3d86dc39bc185a/distlib-0.3.7-py2.py3-none-any.whl.metadata\n",
      "  Using cached distlib-0.3.7-py2.py3-none-any.whl.metadata (5.1 kB)\n",
      "Requirement already satisfied: click in /usr/local/lib/python3.10/dist-packages (from nltk->rouge-score>=0.0.4->lm-eval->autoawq) (8.1.7)\n",
      "Collecting tzdata>=2022.1 (from pandas->datasets>=2.0.0->lm-eval->autoawq)\n",
      "  Using cached tzdata-2023.3-py2.py3-none-any.whl (341 kB)\n",
      "Using cached autoawq-0.1.0-cp310-cp310-manylinux2014_x86_64.whl (17.4 MB)\n",
      "Using cached accelerate-0.23.0-py3-none-any.whl (258 kB)\n",
      "Using cached protobuf-4.24.3-cp37-abi3-manylinux2014_x86_64.whl (311 kB)\n",
      "Using cached coverage-7.3.1-cp310-cp310-manylinux_2_5_x86_64.manylinux1_x86_64.manylinux_2_17_x86_64.manylinux2014_x86_64.whl (229 kB)\n",
      "Using cached datasets-2.14.5-py3-none-any.whl (519 kB)\n",
      "Using cached deepdiff-6.5.0-py3-none-any.whl (71 kB)\n",
      "Using cached openai-0.28.1-py3-none-any.whl (76 kB)\n",
      "Using cached pybind11-2.11.1-py3-none-any.whl (227 kB)\n",
      "Using cached scikit_learn-1.3.1-cp310-cp310-manylinux_2_17_x86_64.manylinux2014_x86_64.whl (10.8 MB)\n",
      "Using cached tox-4.11.3-py3-none-any.whl (153 kB)\n",
      "Using cached filelock-3.12.4-py3-none-any.whl (11 kB)\n",
      "Using cached jsonlines-4.0.0-py3-none-any.whl (8.7 kB)\n",
      "Downloading numexpr-2.8.7-cp310-cp310-manylinux_2_17_x86_64.manylinux2014_x86_64.whl (384 kB)\n",
      "\u001b[2K   \u001b[90m━━━━━━━━━━━━━━━━━━━━━━━━━━━━━━━━━━━━━━━━\u001b[0m \u001b[32m384.1/384.1 kB\u001b[0m \u001b[31m10.0 MB/s\u001b[0m eta \u001b[36m0:00:00\u001b[0m00:01\u001b[0m\n",
      "\u001b[?25hUsing cached pytablewriter-1.1.0-py3-none-any.whl (109 kB)\n",
      "Using cached cachetools-5.3.1-py3-none-any.whl (9.3 kB)\n",
      "Using cached chardet-5.2.0-py3-none-any.whl (199 kB)\n",
      "Using cached DataProperty-1.0.1-py3-none-any.whl (27 kB)\n",
      "Using cached dill-0.3.7-py3-none-any.whl (115 kB)\n",
      "Using cached aiohttp-3.8.5-cp310-cp310-manylinux_2_17_x86_64.manylinux2014_x86_64.whl (1.0 MB)\n",
      "Using cached joblib-1.3.2-py3-none-any.whl (302 kB)\n",
      "Using cached mbstrdecoder-1.1.3-py3-none-any.whl (7.8 kB)\n",
      "Using cached pathvalidate-3.2.0-py3-none-any.whl (23 kB)\n",
      "Using cached pluggy-1.3.0-py3-none-any.whl (18 kB)\n",
      "Using cached pyarrow-13.0.0-cp310-cp310-manylinux_2_28_x86_64.whl (40.0 MB)\n",
      "Using cached pyproject_api-1.6.1-py3-none-any.whl (12 kB)\n",
      "Downloading scipy-1.11.3-cp310-cp310-manylinux_2_17_x86_64.manylinux2014_x86_64.whl (36.4 MB)\n",
      "\u001b[2K   \u001b[90m━━━━━━━━━━━━━━━━━━━━━━━━━━━━━━━━━━━━━━━━\u001b[0m \u001b[32m36.4/36.4 MB\u001b[0m \u001b[31m34.1 MB/s\u001b[0m eta \u001b[36m0:00:00\u001b[0m00:01\u001b[0m00:01\u001b[0m\n",
      "\u001b[?25hUsing cached tabledata-1.3.3-py3-none-any.whl (11 kB)\n",
      "Using cached tcolorpy-0.1.4-py3-none-any.whl (7.9 kB)\n",
      "Using cached threadpoolctl-3.2.0-py3-none-any.whl (15 kB)\n",
      "Using cached virtualenv-20.24.5-py3-none-any.whl (3.7 MB)\n",
      "Using cached absl_py-2.0.0-py3-none-any.whl (130 kB)\n",
      "Using cached cmake-3.27.5-py2.py3-none-manylinux2014_x86_64.manylinux_2_17_x86_64.whl (26.1 MB)\n",
      "Using cached fsspec-2023.6.0-py3-none-any.whl (163 kB)\n",
      "Using cached multiprocess-0.70.15-py310-none-any.whl (134 kB)\n",
      "Using cached pandas-2.1.1-cp310-cp310-manylinux_2_17_x86_64.manylinux2014_x86_64.whl (12.3 MB)\n",
      "Using cached portalocker-2.8.2-py3-none-any.whl (17 kB)\n",
      "Using cached xxhash-3.3.0-cp310-cp310-manylinux_2_17_x86_64.manylinux2014_x86_64.whl (194 kB)\n",
      "Using cached async_timeout-4.0.3-py3-none-any.whl (5.7 kB)\n",
      "Using cached distlib-0.3.7-py2.py3-none-any.whl (468 kB)\n",
      "Using cached frozenlist-1.4.0-cp310-cp310-manylinux_2_5_x86_64.manylinux1_x86_64.manylinux_2_17_x86_64.manylinux2014_x86_64.whl (225 kB)\n",
      "Using cached pytz-2023.3.post1-py2.py3-none-any.whl (502 kB)\n",
      "Using cached typepy-1.3.1-py3-none-any.whl (31 kB)\n",
      "Installing collected packages: texttable, sqlitedict, pytz, distlib, cmake, zstandard, xxhash, tzdata, tqdm-multiprocess, toml, threadpoolctl, termcolor, tcolorpy, tabulate, scipy, pyproject-api, pycountry, pybind11, pyarrow, protobuf, portalocker, pluggy, pathvalidate, ordered-set, numexpr, multidict, jsonlines, joblib, humanfriendly, fsspec, frozenlist, filelock, dill, coverage, chardet, cachetools, blessings, async-timeout, absl-py, yarl, virtualenv, scikit-learn, sacrebleu, pandas, nltk, multiprocess, mbstrdecoder, deepdiff, colour-runner, coloredlogs, codecov, aiosignal, typepy, tox, rouge-score, aiohttp, rootpath, openai, inspecta, datasets, DataProperty, tabledata, attributedict, pytablewriter, lm-eval, accelerate, autoawq\n",
      "  Attempting uninstall: fsspec\n",
      "    Found existing installation: fsspec 2023.9.2\n",
      "    Uninstalling fsspec-2023.9.2:\n",
      "      Successfully uninstalled fsspec-2023.9.2\n",
      "  Attempting uninstall: filelock\n",
      "    Found existing installation: filelock 3.9.0\n",
      "    Uninstalling filelock-3.9.0:\n",
      "      Successfully uninstalled filelock-3.9.0\n",
      "Successfully installed DataProperty-1.0.1 absl-py-2.0.0 accelerate-0.23.0 aiohttp-3.8.5 aiosignal-1.3.1 async-timeout-4.0.3 attributedict-0.3.0 autoawq-0.1.0 blessings-1.7 cachetools-5.3.1 chardet-5.2.0 cmake-3.27.5 codecov-2.1.13 coloredlogs-15.0.1 colour-runner-0.1.1 coverage-7.3.1 datasets-2.14.5 deepdiff-6.5.0 dill-0.3.7 distlib-0.3.7 filelock-3.12.4 frozenlist-1.4.0 fsspec-2023.6.0 humanfriendly-10.0 inspecta-0.1.3 joblib-1.3.2 jsonlines-4.0.0 lm-eval-0.3.0 mbstrdecoder-1.1.3 multidict-6.0.4 multiprocess-0.70.15 nltk-3.8.1 numexpr-2.8.7 openai-0.28.1 ordered-set-4.1.0 pandas-2.1.1 pathvalidate-3.2.0 pluggy-1.3.0 portalocker-2.8.2 protobuf-4.24.3 pyarrow-13.0.0 pybind11-2.11.1 pycountry-22.3.5 pyproject-api-1.6.1 pytablewriter-1.1.0 pytz-2023.3.post1 rootpath-0.1.1 rouge-score-0.1.2 sacrebleu-1.5.0 scikit-learn-1.3.1 scipy-1.11.3 sqlitedict-2.1.0 tabledata-1.3.3 tabulate-0.9.0 tcolorpy-0.1.4 termcolor-2.3.0 texttable-1.6.7 threadpoolctl-3.2.0 toml-0.10.2 tox-4.11.3 tqdm-multiprocess-0.0.11 typepy-1.3.1 tzdata-2023.3 virtualenv-20.24.5 xxhash-3.3.0 yarl-1.9.2 zstandard-0.21.0\n",
      "\u001b[33mWARNING: Running pip as the 'root' user can result in broken permissions and conflicting behaviour with the system package manager. It is recommended to use a virtual environment instead: https://pip.pypa.io/warnings/venv\u001b[0m\u001b[33m\n",
      "\u001b[0m"
     ]
    }
   ],
   "source": [
    "!pip install autoawq"
   ]
  },
  {
   "cell_type": "code",
   "execution_count": 6,
   "id": "5b4cfdc2-f644-4946-8b93-95379e74aea6",
   "metadata": {
    "tags": []
   },
   "outputs": [
    {
     "ename": "TypeError",
     "evalue": "plamo isn't supported yet.",
     "output_type": "error",
     "traceback": [
      "\u001b[0;31m---------------------------------------------------------------------------\u001b[0m",
      "\u001b[0;31mTypeError\u001b[0m                                 Traceback (most recent call last)",
      "File \u001b[0;32m<timed exec>:9\u001b[0m\n",
      "File \u001b[0;32m/usr/local/lib/python3.10/dist-packages/awq/models/auto.py:32\u001b[0m, in \u001b[0;36mAutoAWQForCausalLM.from_pretrained\u001b[0;34m(self, model_path, trust_remote_code, safetensors, device_map, **model_init_kwargs)\u001b[0m\n\u001b[1;32m     29\u001b[0m \u001b[38;5;129m@classmethod\u001b[39m\n\u001b[1;32m     30\u001b[0m \u001b[38;5;28;01mdef\u001b[39;00m \u001b[38;5;21mfrom_pretrained\u001b[39m(\u001b[38;5;28mself\u001b[39m, model_path, trust_remote_code\u001b[38;5;241m=\u001b[39m\u001b[38;5;28;01mTrue\u001b[39;00m, safetensors\u001b[38;5;241m=\u001b[39m\u001b[38;5;28;01mFalse\u001b[39;00m,\n\u001b[1;32m     31\u001b[0m                           device_map\u001b[38;5;241m=\u001b[39m\u001b[38;5;28;01mNone\u001b[39;00m, \u001b[38;5;241m*\u001b[39m\u001b[38;5;241m*\u001b[39mmodel_init_kwargs) \u001b[38;5;241m-\u001b[39m\u001b[38;5;241m>\u001b[39m BaseAWQForCausalLM:\n\u001b[0;32m---> 32\u001b[0m     model_type \u001b[38;5;241m=\u001b[39m \u001b[43mcheck_and_get_model_type\u001b[49m\u001b[43m(\u001b[49m\u001b[43mmodel_path\u001b[49m\u001b[43m,\u001b[49m\u001b[43m \u001b[49m\u001b[43mtrust_remote_code\u001b[49m\u001b[43m)\u001b[49m\n\u001b[1;32m     34\u001b[0m     \u001b[38;5;28;01mreturn\u001b[39;00m AWQ_CAUSAL_LM_MODEL_MAP[model_type]\u001b[38;5;241m.\u001b[39mfrom_pretrained(\n\u001b[1;32m     35\u001b[0m         model_path, model_type, trust_remote_code\u001b[38;5;241m=\u001b[39mtrust_remote_code, safetensors\u001b[38;5;241m=\u001b[39msafetensors,\n\u001b[1;32m     36\u001b[0m         device_map\u001b[38;5;241m=\u001b[39mdevice_map, \u001b[38;5;241m*\u001b[39m\u001b[38;5;241m*\u001b[39mmodel_init_kwargs\n\u001b[1;32m     37\u001b[0m     )\n",
      "File \u001b[0;32m/usr/local/lib/python3.10/dist-packages/awq/models/auto.py:20\u001b[0m, in \u001b[0;36mcheck_and_get_model_type\u001b[0;34m(model_dir, trust_remote_code)\u001b[0m\n\u001b[1;32m     18\u001b[0m config \u001b[38;5;241m=\u001b[39m AutoConfig\u001b[38;5;241m.\u001b[39mfrom_pretrained(model_dir, trust_remote_code\u001b[38;5;241m=\u001b[39mtrust_remote_code)\n\u001b[1;32m     19\u001b[0m \u001b[38;5;28;01mif\u001b[39;00m config\u001b[38;5;241m.\u001b[39mmodel_type \u001b[38;5;129;01mnot\u001b[39;00m \u001b[38;5;129;01min\u001b[39;00m AWQ_CAUSAL_LM_MODEL_MAP\u001b[38;5;241m.\u001b[39mkeys():\n\u001b[0;32m---> 20\u001b[0m     \u001b[38;5;28;01mraise\u001b[39;00m \u001b[38;5;167;01mTypeError\u001b[39;00m(\u001b[38;5;124mf\u001b[39m\u001b[38;5;124m\"\u001b[39m\u001b[38;5;132;01m{\u001b[39;00mconfig\u001b[38;5;241m.\u001b[39mmodel_type\u001b[38;5;132;01m}\u001b[39;00m\u001b[38;5;124m isn\u001b[39m\u001b[38;5;124m'\u001b[39m\u001b[38;5;124mt supported yet.\u001b[39m\u001b[38;5;124m\"\u001b[39m)\n\u001b[1;32m     21\u001b[0m model_type \u001b[38;5;241m=\u001b[39m config\u001b[38;5;241m.\u001b[39mmodel_type\n\u001b[1;32m     22\u001b[0m \u001b[38;5;28;01mreturn\u001b[39;00m model_type\n",
      "\u001b[0;31mTypeError\u001b[0m: plamo isn't supported yet."
     ]
    }
   ],
   "source": [
    "%%time\n",
    "from awq import AutoAWQForCausalLM\n",
    "from transformers import AutoTokenizer\n",
    "\n",
    "model_path = 'pfnet/plamo-13b'\n",
    "quant_path = 'plamo-13b-awq'\n",
    "quant_config = { \"zero_point\": True, \"q_group_size\": 128, \"w_bit\": 4 }\n",
    "\n",
    "# Load model\n",
    "model = AutoAWQForCausalLM.from_pretrained(model_path)\n",
    "tokenizer = AutoTokenizer.from_pretrained(model_path, trust_remote_code=True)\n",
    "\n",
    "# Quantize\n",
    "model.quantize(tokenizer, quant_config=quant_config)\n",
    "\n",
    "# Save quantized model\n",
    "model.save_quantized(quant_path)\n",
    "tokenizer.save_pretrained(quant_path)"
   ]
  },
  {
   "cell_type": "code",
   "execution_count": null,
   "id": "75b9cb8d-21f7-4c54-86d3-06cc756ebb00",
   "metadata": {},
   "outputs": [],
   "source": [
    "%%time\n",
    "from awq import AutoAWQForCausalLM\n",
    "from transformers import AutoTokenizer, TextStreamer\n",
    "import torch\n",
    "\n",
    "quant_path = './plamo-13b-awq'\n",
    "quant_file = \"pytorch_model.bin\"\n",
    "\n",
    "# Load model\n",
    "model = AutoAWQForCausalLM.from_quantized(quant_path, quant_file, fuse_layers=True)\n",
    "tokenizer = AutoTokenizer.from_pretrained(quant_path, trust_remote_code=True)\n",
    "streamer = TextStreamer(tokenizer, skip_special_tokens=True)\n",
    "\n",
    "# Convert prompt to tokens\n",
    "B_INST, E_INST = \"[INST]\", \"[/INST]\"\n",
    "B_SYS, E_SYS = \"<<SYS>>\\n\", \"\\n<</SYS>>\\n\\n\"\n",
    "DEFAULT_SYSTEM_PROMPT = \"あなたは誠実で優秀な日本人のアシスタントです。\"\n",
    "\n",
    "\n",
    "def chat(text, max_new_tokens=512):\n",
    "    prompt = \"{bos_token}{b_inst} {system}{prompt} {e_inst} \".format(\n",
    "        bos_token=tokenizer.bos_token,\n",
    "        b_inst=B_INST,\n",
    "        system=f\"{B_SYS}{DEFAULT_SYSTEM_PROMPT}{E_SYS}\",\n",
    "        prompt=text,\n",
    "        e_inst=E_INST,\n",
    "    )\n",
    "\n",
    "    tokens = tokenizer(\n",
    "        prompt,\n",
    "        return_tensors='pt'\n",
    "    ).input_ids.cuda()\n",
    "\n",
    "    # Generate output\n",
    "    generation_output = model.generate(\n",
    "        tokens,\n",
    "        do_sample=True,\n",
    "        temperature=0.7,\n",
    "        top_p=0.95,\n",
    "        top_k=40,\n",
    "        max_new_tokens=max_new_tokens\n",
    "    )\n",
    "\n",
    "    return tokenizer.decode(generation_output[0])"
   ]
  },
  {
   "cell_type": "code",
   "execution_count": null,
   "id": "98e7104f-119f-479e-b244-73bfdf1d0201",
   "metadata": {},
   "outputs": [],
   "source": [
    "%%time\n",
    "print(chat(\"クマが海辺に行ってアザラシと友達になり、最終的には家に帰るというプロットの短編小説を書いてください。\"))"
   ]
  }
 ],
 "metadata": {
  "kernelspec": {
   "display_name": "Python 3 (ipykernel)",
   "language": "python",
   "name": "python3"
  },
  "language_info": {
   "codemirror_mode": {
    "name": "ipython",
    "version": 3
   },
   "file_extension": ".py",
   "mimetype": "text/x-python",
   "name": "python",
   "nbconvert_exporter": "python",
   "pygments_lexer": "ipython3",
   "version": "3.10.12"
  }
 },
 "nbformat": 4,
 "nbformat_minor": 5
}
